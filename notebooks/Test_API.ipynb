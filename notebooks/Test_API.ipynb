{
 "cells": [
  {
   "cell_type": "code",
   "execution_count": 1,
   "metadata": {},
   "outputs": [],
   "source": [
    "import pandas as pd\n",
    "#set root directory to parent from this current directory\n",
    "import os\n",
    "os.chdir(os.path.dirname(os.getcwd()))\n",
    "import requests\n"
   ]
  },
  {
   "cell_type": "code",
   "execution_count": 2,
   "metadata": {},
   "outputs": [],
   "source": [
    "with open(r\"C:\\Users\\cruz\" + r'\\API_openAI.txt', 'r') as f:\n",
    "    read_api_key = f.readline()"
   ]
  },
  {
   "cell_type": "markdown",
   "metadata": {},
   "source": [
    "# Test local API "
   ]
  },
  {
   "cell_type": "code",
   "execution_count": 3,
   "metadata": {},
   "outputs": [],
   "source": [
    "data = {\n",
    "    \"product_description\": \"avion\",\n",
    "    \"database_name\": \"usnpsc\" \n",
    "}"
   ]
  },
  {
   "cell_type": "markdown",
   "metadata": {},
   "source": [
    "# Test local API"
   ]
  },
  {
   "cell_type": "code",
   "execution_count": 4,
   "metadata": {},
   "outputs": [
    {
     "name": "stdout",
     "output_type": "stream",
     "text": [
      "API Response: [{'CO2_emitted': None, 'emission_factor': 0.2, 'emission_factor_unit': 'kg CO2e', 'functional_unit': 'euros spent', 'matched_category': 'SPECTROMETRES UV-VISIBLE ET INFRA ROUGE (HORS LECTEURS DE MICROPLAQUES)', 'matched_code': 'SE12', 'similarity_score': 0.85}, {'CO2_emitted': None, 'emission_factor': 0.2, 'emission_factor_unit': 'kg CO2e', 'functional_unit': 'euros spent', 'matched_category': 'SPECTROPHOTOMETRIE UV-VISIBLE : LECTEURS DE MICROPLAQUES (SANS RADIOACTIVITE)', 'matched_code': 'SE11', 'similarity_score': 0.85}, {'CO2_emitted': None, 'emission_factor': 0.2, 'emission_factor_unit': 'kg CO2e', 'functional_unit': 'euros spent', 'matched_category': 'SPECTROPHOTOMETRIE UV-VISIBLE : AUTRE MATERIEL ET CONSOMMABLES DEDIES', 'matched_code': 'SE13', 'similarity_score': 0.85}]\n"
     ]
    }
   ],
   "source": [
    "# The URL where your Flask API is running\n",
    "api_url = \"https://carbon-ai.onrender.com/search\"\n",
    "\n",
    "# The data you want to send to the API (example values)\n",
    "data = {\n",
    "    \"product_description\": \"spectrophotometre\",  # Example product description\n",
    "    \"database_name\": \"labo1point5\",  # Example database name\n",
    "    \"top_n\": 3  # Example top_n value\n",
    "}\n",
    "\n",
    "# Make a POST request to the API\n",
    "response = requests.post(api_url, json=data)\n",
    "\n",
    "# Check if the request was successful\n",
    "if response.status_code == 200:\n",
    "    # Get the JSON response data\n",
    "    result = response.json()\n",
    "    print(\"API Response:\", result)\n",
    "else:\n",
    "    print(\"Failed to call API:\", response.status_code, response.text)\n"
   ]
  },
  {
   "cell_type": "code",
   "execution_count": 34,
   "metadata": {},
   "outputs": [
    {
     "data": {
      "text/plain": [
       "[{'CO2_emitted': 391385.80748096755,\n",
       "  'emission_factor': 391.38580748096757,\n",
       "  'emission_factor_unit': 'g CO2e/unite fonctionnelle',\n",
       "  'functional_unit': 'pkm',\n",
       "  'matched_category': 'Avion',\n",
       "  'matched_code': 'Transport de passagers Aérien Avion  Intercontinental, business',\n",
       "  'similarity_score': 0.84},\n",
       " {'CO2_emitted': 189451.91908193487,\n",
       "  'emission_factor': 189.45191908193488,\n",
       "  'emission_factor_unit': 'g CO2e/unite fonctionnelle',\n",
       "  'functional_unit': 'pkm',\n",
       "  'matched_category': 'Avion',\n",
       "  'matched_code': 'Transport de passagers Aérien Avion  Intercontinental, economy',\n",
       "  'similarity_score': 0.84},\n",
       " {'CO2_emitted': 237190.5832595212,\n",
       "  'emission_factor': 237.1905832595212,\n",
       "  'emission_factor_unit': 'g CO2e/unite fonctionnelle',\n",
       "  'functional_unit': 'pkm',\n",
       "  'matched_category': 'Avion',\n",
       "  'matched_code': 'Transport de passagers Aérien Avion  Intercontinental, moyenne',\n",
       "  'similarity_score': 0.84}]"
      ]
     },
     "execution_count": 34,
     "metadata": {},
     "output_type": "execute_result"
    }
   ],
   "source": [
    "result"
   ]
  },
  {
   "cell_type": "markdown",
   "metadata": {},
   "source": [
    "# Local API\n"
   ]
  },
  {
   "cell_type": "code",
   "execution_count": 3,
   "metadata": {},
   "outputs": [],
   "source": [
    "from CO2_calculator_string_API import *"
   ]
  },
  {
   "cell_type": "code",
   "execution_count": 4,
   "metadata": {},
   "outputs": [],
   "source": [
    "data = {\n",
    "    \"product_description\": \"spectrophotometre\",  # Example product description\n",
    "    \"api_key\": read_api_key,\n",
    "    \"database_name\": \"labo1point5\",  # Example database name\n",
    "    \"top_n\": 3 , # Example top_n value\n",
    "    \"GPT_instructions\": \"In the subject of quantuum physics, give me the most accurate and precise.\"\n",
    "}"
   ]
  },
  {
   "cell_type": "code",
   "execution_count": 44,
   "metadata": {},
   "outputs": [],
   "source": [
    "\n",
    "def llm_evaluation(option, instruction):\n",
    "    # Construct a prompt asking for a numerical score based on the instruction and the option\n",
    "    prompt = f\"Based on the instruction: '{instruction}', rate the relevance of the following option on a scale from 1 to 10. Higher scores indicate better relevance. Option: {option}\"\n",
    "\n",
    "    # Make an API call to the OpenAI ChatCompletion model\n",
    "    response = openai.ChatCompletion.create(\n",
    "        model=\"gpt-3.5-turbo\",  # Specify the GPT-3.5-turbo model\n",
    "        messages=[\n",
    "            {\"role\": \"system\", \"content\": \"You are a knowledgeable assistant tasked with rating options\"},\n",
    "            {\"role\": \"user\", \"content\": prompt}\n",
    "        ],\n",
    "        temperature=0.1  # A lower temperature might encourage more deterministic outputs\n",
    "    )\n",
    "\n",
    "    # Extract the text response from the API and attempt to convert to integer\n",
    "    try:\n",
    "        # Extracting the first line in case the model provides additional unwanted text\n",
    "        text_response = response['choices'][0]['message']['content'].strip().split('\\n')[0]\n",
    "        # Convert the response to an integer\n",
    "        score = int(text_response)\n",
    "    except ValueError:\n",
    "        # In case the conversion fails, log an error or handle it as appropriate\n",
    "        print(f\"Failed to convert response to integer for option: {option}\")\n",
    "        score = 0  # Default score in case of failure\n",
    "\n",
    "    return score\n",
    "\n",
    "\n",
    "# Example usage\n",
    "matches = ['SPECTROMETRES UV-VISIBLE ET INFRA ROUGE (HORS LECTEURS DE MICROPLAQUES)', 'SPECTROPHOTOMETRIE UV-VISIBLE : LECTEURS DE MICROPLAQUES (SANS RADIOACTIVITE)', 'SPECTROPHOTOMETRIE UV-VISIBLE : AUTRE MATERIEL ET CONSOMMABLES DEDIES']  # This should be your actual matches list\n",
    "best_match = llm_evaluation(matches, \"In the subject of quantuum physics, give me the most accurate and precise.\")\n",
    "print(\"Best Match:\", best_match)\n"
   ]
  },
  {
   "cell_type": "code",
   "execution_count": 3,
   "metadata": {},
   "outputs": [
    {
     "name": "stdout",
     "output_type": "stream",
     "text": [
      "Cumulative inflation rate from 2019-01-01 to 2023-05-05 is 20.12%\n"
     ]
    }
   ],
   "source": [
    "from fredapi import Fred\n",
    "import pandas as pd\n",
    "import numpy as np\n",
    "\n",
    "# Replace 'YOUR_API_KEY' with your actual FRED API key\n",
    "fred = Fred(api_key='7e03169672328a07a6c531d3698d5d54')\n",
    "\n",
    "# Function to fetch CPI data and calculate cumulative inflation rate\n",
    "def get_cpi_data(start_date, end_date):\n",
    "    cpi = fred.get_series('CPIAUCSL', observation_start=start_date, observation_end=end_date)\n",
    "    return cpi\n",
    "\n",
    "def calculate_cumulative_inflation(cpi_data):\n",
    "    # Calculate monthly percentage changes\n",
    "    cpi_monthly_pct_change = cpi_data.pct_change().dropna() * 100\n",
    "    \n",
    "    # Calculate cumulative inflation\n",
    "    cumulative_inflation = (np.prod(1 + cpi_monthly_pct_change / 100) - 1) * 100\n",
    "    return cumulative_inflation\n",
    "\n",
    "# Example usage to calculate inflation rate from 2019-01-01 to 2023-05-05\n",
    "start_date = '2019-01-01'\n",
    "end_date = '2023-05-05'\n",
    "cpi_data = get_cpi_data(start_date, end_date)\n",
    "cumulative_inflation_rate = calculate_cumulative_inflation(cpi_data)\n",
    "print(f'Cumulative inflation rate from {start_date} to {end_date} is {cumulative_inflation_rate:.2f}%')\n"
   ]
  },
  {
   "cell_type": "code",
   "execution_count": 6,
   "metadata": {},
   "outputs": [
    {
     "name": "stdout",
     "output_type": "stream",
     "text": [
      "Inflation factor from 2019-01-01 to 2023-01-01 is 1.1680\n",
      "Price without inflation: 85.62 EUR\n"
     ]
    }
   ],
   "source": [
    "from fredapi import Fred\n",
    "import pandas as pd\n",
    "\n",
    "# Replace 'YOUR_API_KEY' with your actual FRED API key\n",
    "fred = Fred(api_key='7e03169672328a07a6c531d3698d5d54')\n",
    "\n",
    "# Function to fetch HICP data for the Eurozone\n",
    "def get_hicp_data(start_date, end_date):\n",
    "    hicp = fred.get_series('CP0000EZ19M086NEST', observation_start=start_date, observation_end=end_date)\n",
    "    return hicp\n",
    "\n",
    "# Function to calculate the inflation factor\n",
    "def calculate_inflation_factor(current_date, historical_date):\n",
    "    # Fetch HICP data for the range including both dates\n",
    "    start_date = min(current_date, historical_date)\n",
    "    end_date = max(current_date, historical_date)\n",
    "    \n",
    "    hicp_data = get_hicp_data(start_date, end_date)\n",
    "    \n",
    "    # Get the HICP values for the specific dates\n",
    "    hicp_current = hicp_data[current_date]\n",
    "    hicp_historical = hicp_data[historical_date]\n",
    "    \n",
    "    # Calculate the inflation factor\n",
    "    inflation_factor = hicp_current / hicp_historical\n",
    "    return inflation_factor\n",
    "\n",
    "# Function to adjust price for inflation\n",
    "def adjust_price_for_inflation(price, current_date, historical_date):\n",
    "    inflation_factor = calculate_inflation_factor(current_date, historical_date)\n",
    "    adjusted_price = price / inflation_factor\n",
    "    return adjusted_price\n",
    "\n",
    "# Example usage\n",
    "current_date = '2023-01-01'\n",
    "historical_date = '2019-01-01'\n",
    "price = 100  # Example price in EUR\n",
    "\n",
    "inflation_factor = calculate_inflation_factor(current_date, historical_date)\n",
    "adjusted_price = adjust_price_for_inflation(price, current_date, historical_date)\n",
    "print(f'Inflation factor from {historical_date} to {current_date} is {inflation_factor:.4f}')\n",
    "print(f'Price without inflation: {adjusted_price:.2f} EUR')\n"
   ]
  },
  {
   "cell_type": "code",
   "execution_count": null,
   "metadata": {},
   "outputs": [],
   "source": []
  }
 ],
 "metadata": {
  "kernelspec": {
   "display_name": "openai",
   "language": "python",
   "name": "python3"
  },
  "language_info": {
   "codemirror_mode": {
    "name": "ipython",
    "version": 3
   },
   "file_extension": ".py",
   "mimetype": "text/x-python",
   "name": "python",
   "nbconvert_exporter": "python",
   "pygments_lexer": "ipython3",
   "version": "3.12.1"
  }
 },
 "nbformat": 4,
 "nbformat_minor": 2
}
