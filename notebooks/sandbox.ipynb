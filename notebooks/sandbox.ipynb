{
 "cells": [
  {
   "cell_type": "code",
   "execution_count": 1,
   "metadata": {},
   "outputs": [],
   "source": [
    "import pandas as pd\n",
    "#set root directory to parent from this current directory\n",
    "import os\n",
    "os.chdir(os.path.dirname(os.getcwd()))\n",
    "import requests\n"
   ]
  },
  {
   "cell_type": "code",
   "execution_count": 2,
   "metadata": {},
   "outputs": [],
   "source": [
    "with open(r\"C:\\Users\\cruz\" + r'\\API_openAI.txt', 'r') as f:\n",
    "    read_api_key = f.readline()"
   ]
  },
  {
   "cell_type": "code",
   "execution_count": 4,
   "metadata": {},
   "outputs": [],
   "source": [
    "df = pd.read_excel(r\"data\\output\\EPFL_CO2_2023.xlsx\")"
   ]
  },
  {
   "cell_type": "code",
   "execution_count": 5,
   "metadata": {},
   "outputs": [],
   "source": [
    "df_pop = pd.read_excel(r\"M:\\40-DURABILITE\\40.04-Donnees\\40.04.01-Donnees-Durabilite\\Projets\\Mobilité\\Avions_finance/Population_EPFL_CF_units_faculty.xlsx\")"
   ]
  },
  {
   "cell_type": "code",
   "execution_count": 9,
   "metadata": {},
   "outputs": [
    {
     "data": {
      "text/plain": [
       "array([nan, 'BMI - Administration ', 'Neural Microcircuitry Laboratory ',\n",
       "       \"Prof. D'Angelo Group \", 'IBI-SV - Administration ',\n",
       "       'Prof. Courtine Group ', 'Naveiras Group ',\n",
       "       'Laboratory for Topology and Neuroscience ', 'Weigert Group ',\n",
       "       'CPG - Administration ', 'Flow Cytometry Core Facility ',\n",
       "       'BioImaging and Optics Core Facility ',\n",
       "       'Proteomics Core Facility ',\n",
       "       'Bioelectron Microscopy Core Facility ',\n",
       "       'Gene Expression Core Facility ',\n",
       "       'Bertarelli Foundation Gene Therapy Core Facility ',\n",
       "       'Prof. Barth Group ', 'Prof. Bitbol Group ',\n",
       "       'Prof Alexander Mathis Group ',\n",
       "       'Bertarelli Foundation Chair of Integrative Neuroscience ',\n",
       "       'Jaksic Group ', 'Aztekin Group ', 'Cao Group ', 'Raffin Group ',\n",
       "       'Prof. Schoonjans Group ', 'Prof. Gräff Group ',\n",
       "       'Prof. Salathé Group (SV/IC) ', 'Prof. Hummel Group ',\n",
       "       'Prof. Oates Group ', 'Prof. Ramdya Group ',\n",
       "       'Prof. Aebischer Group ', 'Prof. Lutolf Group ',\n",
       "       'Prof. Deplancke Group ', 'Prof. Dal Peraro Group ',\n",
       "       'Laboratory of Integrative Systems Physiology ', 'Deanship SV ',\n",
       "       'Laboratory of Virology and Genetics ',\n",
       "       'Biomolecular Screening Core Facility ',\n",
       "       'Laboratory of Synaptic Mechanisms ',\n",
       "       'Sensory Processing Laboratory ',\n",
       "       'Behavioral Genetics Laboratory ', 'Psychophysics Laboratory ',\n",
       "       'Foundation Bertarelli Chair in Cognitive Neuroprosthetics ',\n",
       "       'Laboratory of Molecular Neurobiology and Neuroproteomics ',\n",
       "       'ISREC - Administration ', 'Prof. Gönczy Group ',\n",
       "       'Prof. Lingner Group ', 'Prof. Constam Group ',\n",
       "       'Prof. Brisken Group ', 'Prof. Huelsken Group ',\n",
       "       'Prof. Naef Group ', 'Prof. Radtke Group ', 'Prof. Simanis Group ',\n",
       "       'Prof. Duboule Group ', 'Bucher Group ',\n",
       "       'Merck Serono Chair in Oncology ', 'Prof. Hantschel Group ',\n",
       "       'Prof. De Palma Group ', 'GHI - Administration ',\n",
       "       'Prof. van der Goot Group ', 'Prof. McKinney Group ',\n",
       "       'Prof. Lemaitre Group ', 'Prof. Blokesch Group ',\n",
       "       'Prof. Suter Group ', 'Prof. Ablasser Group ',\n",
       "       'Prof. Oricchio Group ', 'Prof. Persat Group '], dtype=object)"
      ]
     },
     "execution_count": 9,
     "metadata": {},
     "output_type": "execute_result"
    }
   ],
   "source": [
    "df_pop[\"Unit name\"].unique()\n"
   ]
  },
  {
   "cell_type": "code",
   "execution_count": 12,
   "metadata": {},
   "outputs": [],
   "source": [
    "df_pop = pd.read_excel(r\"data\\input_data\\achats_EPFL\\SV_units.xlsx\", sheet_name = \"Sheet2\")"
   ]
  },
  {
   "cell_type": "code",
   "execution_count": 13,
   "metadata": {},
   "outputs": [
    {
     "data": {
      "text/html": [
       "<div>\n",
       "<style scoped>\n",
       "    .dataframe tbody tr th:only-of-type {\n",
       "        vertical-align: middle;\n",
       "    }\n",
       "\n",
       "    .dataframe tbody tr th {\n",
       "        vertical-align: top;\n",
       "    }\n",
       "\n",
       "    .dataframe thead th {\n",
       "        text-align: right;\n",
       "    }\n",
       "</style>\n",
       "<table border=\"1\" class=\"dataframe\">\n",
       "  <thead>\n",
       "    <tr style=\"text-align: right;\">\n",
       "      <th></th>\n",
       "      <th>Institute</th>\n",
       "      <th>Unit name</th>\n",
       "      <th>Unit code</th>\n",
       "    </tr>\n",
       "  </thead>\n",
       "  <tbody>\n",
       "    <tr>\n",
       "      <th>0</th>\n",
       "      <td>Interschool Institute of Bioengineering (IBI-SV)</td>\n",
       "      <td>IBI-SV - Administration</td>\n",
       "      <td>IBI-SV-GE</td>\n",
       "    </tr>\n",
       "    <tr>\n",
       "      <th>1</th>\n",
       "      <td>Interschool Institute of Bioengineering (IBI-SV)</td>\n",
       "      <td>Laboratory of Integrative Systems Physiology</td>\n",
       "      <td>LISP</td>\n",
       "    </tr>\n",
       "    <tr>\n",
       "      <th>2</th>\n",
       "      <td>Interschool Institute of Bioengineering (IBI-SV)</td>\n",
       "      <td>Laboratory of Molecular Neurobiology and Neuro...</td>\n",
       "      <td>LMNN</td>\n",
       "    </tr>\n",
       "    <tr>\n",
       "      <th>3</th>\n",
       "      <td>Interschool Institute of Bioengineering (IBI-SV)</td>\n",
       "      <td>Prof. Barth Group</td>\n",
       "      <td>UPBARTH</td>\n",
       "    </tr>\n",
       "    <tr>\n",
       "      <th>4</th>\n",
       "      <td>Interschool Institute of Bioengineering (IBI-SV)</td>\n",
       "      <td>Prof. Bitbol Group</td>\n",
       "      <td>UPBITBOL</td>\n",
       "    </tr>\n",
       "    <tr>\n",
       "      <th>...</th>\n",
       "      <td>...</td>\n",
       "      <td>...</td>\n",
       "      <td>...</td>\n",
       "    </tr>\n",
       "    <tr>\n",
       "      <th>100</th>\n",
       "      <td>SV - Life Sciences Engineering Section (SV-SSV)</td>\n",
       "      <td>SSV - Administration</td>\n",
       "      <td>SSV-GE</td>\n",
       "    </tr>\n",
       "    <tr>\n",
       "      <th>101</th>\n",
       "      <td>SV - Life Sciences Engineering Section (SV-SSV)</td>\n",
       "      <td>SSV - Teaching</td>\n",
       "      <td>SSV-ENS</td>\n",
       "    </tr>\n",
       "    <tr>\n",
       "      <th>102</th>\n",
       "      <td>SV - Neuro-X Section (SV-SNX)</td>\n",
       "      <td>SV-Neuro-X-Administration</td>\n",
       "      <td>SV-SNX-GE</td>\n",
       "    </tr>\n",
       "    <tr>\n",
       "      <th>103</th>\n",
       "      <td>SV - Neuro-X Section (SV-SNX)</td>\n",
       "      <td>SV-Neuro-X-Teaching</td>\n",
       "      <td>SV-SNX-ENS</td>\n",
       "    </tr>\n",
       "    <tr>\n",
       "      <th>104</th>\n",
       "      <td>Unit of Precision Medicine (UPM)</td>\n",
       "      <td>UPM-GE</td>\n",
       "      <td>UPM-GE</td>\n",
       "    </tr>\n",
       "  </tbody>\n",
       "</table>\n",
       "<p>105 rows × 3 columns</p>\n",
       "</div>"
      ],
      "text/plain": [
       "                                            Institute  \\\n",
       "0    Interschool Institute of Bioengineering (IBI-SV)   \n",
       "1    Interschool Institute of Bioengineering (IBI-SV)   \n",
       "2    Interschool Institute of Bioengineering (IBI-SV)   \n",
       "3    Interschool Institute of Bioengineering (IBI-SV)   \n",
       "4    Interschool Institute of Bioengineering (IBI-SV)   \n",
       "..                                                ...   \n",
       "100   SV - Life Sciences Engineering Section (SV-SSV)   \n",
       "101   SV - Life Sciences Engineering Section (SV-SSV)   \n",
       "102                     SV - Neuro-X Section (SV-SNX)   \n",
       "103                     SV - Neuro-X Section (SV-SNX)   \n",
       "104                  Unit of Precision Medicine (UPM)   \n",
       "\n",
       "                                             Unit name   Unit code  \n",
       "0                             IBI-SV - Administration    IBI-SV-GE  \n",
       "1        Laboratory of Integrative Systems Physiology         LISP  \n",
       "2    Laboratory of Molecular Neurobiology and Neuro...        LMNN  \n",
       "3                                   Prof. Barth Group      UPBARTH  \n",
       "4                                  Prof. Bitbol Group     UPBITBOL  \n",
       "..                                                 ...         ...  \n",
       "100                              SSV - Administration       SSV-GE  \n",
       "101                                    SSV - Teaching      SSV-ENS  \n",
       "102                         SV-Neuro-X-Administration    SV-SNX-GE  \n",
       "103                               SV-Neuro-X-Teaching   SV-SNX-ENS  \n",
       "104                                            UPM-GE       UPM-GE  \n",
       "\n",
       "[105 rows x 3 columns]"
      ]
     },
     "execution_count": 13,
     "metadata": {},
     "output_type": "execute_result"
    }
   ],
   "source": [
    "df_pop"
   ]
  },
  {
   "cell_type": "code",
   "execution_count": null,
   "metadata": {},
   "outputs": [],
   "source": []
  }
 ],
 "metadata": {
  "kernelspec": {
   "display_name": "openai",
   "language": "python",
   "name": "python3"
  },
  "language_info": {
   "codemirror_mode": {
    "name": "ipython",
    "version": 3
   },
   "file_extension": ".py",
   "mimetype": "text/x-python",
   "name": "python",
   "nbconvert_exporter": "python",
   "pygments_lexer": "ipython3",
   "version": "3.12.1"
  }
 },
 "nbformat": 4,
 "nbformat_minor": 2
}
