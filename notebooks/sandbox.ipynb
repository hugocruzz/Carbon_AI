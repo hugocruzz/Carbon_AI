{
 "cells": [
  {
   "cell_type": "code",
   "execution_count": 1,
   "metadata": {},
   "outputs": [],
   "source": [
    "import pandas as pd\n",
    "#set root directory to parent from this current directory\n",
    "import os\n",
    "os.chdir(os.path.dirname(os.getcwd()))\n",
    "import requests\n"
   ]
  },
  {
   "cell_type": "code",
   "execution_count": 2,
   "metadata": {},
   "outputs": [],
   "source": [
    "with open(r\"C:\\Users\\cruz\" + r'\\API_openAI.txt', 'r') as f:\n",
    "    read_api_key = f.readline()"
   ]
  },
  {
   "cell_type": "code",
   "execution_count": 53,
   "metadata": {},
   "outputs": [],
   "source": [
    "df_template = pd.read_pickle(r\"data\\output\\embeddings_mpnet_temp.pkl\")"
   ]
  },
  {
   "cell_type": "code",
   "execution_count": null,
   "metadata": {},
   "outputs": [],
   "source": []
  },
  {
   "cell_type": "code",
   "execution_count": 54,
   "metadata": {},
   "outputs": [
    {
     "ename": "KeyError",
     "evalue": "'embedding'",
     "output_type": "error",
     "traceback": [
      "\u001b[1;31m---------------------------------------------------------------------------\u001b[0m",
      "\u001b[1;31mKeyError\u001b[0m                                  Traceback (most recent call last)",
      "Cell \u001b[1;32mIn[54], line 10\u001b[0m\n\u001b[0;32m      6\u001b[0m \u001b[38;5;28;01mimport\u001b[39;00m \u001b[38;5;21;01mplotly\u001b[39;00m\u001b[38;5;21;01m.\u001b[39;00m\u001b[38;5;21;01mgraph_objects\u001b[39;00m \u001b[38;5;28;01mas\u001b[39;00m \u001b[38;5;21;01mgo\u001b[39;00m\n\u001b[0;32m      8\u001b[0m \u001b[38;5;66;03m# Assuming df['embedding'] is a list of embeddings (e.g., 768-dimensional vectors)\u001b[39;00m\n\u001b[0;32m      9\u001b[0m \u001b[38;5;66;03m# Convert the embeddings to a numpy array\u001b[39;00m\n\u001b[1;32m---> 10\u001b[0m embeddings \u001b[38;5;241m=\u001b[39m np\u001b[38;5;241m.\u001b[39mvstack(\u001b[43mdf_template\u001b[49m\u001b[43m[\u001b[49m\u001b[38;5;124;43m'\u001b[39;49m\u001b[38;5;124;43membedding\u001b[39;49m\u001b[38;5;124;43m'\u001b[39;49m\u001b[43m]\u001b[49m\u001b[38;5;241m.\u001b[39mvalues)\n\u001b[0;32m     12\u001b[0m \u001b[38;5;66;03m# Perform dimensionality reduction with t-SNE to reduce to 2D\u001b[39;00m\n\u001b[0;32m     13\u001b[0m tsne \u001b[38;5;241m=\u001b[39m TSNE(n_components\u001b[38;5;241m=\u001b[39m\u001b[38;5;241m2\u001b[39m, random_state\u001b[38;5;241m=\u001b[39m\u001b[38;5;241m42\u001b[39m)\n",
      "File \u001b[1;32mc:\\Users\\cruz\\AppData\\Local\\anaconda3\\envs\\Carbon_AI\\Lib\\site-packages\\pandas\\core\\frame.py:4090\u001b[0m, in \u001b[0;36mDataFrame.__getitem__\u001b[1;34m(self, key)\u001b[0m\n\u001b[0;32m   4088\u001b[0m \u001b[38;5;28;01mif\u001b[39;00m \u001b[38;5;28mself\u001b[39m\u001b[38;5;241m.\u001b[39mcolumns\u001b[38;5;241m.\u001b[39mnlevels \u001b[38;5;241m>\u001b[39m \u001b[38;5;241m1\u001b[39m:\n\u001b[0;32m   4089\u001b[0m     \u001b[38;5;28;01mreturn\u001b[39;00m \u001b[38;5;28mself\u001b[39m\u001b[38;5;241m.\u001b[39m_getitem_multilevel(key)\n\u001b[1;32m-> 4090\u001b[0m indexer \u001b[38;5;241m=\u001b[39m \u001b[38;5;28;43mself\u001b[39;49m\u001b[38;5;241;43m.\u001b[39;49m\u001b[43mcolumns\u001b[49m\u001b[38;5;241;43m.\u001b[39;49m\u001b[43mget_loc\u001b[49m\u001b[43m(\u001b[49m\u001b[43mkey\u001b[49m\u001b[43m)\u001b[49m\n\u001b[0;32m   4091\u001b[0m \u001b[38;5;28;01mif\u001b[39;00m is_integer(indexer):\n\u001b[0;32m   4092\u001b[0m     indexer \u001b[38;5;241m=\u001b[39m [indexer]\n",
      "File \u001b[1;32mc:\\Users\\cruz\\AppData\\Local\\anaconda3\\envs\\Carbon_AI\\Lib\\site-packages\\pandas\\core\\indexes\\range.py:417\u001b[0m, in \u001b[0;36mRangeIndex.get_loc\u001b[1;34m(self, key)\u001b[0m\n\u001b[0;32m    415\u001b[0m         \u001b[38;5;28;01mraise\u001b[39;00m \u001b[38;5;167;01mKeyError\u001b[39;00m(key) \u001b[38;5;28;01mfrom\u001b[39;00m \u001b[38;5;21;01merr\u001b[39;00m\n\u001b[0;32m    416\u001b[0m \u001b[38;5;28;01mif\u001b[39;00m \u001b[38;5;28misinstance\u001b[39m(key, Hashable):\n\u001b[1;32m--> 417\u001b[0m     \u001b[38;5;28;01mraise\u001b[39;00m \u001b[38;5;167;01mKeyError\u001b[39;00m(key)\n\u001b[0;32m    418\u001b[0m \u001b[38;5;28mself\u001b[39m\u001b[38;5;241m.\u001b[39m_check_indexing_error(key)\n\u001b[0;32m    419\u001b[0m \u001b[38;5;28;01mraise\u001b[39;00m \u001b[38;5;167;01mKeyError\u001b[39;00m(key)\n",
      "\u001b[1;31mKeyError\u001b[0m: 'embedding'"
     ]
    }
   ],
   "source": [
    "import numpy as np\n",
    "import pandas as pd\n",
    "from sklearn.manifold import TSNE\n",
    "\n",
    "import plotly.express as px\n",
    "import plotly.graph_objects as go\n",
    "\n",
    "# Assuming df['embedding'] is a list of embeddings (e.g., 768-dimensional vectors)\n",
    "# Convert the embeddings to a numpy array\n",
    "embeddings = np.vstack(df_template['embedding'].values)\n",
    "\n",
    "# Perform dimensionality reduction with t-SNE to reduce to 2D\n",
    "tsne = TSNE(n_components=2, random_state=42)\n",
    "embeddings_2d = tsne.fit_transform(embeddings)\n",
    "\n",
    "# Add the 2D embeddings back to the dataframe for visualization\n",
    "df_template['embedding_2d_x'] = embeddings_2d[:, 0]\n",
    "df_template['embedding_2d_y'] = embeddings_2d[:, 1]\n",
    "\n"
   ]
  },
  {
   "cell_type": "code",
   "execution_count": 51,
   "metadata": {},
   "outputs": [
    {
     "name": "stderr",
     "output_type": "stream",
     "text": [
      "c:\\Users\\cruz\\AppData\\Local\\anaconda3\\envs\\Carbon_AI\\Lib\\site-packages\\plotly\\express\\_core.py:1979: FutureWarning:\n",
      "\n",
      "When grouping with a length-1 list-like, you will need to pass a length-1 tuple to get_group in a future version of pandas. Pass `(name,)` instead of `name` to silence this warning.\n",
      "\n"
     ]
    },
    {
     "data": {
      "application/vnd.plotly.v1+json": {
       "config": {
        "plotlyServerURL": "https://plot.ly"
       },
       "data": [
        {
         "customdata": [
          [
           "cuvette Consommables biologiques, chimiques et gazeux"
          ],
          [
           "Quartz Crucible: High Purity  dia. x  H mm (  ml) - QBDH Consommables biologiques, chimiques et gazeux"
          ],
          [
           "Single crystal substrate NaCl Consommables biologiques, chimiques et gazeux"
          ],
          [
           "Scrambled shRNA with GFP Adenovirus Consommables biologiques, chimiques et gazeux"
          ],
          [
           "Petits tubes pour sacrifices Consommables biologiques, chimiques et gazeux"
          ]
         ],
         "hovertemplate": "Famille=Consommables biologiques, chimiques et gazeux<br>Dimension 1=%{x}<br>Dimension 2=%{y}<br>combined=%{customdata[0]}<extra></extra>",
         "legendgroup": "Consommables biologiques, chimiques et gazeux",
         "marker": {
          "color": "#636efa",
          "symbol": "circle"
         },
         "mode": "markers",
         "name": "Consommables biologiques, chimiques et gazeux",
         "orientation": "v",
         "showlegend": true,
         "type": "scatter",
         "x": [
          -3.07122,
          -2.7727542,
          -3.1025043,
          -3.72948,
          -3.081986
         ],
         "xaxis": "x",
         "y": [
          -5.2775664,
          -5.8892794,
          -5.316879,
          -5.4997263,
          -5.0659285
         ],
         "yaxis": "y"
        },
        {
         "customdata": [
          [
           "LENOVO ThinkPad Ps G - i GB RAM (xGB =  free socket) TB SSD WUXGA (x)  nits nVidia Quadro T - Windows  Pro (Win  Pro préinstallé) - Garantie :  ans sur site + ADP Computers "
          ]
         ],
         "hovertemplate": "Famille=Computers <br>Dimension 1=%{x}<br>Dimension 2=%{y}<br>combined=%{customdata[0]}<extra></extra>",
         "legendgroup": "Computers ",
         "marker": {
          "color": "#EF553B",
          "symbol": "circle"
         },
         "mode": "markers",
         "name": "Computers ",
         "orientation": "v",
         "showlegend": true,
         "type": "scatter",
         "x": [
          -0.22778088
         ],
         "xaxis": "x",
         "y": [
          -2.3927965
         ],
         "yaxis": "y"
        },
        {
         "customdata": [
          [
           "shipping costs Prestations et services"
          ],
          [
           "Etudes et le dimensionnement de l’ancrage d’un radar Prestations et services"
          ]
         ],
         "hovertemplate": "Famille=Prestations et services<br>Dimension 1=%{x}<br>Dimension 2=%{y}<br>combined=%{customdata[0]}<extra></extra>",
         "legendgroup": "Prestations et services",
         "marker": {
          "color": "#00cc96",
          "symbol": "circle"
         },
         "mode": "markers",
         "name": "Prestations et services",
         "orientation": "v",
         "showlegend": true,
         "type": "scatter",
         "x": [
          -1.7674602,
          -1.0142665
         ],
         "xaxis": "x",
         "y": [
          -7.243191,
          -7.1358566
         ],
         "yaxis": "y"
        },
        {
         "customdata": [
          [
           "Papier A, plié A, quadrillé paper"
          ]
         ],
         "hovertemplate": "Famille=paper<br>Dimension 1=%{x}<br>Dimension 2=%{y}<br>combined=%{customdata[0]}<extra></extra>",
         "legendgroup": "paper",
         "marker": {
          "color": "#ab63fa",
          "symbol": "circle"
         },
         "mode": "markers",
         "name": "paper",
         "orientation": "v",
         "showlegend": true,
         "type": "scatter",
         "x": [
          -3.3750625
         ],
         "xaxis": "x",
         "y": [
          -2.9597461
         ],
         "yaxis": "y"
        },
        {
         "customdata": [
          [
           "Raspberry Pi high quality camera Équipements et fournitures pour l&apos;impression, la photographie et l&apos;audiovisuel"
          ]
         ],
         "hovertemplate": "Famille=Équipements et fournitures pour l&apos;impression, la photographie et l&apos;audiovisuel<br>Dimension 1=%{x}<br>Dimension 2=%{y}<br>combined=%{customdata[0]}<extra></extra>",
         "legendgroup": "Équipements et fournitures pour l&apos;impression, la photographie et l&apos;audiovisuel",
         "marker": {
          "color": "#FFA15A",
          "symbol": "circle"
         },
         "mode": "markers",
         "name": "Équipements et fournitures pour l&apos;impression, la photographie et l&apos;audiovisuel",
         "orientation": "v",
         "showlegend": true,
         "type": "scatter",
         "x": [
          1.1578372
         ],
         "xaxis": "x",
         "y": [
          -4.9101653
         ],
         "yaxis": "y"
        },
        {
         "customdata": [
          [
           "WMT Capteur de vent à ultrasons Équipements de laboratoire, de mesure, d'observation et d'essai"
          ],
          [
           "BLD-F- - .SMA (+/-nm W .NA um fiber coupled laser diode SMA connector) Équipements de laboratoire, de mesure, d'observation et d'essai"
          ],
          [
           "Testing, flashing, battery assembly and handover Équipements de laboratoire, de mesure, d'observation et d'essai"
          ],
          [
           "Aluminum plate for the ozone chamber holder Équipements de laboratoire, de mesure, d'observation et d'essai"
          ]
         ],
         "hovertemplate": "Famille=Équipements de laboratoire, de mesure, d'observation et d'essai<br>Dimension 1=%{x}<br>Dimension 2=%{y}<br>combined=%{customdata[0]}<extra></extra>",
         "legendgroup": "Équipements de laboratoire, de mesure, d'observation et d'essai",
         "marker": {
          "color": "#19d3f3",
          "symbol": "circle"
         },
         "mode": "markers",
         "name": "Équipements de laboratoire, de mesure, d'observation et d'essai",
         "orientation": "v",
         "showlegend": true,
         "type": "scatter",
         "x": [
          -0.5964864,
          -0.6403604,
          -1.0492133,
          -1.7046077
         ],
         "xaxis": "x",
         "y": [
          -6.2586412,
          -5.5747714,
          -5.672498,
          -5.761496
         ],
         "yaxis": "y"
        },
        {
         "customdata": [
          [
           "Samsung  Pro ( Go, M. ) Matériel électronique, accessoires et composants"
          ],
          [
           "Logitech MK Advanced (CH, Sans fil) Matériel électronique, accessoires et composants"
          ],
          [
           "Fakir Tendance ( W,  dB) Matériel électronique, accessoires et composants"
          ],
          [
           "Keychron K Pro (CH, Filaire, Sans fil) Matériel électronique, accessoires et composants"
          ],
          [
           "Mobvoi Ticwatch Pro  ( mm, Acier inoxydable, Matières plastiques) Matériel électronique, accessoires et composants"
          ],
          [
           "Filono Backcover en carbone véritable Carbon black (iPhone ) Matériel électronique, accessoires et composants"
          ],
          [
           "CalDigit TS (Thunderbolt) Matériel électronique, accessoires et composants"
          ],
          [
           "Colorama Carton de fond . x m ( cm,  cm) Matériel électronique, accessoires et composants"
          ],
          [
           "Meaco Air  (. W) Matériel électronique, accessoires et composants"
          ],
          [
           "HP X (C) Matériel électronique, accessoires et composants"
          ],
          [
           "Tucano Second Skin (\", Universel) Matériel électronique, accessoires et composants"
          ],
          [
           "KingSmith Tapis de marche A Pro Matériel électronique, accessoires et composants"
          ],
          [
           "Bose QuietComfort  (ANC,  h, Filaire, Sans fil) Matériel électronique, accessoires et composants"
          ]
         ],
         "hovertemplate": "Famille=Matériel électronique, accessoires et composants<br>Dimension 1=%{x}<br>Dimension 2=%{y}<br>combined=%{customdata[0]}<extra></extra>",
         "legendgroup": "Matériel électronique, accessoires et composants",
         "marker": {
          "color": "#FF6692",
          "symbol": "circle"
         },
         "mode": "markers",
         "name": "Matériel électronique, accessoires et composants",
         "orientation": "v",
         "showlegend": true,
         "type": "scatter",
         "x": [
          0.4919045,
          0.6803574,
          -0.03799178,
          0.6312504,
          1.1669477,
          1.4965322,
          0.3770703,
          -0.64115316,
          0.046684135,
          0.1757259,
          -0.05789796,
          -0.01619853,
          0.62961835
         ],
         "xaxis": "x",
         "y": [
          -3.8812969,
          -3.2015066,
          -3.7047312,
          -3.1594183,
          -2.9037678,
          -3.4061613,
          -4.0233173,
          -3.8488264,
          -3.9600432,
          -4.1156626,
          -3.4457006,
          -3.3461418,
          -3.390849
         ],
         "yaxis": "y"
        },
        {
         "customdata": [
          [
           "GSTA-PJ - Power Supply with LED Indicator, V, .A, W, MEAN WELL Matériel d'exploitation, fourniture et outillage"
          ],
          [
           "NORMATEC® O-Ring FKM .- DI , x , mm Matériel d'exploitation, fourniture et outillage"
          ]
         ],
         "hovertemplate": "Famille=Matériel d'exploitation, fourniture et outillage<br>Dimension 1=%{x}<br>Dimension 2=%{y}<br>combined=%{customdata[0]}<extra></extra>",
         "legendgroup": "Matériel d'exploitation, fourniture et outillage",
         "marker": {
          "color": "#B6E880",
          "symbol": "circle"
         },
         "mode": "markers",
         "name": "Matériel d'exploitation, fourniture et outillage",
         "orientation": "v",
         "showlegend": true,
         "type": "scatter",
         "x": [
          0.3820685,
          -1.763721
         ],
         "xaxis": "x",
         "y": [
          -5.87414,
          -4.3233867
         ],
         "yaxis": "y"
        },
        {
         "customdata": [
          [
           "PK NNSA  BÂTONNETS SUCRE Accessoires de bureau"
          ],
          [
           "EMB CROWNINGS SA. DE THÉ ENGL.BREAKF. Accessoires de bureau"
          ],
          [
           "PK NNSA  CRÈME À CAFÉ Accessoires de bureau"
          ],
          [
           "FEUTRE OHP PERM MED NOIR Accessoires de bureau"
          ],
          [
           "WLT EDDING  PERM MARKER B/TIP ASS Accessoires de bureau"
          ]
         ],
         "hovertemplate": "Famille=Accessoires de bureau<br>Dimension 1=%{x}<br>Dimension 2=%{y}<br>combined=%{customdata[0]}<extra></extra>",
         "legendgroup": "Accessoires de bureau",
         "marker": {
          "color": "#FF97FF",
          "symbol": "circle"
         },
         "mode": "markers",
         "name": "Accessoires de bureau",
         "orientation": "v",
         "showlegend": true,
         "type": "scatter",
         "x": [
          -1.7490413,
          -1.6316881,
          -1.7689438,
          -1.8072144,
          -1.5423503
         ],
         "xaxis": "x",
         "y": [
          -2.730048,
          -2.5068927,
          -2.6713278,
          -2.8931031,
          -2.542985
         ],
         "yaxis": "y"
        },
        {
         "customdata": [
          [
           "Plancher, façades et toiture assemblés en atelier Traitement du bois"
          ]
         ],
         "hovertemplate": "Famille=Traitement du bois<br>Dimension 1=%{x}<br>Dimension 2=%{y}<br>combined=%{customdata[0]}<extra></extra>",
         "legendgroup": "Traitement du bois",
         "marker": {
          "color": "#FECB52",
          "symbol": "circle"
         },
         "mode": "markers",
         "name": "Traitement du bois",
         "orientation": "v",
         "showlegend": true,
         "type": "scatter",
         "x": [
          -3.0145185
         ],
         "xaxis": "x",
         "y": [
          -3.0038662
         ],
         "yaxis": "y"
        },
        {
         "customdata": [
          [
           "Apple Care+ Composants, fournitures et équipements informatiques et de communication"
          ]
         ],
         "hovertemplate": "Famille=Composants, fournitures et équipements informatiques et de communication<br>Dimension 1=%{x}<br>Dimension 2=%{y}<br>combined=%{customdata[0]}<extra></extra>",
         "legendgroup": "Composants, fournitures et équipements informatiques et de communication",
         "marker": {
          "color": "#636efa",
          "symbol": "circle"
         },
         "mode": "markers",
         "name": "Composants, fournitures et équipements informatiques et de communication",
         "orientation": "v",
         "showlegend": true,
         "type": "scatter",
         "x": [
          0.6086534
         ],
         "xaxis": "x",
         "y": [
          -4.6669583
         ],
         "yaxis": "y"
        },
        {
         "customdata": [
          [
           "CGMLU-E Équipements de laboratoire, de mesure, d&apos;observation et d&apos;essai"
          ],
          [
           "TSW---G-S-RA Équipements de laboratoire, de mesure, d&apos;observation et d&apos;essai"
          ],
          [
           "BCS--L-S-TE Équipements de laboratoire, de mesure, d&apos;observation et d&apos;essai"
          ]
         ],
         "hovertemplate": "Famille=Équipements de laboratoire, de mesure, d&apos;observation et d&apos;essai<br>Dimension 1=%{x}<br>Dimension 2=%{y}<br>combined=%{customdata[0]}<extra></extra>",
         "legendgroup": "Équipements de laboratoire, de mesure, d&apos;observation et d&apos;essai",
         "marker": {
          "color": "#EF553B",
          "symbol": "circle"
         },
         "mode": "markers",
         "name": "Équipements de laboratoire, de mesure, d&apos;observation et d&apos;essai",
         "orientation": "v",
         "showlegend": true,
         "type": "scatter",
         "x": [
          -1.1950034,
          -0.9393821,
          -1.0495608
         ],
         "xaxis": "x",
         "y": [
          -5.6771617,
          -5.768604,
          -5.6650047
         ],
         "yaxis": "y"
        },
        {
         "customdata": [
          [
           "Hardware Design-Knee Brace PCB (IM-MAIN Rev.) redesign -\tshrink size according to specifications -\tremove unnecessary parts, while keeping maximum compatibility with existing firmware and I Circuits imprimés, circuits intégrés et micro-assemblages"
          ]
         ],
         "hovertemplate": "Famille=Circuits imprimés, circuits intégrés et micro-assemblages<br>Dimension 1=%{x}<br>Dimension 2=%{y}<br>combined=%{customdata[0]}<extra></extra>",
         "legendgroup": "Circuits imprimés, circuits intégrés et micro-assemblages",
         "marker": {
          "color": "#00cc96",
          "symbol": "circle"
         },
         "mode": "markers",
         "name": "Circuits imprimés, circuits intégrés et micro-assemblages",
         "orientation": "v",
         "showlegend": true,
         "type": "scatter",
         "x": [
          0.47965735
         ],
         "xaxis": "x",
         "y": [
          -2.2272282
         ],
         "yaxis": "y"
        },
        {
         "customdata": [
          [
           "Matériel électronique, accessoires et composants Serveurs"
          ]
         ],
         "hovertemplate": "Famille=Serveurs<br>Dimension 1=%{x}<br>Dimension 2=%{y}<br>combined=%{customdata[0]}<extra></extra>",
         "legendgroup": "Serveurs",
         "marker": {
          "color": "#ab63fa",
          "symbol": "circle"
         },
         "mode": "markers",
         "name": "Serveurs",
         "orientation": "v",
         "showlegend": true,
         "type": "scatter",
         "x": [
          0.1632259
         ],
         "xaxis": "x",
         "y": [
          -4.339926
         ],
         "yaxis": "y"
        },
        {
         "customdata": [
          [
           "Housing Mx-x-PN-IG/” Équipements ou accessoires de filtration pour laboratoire"
          ],
          [
           "Prototype of microfiltration membrane outside mono channel substrate Équipements ou accessoires de filtration pour laboratoire"
          ]
         ],
         "hovertemplate": "Famille=Équipements ou accessoires de filtration pour laboratoire<br>Dimension 1=%{x}<br>Dimension 2=%{y}<br>combined=%{customdata[0]}<extra></extra>",
         "legendgroup": "Équipements ou accessoires de filtration pour laboratoire",
         "marker": {
          "color": "#FFA15A",
          "symbol": "circle"
         },
         "mode": "markers",
         "name": "Équipements ou accessoires de filtration pour laboratoire",
         "orientation": "v",
         "showlegend": true,
         "type": "scatter",
         "x": [
          -1.8853105,
          -2.0706928
         ],
         "xaxis": "x",
         "y": [
          -5.077292,
          -4.9908676
         ],
         "yaxis": "y"
        },
        {
         "customdata": [
          [
           "Transport of Quartz substrates Services de transport, stockage postal"
          ]
         ],
         "hovertemplate": "Famille=Services de transport, stockage postal<br>Dimension 1=%{x}<br>Dimension 2=%{y}<br>combined=%{customdata[0]}<extra></extra>",
         "legendgroup": "Services de transport, stockage postal",
         "marker": {
          "color": "#19d3f3",
          "symbol": "circle"
         },
         "mode": "markers",
         "name": "Services de transport, stockage postal",
         "orientation": "v",
         "showlegend": true,
         "type": "scatter",
         "x": [
          -2.060105
         ],
         "xaxis": "x",
         "y": [
          -7.070134
         ],
         "yaxis": "y"
        },
        {
         "customdata": [
          [
           "Umbra Protection de porte Buddy Gris Équipement de bureau, accessoires et fournitures"
          ]
         ],
         "hovertemplate": "Famille=Équipement de bureau, accessoires et fournitures<br>Dimension 1=%{x}<br>Dimension 2=%{y}<br>combined=%{customdata[0]}<extra></extra>",
         "legendgroup": "Équipement de bureau, accessoires et fournitures",
         "marker": {
          "color": "#FF6692",
          "symbol": "circle"
         },
         "mode": "markers",
         "name": "Équipement de bureau, accessoires et fournitures",
         "orientation": "v",
         "showlegend": true,
         "type": "scatter",
         "x": [
          -1.9776759
         ],
         "xaxis": "x",
         "y": [
          -3.1138923
         ],
         "yaxis": "y"
        },
        {
         "customdata": [
          [
           "X Square BioAssay Dish, mL, cm, PS, Sterile Fournitures pour culture de tissus et criblage à haut débit"
          ]
         ],
         "hovertemplate": "Famille=Fournitures pour culture de tissus et criblage à haut débit<br>Dimension 1=%{x}<br>Dimension 2=%{y}<br>combined=%{customdata[0]}<extra></extra>",
         "legendgroup": "Fournitures pour culture de tissus et criblage à haut débit",
         "marker": {
          "color": "#B6E880",
          "symbol": "circle"
         },
         "mode": "markers",
         "name": "Fournitures pour culture de tissus et criblage à haut débit",
         "orientation": "v",
         "showlegend": true,
         "type": "scatter",
         "x": [
          -2.808627
         ],
         "xaxis": "x",
         "y": [
          -5.8399277
         ],
         "yaxis": "y"
        },
        {
         "customdata": [
          [
           "Gloves, Kimtech purple nitrile  cm Ambidextrous M, UoM:   items,   items Vêtements de sécurité"
          ]
         ],
         "hovertemplate": "Famille=Vêtements de sécurité<br>Dimension 1=%{x}<br>Dimension 2=%{y}<br>combined=%{customdata[0]}<extra></extra>",
         "legendgroup": "Vêtements de sécurité",
         "marker": {
          "color": "#FF97FF",
          "symbol": "circle"
         },
         "mode": "markers",
         "name": "Vêtements de sécurité",
         "orientation": "v",
         "showlegend": true,
         "type": "scatter",
         "x": [
          -2.6068811
         ],
         "xaxis": "x",
         "y": [
          -4.041022
         ],
         "yaxis": "y"
        },
        {
         "customdata": [
          [
           "Lipofectamine  Transfection Reagent-. mL Loc: F- deg Produits d’expression des protéines"
          ]
         ],
         "hovertemplate": "Famille=Produits d’expression des protéines<br>Dimension 1=%{x}<br>Dimension 2=%{y}<br>combined=%{customdata[0]}<extra></extra>",
         "legendgroup": "Produits d’expression des protéines",
         "marker": {
          "color": "#FECB52",
          "symbol": "circle"
         },
         "mode": "markers",
         "name": "Produits d’expression des protéines",
         "orientation": "v",
         "showlegend": true,
         "type": "scatter",
         "x": [
          -3.687548
         ],
         "xaxis": "x",
         "y": [
          -6.183477
         ],
         "yaxis": "y"
        },
        {
         "customdata": [
          [
           "Laboratory, measurement, observation and testing equipment "
          ],
          [
           "Consommables biologiques, chimiques et gazeux "
          ],
          [
           "Computer and communication components, supplies and equipment "
          ]
         ],
         "hovertemplate": "Famille=<br>Dimension 1=%{x}<br>Dimension 2=%{y}<br>combined=%{customdata[0]}<extra></extra>",
         "legendgroup": "",
         "marker": {
          "color": "#636efa",
          "symbol": "circle"
         },
         "mode": "markers",
         "name": "",
         "orientation": "v",
         "showlegend": false,
         "type": "scatter",
         "x": [
          -1.0809828,
          -3.22846,
          0.68099314
         ],
         "xaxis": "x",
         "y": [
          -5.976658,
          -5.1063843,
          -4.883684
         ],
         "yaxis": "y"
        },
        {
         "mode": "text",
         "showlegend": false,
         "text": [
          ""
         ],
         "textfont": {
          "size": 6
         },
         "type": "scatter",
         "x": [
          -1.20948326587677
         ],
         "y": [
          -5.322242259979248
         ]
        },
        {
         "mode": "text",
         "showlegend": false,
         "text": [
          "Accessoires de bureau"
         ],
         "textfont": {
          "size": 10
         },
         "type": "scatter",
         "x": [
          -1.6998475790023804
         ],
         "y": [
          -2.6688714027404785
         ]
        },
        {
         "mode": "text",
         "showlegend": false,
         "text": [
          "Circuits imprimés, circuits intégrés et micro-assemblages"
         ],
         "textfont": {
          "size": 2
         },
         "type": "scatter",
         "x": [
          0.4796573519706726
         ],
         "y": [
          -2.2272281646728516
         ]
        },
        {
         "mode": "text",
         "showlegend": false,
         "text": [
          "Composants, fournitures et équipements informatiques et de communication"
         ],
         "textfont": {
          "size": 2
         },
         "type": "scatter",
         "x": [
          0.6086534261703491
         ],
         "y": [
          -4.666958332061768
         ]
        },
        {
         "mode": "text",
         "showlegend": false,
         "text": [
          "Computers "
         ],
         "textfont": {
          "size": 2
         },
         "type": "scatter",
         "x": [
          -0.22778087854385376
         ],
         "y": [
          -2.392796516418457
         ]
        },
        {
         "mode": "text",
         "showlegend": false,
         "text": [
          "Consommables biologiques, chimiques et gazeux"
         ],
         "textfont": {
          "size": 10
         },
         "type": "scatter",
         "x": [
          -3.1515889167785645
         ],
         "y": [
          -5.409875869750977
         ]
        },
        {
         "mode": "text",
         "showlegend": false,
         "text": [
          "Fournitures pour culture de tissus et criblage à haut débit"
         ],
         "textfont": {
          "size": 2
         },
         "type": "scatter",
         "x": [
          -2.808626890182495
         ],
         "y": [
          -5.839927673339844
         ]
        },
        {
         "mode": "text",
         "showlegend": false,
         "text": [
          "Matériel d'exploitation, fourniture et outillage"
         ],
         "textfont": {
          "size": 4
         },
         "type": "scatter",
         "x": [
          -0.6908262372016907
         ],
         "y": [
          -5.098763465881348
         ]
        },
        {
         "mode": "text",
         "showlegend": false,
         "text": [
          "Matériel électronique, accessoires et composants"
         ],
         "textfont": {
          "size": 26
         },
         "type": "scatter",
         "x": [
          0.38021916151046753
         ],
         "y": [
          -3.568263530731201
         ]
        },
        {
         "mode": "text",
         "showlegend": false,
         "text": [
          "Prestations et services"
         ],
         "textfont": {
          "size": 4
         },
         "type": "scatter",
         "x": [
          -1.3908634185791016
         ],
         "y": [
          -7.189523696899414
         ]
        },
        {
         "mode": "text",
         "showlegend": false,
         "text": [
          "Produits d’expression des protéines"
         ],
         "textfont": {
          "size": 2
         },
         "type": "scatter",
         "x": [
          -3.6875479221343994
         ],
         "y": [
          -6.18347692489624
         ]
        },
        {
         "mode": "text",
         "showlegend": false,
         "text": [
          "Serveurs"
         ],
         "textfont": {
          "size": 2
         },
         "type": "scatter",
         "x": [
          0.1632259041070938
         ],
         "y": [
          -4.339925765991211
         ]
        },
        {
         "mode": "text",
         "showlegend": false,
         "text": [
          "Services de transport, stockage postal"
         ],
         "textfont": {
          "size": 2
         },
         "type": "scatter",
         "x": [
          -2.060105085372925
         ],
         "y": [
          -7.070134162902832
         ]
        },
        {
         "mode": "text",
         "showlegend": false,
         "text": [
          "Traitement du bois"
         ],
         "textfont": {
          "size": 2
         },
         "type": "scatter",
         "x": [
          -3.0145184993743896
         ],
         "y": [
          -3.003866195678711
         ]
        },
        {
         "mode": "text",
         "showlegend": false,
         "text": [
          "Vêtements de sécurité"
         ],
         "textfont": {
          "size": 2
         },
         "type": "scatter",
         "x": [
          -2.6068811416625977
         ],
         "y": [
          -4.041021823883057
         ]
        },
        {
         "mode": "text",
         "showlegend": false,
         "text": [
          "paper"
         ],
         "textfont": {
          "size": 2
         },
         "type": "scatter",
         "x": [
          -3.3750624656677246
         ],
         "y": [
          -2.9597461223602295
         ]
        },
        {
         "mode": "text",
         "showlegend": false,
         "text": [
          "Équipement de bureau, accessoires et fournitures"
         ],
         "textfont": {
          "size": 2
         },
         "type": "scatter",
         "x": [
          -1.9776759147644043
         ],
         "y": [
          -3.1138923168182373
         ]
        },
        {
         "mode": "text",
         "showlegend": false,
         "text": [
          "Équipements de laboratoire, de mesure, d&apos;observation et d&apos;essai"
         ],
         "textfont": {
          "size": 6
         },
         "type": "scatter",
         "x": [
          -1.0613154172897339
         ],
         "y": [
          -5.703590393066406
         ]
        },
        {
         "mode": "text",
         "showlegend": false,
         "text": [
          "Équipements de laboratoire, de mesure, d'observation et d'essai"
         ],
         "textfont": {
          "size": 8
         },
         "type": "scatter",
         "x": [
          -0.9976669549942017
         ],
         "y": [
          -5.816851615905762
         ]
        },
        {
         "mode": "text",
         "showlegend": false,
         "text": [
          "Équipements et fournitures pour l&apos;impression, la photographie et l&apos;audiovisuel"
         ],
         "textfont": {
          "size": 2
         },
         "type": "scatter",
         "x": [
          1.157837152481079
         ],
         "y": [
          -4.910165309906006
         ]
        },
        {
         "mode": "text",
         "showlegend": false,
         "text": [
          "Équipements ou accessoires de filtration pour laboratoire"
         ],
         "textfont": {
          "size": 4
         },
         "type": "scatter",
         "x": [
          -1.978001594543457
         ],
         "y": [
          -5.034079551696777
         ]
        }
       ],
       "layout": {
        "legend": {
         "title": {
          "text": "Famille"
         },
         "tracegroupgap": 0
        },
        "template": {
         "data": {
          "bar": [
           {
            "error_x": {
             "color": "#2a3f5f"
            },
            "error_y": {
             "color": "#2a3f5f"
            },
            "marker": {
             "line": {
              "color": "#E5ECF6",
              "width": 0.5
             },
             "pattern": {
              "fillmode": "overlay",
              "size": 10,
              "solidity": 0.2
             }
            },
            "type": "bar"
           }
          ],
          "barpolar": [
           {
            "marker": {
             "line": {
              "color": "#E5ECF6",
              "width": 0.5
             },
             "pattern": {
              "fillmode": "overlay",
              "size": 10,
              "solidity": 0.2
             }
            },
            "type": "barpolar"
           }
          ],
          "carpet": [
           {
            "aaxis": {
             "endlinecolor": "#2a3f5f",
             "gridcolor": "white",
             "linecolor": "white",
             "minorgridcolor": "white",
             "startlinecolor": "#2a3f5f"
            },
            "baxis": {
             "endlinecolor": "#2a3f5f",
             "gridcolor": "white",
             "linecolor": "white",
             "minorgridcolor": "white",
             "startlinecolor": "#2a3f5f"
            },
            "type": "carpet"
           }
          ],
          "choropleth": [
           {
            "colorbar": {
             "outlinewidth": 0,
             "ticks": ""
            },
            "type": "choropleth"
           }
          ],
          "contour": [
           {
            "colorbar": {
             "outlinewidth": 0,
             "ticks": ""
            },
            "colorscale": [
             [
              0,
              "#0d0887"
             ],
             [
              0.1111111111111111,
              "#46039f"
             ],
             [
              0.2222222222222222,
              "#7201a8"
             ],
             [
              0.3333333333333333,
              "#9c179e"
             ],
             [
              0.4444444444444444,
              "#bd3786"
             ],
             [
              0.5555555555555556,
              "#d8576b"
             ],
             [
              0.6666666666666666,
              "#ed7953"
             ],
             [
              0.7777777777777778,
              "#fb9f3a"
             ],
             [
              0.8888888888888888,
              "#fdca26"
             ],
             [
              1,
              "#f0f921"
             ]
            ],
            "type": "contour"
           }
          ],
          "contourcarpet": [
           {
            "colorbar": {
             "outlinewidth": 0,
             "ticks": ""
            },
            "type": "contourcarpet"
           }
          ],
          "heatmap": [
           {
            "colorbar": {
             "outlinewidth": 0,
             "ticks": ""
            },
            "colorscale": [
             [
              0,
              "#0d0887"
             ],
             [
              0.1111111111111111,
              "#46039f"
             ],
             [
              0.2222222222222222,
              "#7201a8"
             ],
             [
              0.3333333333333333,
              "#9c179e"
             ],
             [
              0.4444444444444444,
              "#bd3786"
             ],
             [
              0.5555555555555556,
              "#d8576b"
             ],
             [
              0.6666666666666666,
              "#ed7953"
             ],
             [
              0.7777777777777778,
              "#fb9f3a"
             ],
             [
              0.8888888888888888,
              "#fdca26"
             ],
             [
              1,
              "#f0f921"
             ]
            ],
            "type": "heatmap"
           }
          ],
          "heatmapgl": [
           {
            "colorbar": {
             "outlinewidth": 0,
             "ticks": ""
            },
            "colorscale": [
             [
              0,
              "#0d0887"
             ],
             [
              0.1111111111111111,
              "#46039f"
             ],
             [
              0.2222222222222222,
              "#7201a8"
             ],
             [
              0.3333333333333333,
              "#9c179e"
             ],
             [
              0.4444444444444444,
              "#bd3786"
             ],
             [
              0.5555555555555556,
              "#d8576b"
             ],
             [
              0.6666666666666666,
              "#ed7953"
             ],
             [
              0.7777777777777778,
              "#fb9f3a"
             ],
             [
              0.8888888888888888,
              "#fdca26"
             ],
             [
              1,
              "#f0f921"
             ]
            ],
            "type": "heatmapgl"
           }
          ],
          "histogram": [
           {
            "marker": {
             "pattern": {
              "fillmode": "overlay",
              "size": 10,
              "solidity": 0.2
             }
            },
            "type": "histogram"
           }
          ],
          "histogram2d": [
           {
            "colorbar": {
             "outlinewidth": 0,
             "ticks": ""
            },
            "colorscale": [
             [
              0,
              "#0d0887"
             ],
             [
              0.1111111111111111,
              "#46039f"
             ],
             [
              0.2222222222222222,
              "#7201a8"
             ],
             [
              0.3333333333333333,
              "#9c179e"
             ],
             [
              0.4444444444444444,
              "#bd3786"
             ],
             [
              0.5555555555555556,
              "#d8576b"
             ],
             [
              0.6666666666666666,
              "#ed7953"
             ],
             [
              0.7777777777777778,
              "#fb9f3a"
             ],
             [
              0.8888888888888888,
              "#fdca26"
             ],
             [
              1,
              "#f0f921"
             ]
            ],
            "type": "histogram2d"
           }
          ],
          "histogram2dcontour": [
           {
            "colorbar": {
             "outlinewidth": 0,
             "ticks": ""
            },
            "colorscale": [
             [
              0,
              "#0d0887"
             ],
             [
              0.1111111111111111,
              "#46039f"
             ],
             [
              0.2222222222222222,
              "#7201a8"
             ],
             [
              0.3333333333333333,
              "#9c179e"
             ],
             [
              0.4444444444444444,
              "#bd3786"
             ],
             [
              0.5555555555555556,
              "#d8576b"
             ],
             [
              0.6666666666666666,
              "#ed7953"
             ],
             [
              0.7777777777777778,
              "#fb9f3a"
             ],
             [
              0.8888888888888888,
              "#fdca26"
             ],
             [
              1,
              "#f0f921"
             ]
            ],
            "type": "histogram2dcontour"
           }
          ],
          "mesh3d": [
           {
            "colorbar": {
             "outlinewidth": 0,
             "ticks": ""
            },
            "type": "mesh3d"
           }
          ],
          "parcoords": [
           {
            "line": {
             "colorbar": {
              "outlinewidth": 0,
              "ticks": ""
             }
            },
            "type": "parcoords"
           }
          ],
          "pie": [
           {
            "automargin": true,
            "type": "pie"
           }
          ],
          "scatter": [
           {
            "fillpattern": {
             "fillmode": "overlay",
             "size": 10,
             "solidity": 0.2
            },
            "type": "scatter"
           }
          ],
          "scatter3d": [
           {
            "line": {
             "colorbar": {
              "outlinewidth": 0,
              "ticks": ""
             }
            },
            "marker": {
             "colorbar": {
              "outlinewidth": 0,
              "ticks": ""
             }
            },
            "type": "scatter3d"
           }
          ],
          "scattercarpet": [
           {
            "marker": {
             "colorbar": {
              "outlinewidth": 0,
              "ticks": ""
             }
            },
            "type": "scattercarpet"
           }
          ],
          "scattergeo": [
           {
            "marker": {
             "colorbar": {
              "outlinewidth": 0,
              "ticks": ""
             }
            },
            "type": "scattergeo"
           }
          ],
          "scattergl": [
           {
            "marker": {
             "colorbar": {
              "outlinewidth": 0,
              "ticks": ""
             }
            },
            "type": "scattergl"
           }
          ],
          "scattermapbox": [
           {
            "marker": {
             "colorbar": {
              "outlinewidth": 0,
              "ticks": ""
             }
            },
            "type": "scattermapbox"
           }
          ],
          "scatterpolar": [
           {
            "marker": {
             "colorbar": {
              "outlinewidth": 0,
              "ticks": ""
             }
            },
            "type": "scatterpolar"
           }
          ],
          "scatterpolargl": [
           {
            "marker": {
             "colorbar": {
              "outlinewidth": 0,
              "ticks": ""
             }
            },
            "type": "scatterpolargl"
           }
          ],
          "scatterternary": [
           {
            "marker": {
             "colorbar": {
              "outlinewidth": 0,
              "ticks": ""
             }
            },
            "type": "scatterternary"
           }
          ],
          "surface": [
           {
            "colorbar": {
             "outlinewidth": 0,
             "ticks": ""
            },
            "colorscale": [
             [
              0,
              "#0d0887"
             ],
             [
              0.1111111111111111,
              "#46039f"
             ],
             [
              0.2222222222222222,
              "#7201a8"
             ],
             [
              0.3333333333333333,
              "#9c179e"
             ],
             [
              0.4444444444444444,
              "#bd3786"
             ],
             [
              0.5555555555555556,
              "#d8576b"
             ],
             [
              0.6666666666666666,
              "#ed7953"
             ],
             [
              0.7777777777777778,
              "#fb9f3a"
             ],
             [
              0.8888888888888888,
              "#fdca26"
             ],
             [
              1,
              "#f0f921"
             ]
            ],
            "type": "surface"
           }
          ],
          "table": [
           {
            "cells": {
             "fill": {
              "color": "#EBF0F8"
             },
             "line": {
              "color": "white"
             }
            },
            "header": {
             "fill": {
              "color": "#C8D4E3"
             },
             "line": {
              "color": "white"
             }
            },
            "type": "table"
           }
          ]
         },
         "layout": {
          "annotationdefaults": {
           "arrowcolor": "#2a3f5f",
           "arrowhead": 0,
           "arrowwidth": 1
          },
          "autotypenumbers": "strict",
          "coloraxis": {
           "colorbar": {
            "outlinewidth": 0,
            "ticks": ""
           }
          },
          "colorscale": {
           "diverging": [
            [
             0,
             "#8e0152"
            ],
            [
             0.1,
             "#c51b7d"
            ],
            [
             0.2,
             "#de77ae"
            ],
            [
             0.3,
             "#f1b6da"
            ],
            [
             0.4,
             "#fde0ef"
            ],
            [
             0.5,
             "#f7f7f7"
            ],
            [
             0.6,
             "#e6f5d0"
            ],
            [
             0.7,
             "#b8e186"
            ],
            [
             0.8,
             "#7fbc41"
            ],
            [
             0.9,
             "#4d9221"
            ],
            [
             1,
             "#276419"
            ]
           ],
           "sequential": [
            [
             0,
             "#0d0887"
            ],
            [
             0.1111111111111111,
             "#46039f"
            ],
            [
             0.2222222222222222,
             "#7201a8"
            ],
            [
             0.3333333333333333,
             "#9c179e"
            ],
            [
             0.4444444444444444,
             "#bd3786"
            ],
            [
             0.5555555555555556,
             "#d8576b"
            ],
            [
             0.6666666666666666,
             "#ed7953"
            ],
            [
             0.7777777777777778,
             "#fb9f3a"
            ],
            [
             0.8888888888888888,
             "#fdca26"
            ],
            [
             1,
             "#f0f921"
            ]
           ],
           "sequentialminus": [
            [
             0,
             "#0d0887"
            ],
            [
             0.1111111111111111,
             "#46039f"
            ],
            [
             0.2222222222222222,
             "#7201a8"
            ],
            [
             0.3333333333333333,
             "#9c179e"
            ],
            [
             0.4444444444444444,
             "#bd3786"
            ],
            [
             0.5555555555555556,
             "#d8576b"
            ],
            [
             0.6666666666666666,
             "#ed7953"
            ],
            [
             0.7777777777777778,
             "#fb9f3a"
            ],
            [
             0.8888888888888888,
             "#fdca26"
            ],
            [
             1,
             "#f0f921"
            ]
           ]
          },
          "colorway": [
           "#636efa",
           "#EF553B",
           "#00cc96",
           "#ab63fa",
           "#FFA15A",
           "#19d3f3",
           "#FF6692",
           "#B6E880",
           "#FF97FF",
           "#FECB52"
          ],
          "font": {
           "color": "#2a3f5f"
          },
          "geo": {
           "bgcolor": "white",
           "lakecolor": "white",
           "landcolor": "#E5ECF6",
           "showlakes": true,
           "showland": true,
           "subunitcolor": "white"
          },
          "hoverlabel": {
           "align": "left"
          },
          "hovermode": "closest",
          "mapbox": {
           "style": "light"
          },
          "paper_bgcolor": "white",
          "plot_bgcolor": "#E5ECF6",
          "polar": {
           "angularaxis": {
            "gridcolor": "white",
            "linecolor": "white",
            "ticks": ""
           },
           "bgcolor": "#E5ECF6",
           "radialaxis": {
            "gridcolor": "white",
            "linecolor": "white",
            "ticks": ""
           }
          },
          "scene": {
           "xaxis": {
            "backgroundcolor": "#E5ECF6",
            "gridcolor": "white",
            "gridwidth": 2,
            "linecolor": "white",
            "showbackground": true,
            "ticks": "",
            "zerolinecolor": "white"
           },
           "yaxis": {
            "backgroundcolor": "#E5ECF6",
            "gridcolor": "white",
            "gridwidth": 2,
            "linecolor": "white",
            "showbackground": true,
            "ticks": "",
            "zerolinecolor": "white"
           },
           "zaxis": {
            "backgroundcolor": "#E5ECF6",
            "gridcolor": "white",
            "gridwidth": 2,
            "linecolor": "white",
            "showbackground": true,
            "ticks": "",
            "zerolinecolor": "white"
           }
          },
          "shapedefaults": {
           "line": {
            "color": "#2a3f5f"
           }
          },
          "ternary": {
           "aaxis": {
            "gridcolor": "white",
            "linecolor": "white",
            "ticks": ""
           },
           "baxis": {
            "gridcolor": "white",
            "linecolor": "white",
            "ticks": ""
           },
           "bgcolor": "#E5ECF6",
           "caxis": {
            "gridcolor": "white",
            "linecolor": "white",
            "ticks": ""
           }
          },
          "title": {
           "x": 0.05
          },
          "xaxis": {
           "automargin": true,
           "gridcolor": "white",
           "linecolor": "white",
           "ticks": "",
           "title": {
            "standoff": 15
           },
           "zerolinecolor": "white",
           "zerolinewidth": 2
          },
          "yaxis": {
           "automargin": true,
           "gridcolor": "white",
           "linecolor": "white",
           "ticks": "",
           "title": {
            "standoff": 15
           },
           "zerolinecolor": "white",
           "zerolinewidth": 2
          }
         }
        },
        "title": {
         "text": "2D Visualization of Embeddings"
        },
        "xaxis": {
         "anchor": "y",
         "domain": [
          0,
          1
         ],
         "title": {
          "text": "Dimension 1"
         }
        },
        "yaxis": {
         "anchor": "x",
         "domain": [
          0,
          1
         ],
         "title": {
          "text": "Dimension 2"
         }
        }
       }
      }
     },
     "metadata": {},
     "output_type": "display_data"
    }
   ],
   "source": [
    "# Plot using Plotly Express\n",
    "fig = px.scatter(df_template, x='embedding_2d_x', y='embedding_2d_y',\n",
    "                 title=\"2D Visualization of Embeddings\",\n",
    "                    hover_data={\"combined\"},\n",
    "                 labels={'embedding_2d_x': 'Dimension 1', 'embedding_2d_y': 'Dimension 2'},\n",
    "                 color='Famille')\n",
    "\n",
    "# Calculate the centroid (mean position) of each \"Famille\" in the 2D space\n",
    "centroids = df_template.groupby('Famille')[['embedding_2d_x', 'embedding_2d_y']].mean().reset_index()\n",
    "\n",
    "# Calculate the size of the label based on the number of points in each \"Famille\"\n",
    "famille_sizes = df_template['Famille'].value_counts().reset_index()\n",
    "famille_sizes.columns = ['Famille', 'size']\n",
    "\n",
    "# Merge the centroids with the sizes to adjust the label size\n",
    "centroids = centroids.merge(famille_sizes, on='Famille')\n",
    "\n",
    "# Add text labels for each \"Famille\" at its centroid position\n",
    "for i, row in centroids.iterrows():\n",
    "    fig.add_trace(go.Scatter(\n",
    "        x=[row['embedding_2d_x']],\n",
    "        y=[row['embedding_2d_y']],\n",
    "        text=[row['Famille']],\n",
    "        mode='text',\n",
    "        textfont=dict(size=row['size'] * 2),  # Adjust size based on the number of points\n",
    "        showlegend=False\n",
    "    ))\n",
    "\n",
    "# Show the plot\n",
    "fig.show()"
   ]
  },
  {
   "cell_type": "code",
   "execution_count": 14,
   "metadata": {},
   "outputs": [
    {
     "name": "stderr",
     "output_type": "stream",
     "text": [
      "c:\\Users\\cruz\\AppData\\Local\\anaconda3\\envs\\Carbon_AI\\Lib\\site-packages\\sentence_transformers\\cross_encoder\\CrossEncoder.py:13: TqdmWarning:\n",
      "\n",
      "IProgress not found. Please update jupyter and ipywidgets. See https://ipywidgets.readthedocs.io/en/stable/user_install.html\n",
      "\n"
     ]
    }
   ],
   "source": [
    "# Import libraries\n",
    "import requests\n",
    "import numpy as np\n",
    "import pandas as pd\n",
    "import sys\n",
    "from more_itertools import chunked\n",
    "from sklearn.cluster import MiniBatchKMeans\n",
    "import plotly.express as px\n",
    "from sentence_transformers import SentenceTransformer\n",
    "import pandas as pd\n"
   ]
  },
  {
   "cell_type": "code",
   "execution_count": 26,
   "metadata": {},
   "outputs": [],
   "source": [
    "df_original = pd.read_excel(r\"data\\input_data\\achats_EPFL\\Catalyse_Ligne articles 2023_TOTAL EPFL.xlsx\")\n"
   ]
  },
  {
   "cell_type": "code",
   "execution_count": 27,
   "metadata": {},
   "outputs": [],
   "source": [
    "df = df_original[df_original[\"Entité de gestion\"] == \"002000School of Life Sciences\"].drop_duplicates().reset_index().sample(1000)"
   ]
  },
  {
   "cell_type": "code",
   "execution_count": 29,
   "metadata": {},
   "outputs": [
    {
     "data": {
      "text/html": [
       "<div>\n",
       "<style scoped>\n",
       "    .dataframe tbody tr th:only-of-type {\n",
       "        vertical-align: middle;\n",
       "    }\n",
       "\n",
       "    .dataframe tbody tr th {\n",
       "        vertical-align: top;\n",
       "    }\n",
       "\n",
       "    .dataframe thead th {\n",
       "        text-align: right;\n",
       "    }\n",
       "</style>\n",
       "<table border=\"1\" class=\"dataframe\">\n",
       "  <thead>\n",
       "    <tr style=\"text-align: right;\">\n",
       "      <th></th>\n",
       "      <th>index</th>\n",
       "      <th>Code CDE</th>\n",
       "      <th>Date de commande</th>\n",
       "      <th>Référence article</th>\n",
       "      <th>Fournisseur</th>\n",
       "      <th>Libellé article</th>\n",
       "      <th>Unité Organisationnelle</th>\n",
       "      <th>Devise</th>\n",
       "      <th>PU commande</th>\n",
       "      <th>Qté commande</th>\n",
       "      <th>...</th>\n",
       "      <th>Familles Niveau 2</th>\n",
       "      <th>Statut</th>\n",
       "      <th>Type de DA</th>\n",
       "      <th>Entité de gestion</th>\n",
       "      <th>orga_com_order</th>\n",
       "      <th>orga_ent_order</th>\n",
       "      <th>orga_site_order</th>\n",
       "      <th>orga_order</th>\n",
       "      <th>orga_id</th>\n",
       "      <th>short_label</th>\n",
       "    </tr>\n",
       "  </thead>\n",
       "  <tbody>\n",
       "    <tr>\n",
       "      <th>1419</th>\n",
       "      <td>5179</td>\n",
       "      <td>400369684</td>\n",
       "      <td>2023-01-17</td>\n",
       "      <td>10447080</td>\n",
       "      <td>219</td>\n",
       "      <td>1KG D(+)- Glucose Monohydrate BAKER ANALYZED R...</td>\n",
       "      <td>Unité du Prof. La Manno</td>\n",
       "      <td>CHF</td>\n",
       "      <td>49.23</td>\n",
       "      <td>1.0</td>\n",
       "      <td>...</td>\n",
       "      <td>3.0</td>\n",
       "      <td>En cours de commande</td>\n",
       "      <td>sciquest_catalog</td>\n",
       "      <td>002000School of Life Sciences</td>\n",
       "      <td>003000Ecole Polytechnique de Lausanne</td>\n",
       "      <td>004000Brain Mind Institute</td>\n",
       "      <td>005000Prof. La Manno Group</td>\n",
       "      <td>005000Prof. La Manno Group</td>\n",
       "      <td>1796</td>\n",
       "      <td>UPLAMANNO</td>\n",
       "    </tr>\n",
       "    <tr>\n",
       "      <th>30095</th>\n",
       "      <td>108582</td>\n",
       "      <td>400429499</td>\n",
       "      <td>2023-09-27</td>\n",
       "      <td>318111</td>\n",
       "      <td>836</td>\n",
       "      <td>PAQ25 CHEM C LYR PREM BLEU 11073780</td>\n",
       "      <td>Unité du Prof. Lutolf</td>\n",
       "      <td>CHF</td>\n",
       "      <td>3.60</td>\n",
       "      <td>1.0</td>\n",
       "      <td>...</td>\n",
       "      <td>21.0</td>\n",
       "      <td>En cours de commande</td>\n",
       "      <td>extern_catalog</td>\n",
       "      <td>002000School of Life Sciences</td>\n",
       "      <td>003000Ecole Polytechnique de Lausanne</td>\n",
       "      <td>004000Interschool Institute of Bioengineering ...</td>\n",
       "      <td>005000Prof. Lutolf Group</td>\n",
       "      <td>005000Prof. Lutolf Group</td>\n",
       "      <td>2394</td>\n",
       "      <td>UPLUT</td>\n",
       "    </tr>\n",
       "    <tr>\n",
       "      <th>37059</th>\n",
       "      <td>133703</td>\n",
       "      <td>400442725</td>\n",
       "      <td>2023-11-17</td>\n",
       "      <td>05277990001</td>\n",
       "      <td>219</td>\n",
       "      <td>CONFIRM ANTI-PR (1E2)</td>\n",
       "      <td>Unité de la Prof. Brisken</td>\n",
       "      <td>CHF</td>\n",
       "      <td>550.00</td>\n",
       "      <td>1.0</td>\n",
       "      <td>...</td>\n",
       "      <td>19.0</td>\n",
       "      <td>En cours de commande</td>\n",
       "      <td>sciquest_catalog</td>\n",
       "      <td>002000School of Life Sciences</td>\n",
       "      <td>003000Ecole Polytechnique de Lausanne</td>\n",
       "      <td>004000Swiss Institute for Experimental Cancer ...</td>\n",
       "      <td>005000Prof. Brisken Group</td>\n",
       "      <td>005000Prof. Brisken Group</td>\n",
       "      <td>2370</td>\n",
       "      <td>UPBRI</td>\n",
       "    </tr>\n",
       "    <tr>\n",
       "      <th>16635</th>\n",
       "      <td>61650</td>\n",
       "      <td>400402818</td>\n",
       "      <td>2023-05-30</td>\n",
       "      <td>520185</td>\n",
       "      <td>262</td>\n",
       "      <td>microTUBE-500 AFA Fiber Screw- Cap (25)</td>\n",
       "      <td>Unité du Prof. Radtke</td>\n",
       "      <td>EUR</td>\n",
       "      <td>269.00</td>\n",
       "      <td>4.0</td>\n",
       "      <td>...</td>\n",
       "      <td>NaN</td>\n",
       "      <td>En cours de commande</td>\n",
       "      <td>buy</td>\n",
       "      <td>002000School of Life Sciences</td>\n",
       "      <td>003000Ecole Polytechnique de Lausanne</td>\n",
       "      <td>004000Swiss Institute for Experimental Cancer ...</td>\n",
       "      <td>005000Prof. Radtke Group</td>\n",
       "      <td>005000Prof. Radtke Group</td>\n",
       "      <td>2402</td>\n",
       "      <td>UPRAD</td>\n",
       "    </tr>\n",
       "    <tr>\n",
       "      <th>1218</th>\n",
       "      <td>4369</td>\n",
       "      <td>400369223</td>\n",
       "      <td>2023-01-15</td>\n",
       "      <td>211-2129</td>\n",
       "      <td>219</td>\n",
       "      <td>Tube Safelock 2.0ml Rainbow Pack, UoM: 1 1.000...</td>\n",
       "      <td>Unité de la Prof. Gisou van der Goot</td>\n",
       "      <td>CHF</td>\n",
       "      <td>69.16</td>\n",
       "      <td>1.0</td>\n",
       "      <td>...</td>\n",
       "      <td>18.0</td>\n",
       "      <td>En cours de commande</td>\n",
       "      <td>sciquest_catalog</td>\n",
       "      <td>002000School of Life Sciences</td>\n",
       "      <td>003000Ecole Polytechnique de Lausanne</td>\n",
       "      <td>004000Global Health Institute</td>\n",
       "      <td>005000Prof. van der Goot Group</td>\n",
       "      <td>005000Prof. van der Goot Group</td>\n",
       "      <td>2420</td>\n",
       "      <td>VDG</td>\n",
       "    </tr>\n",
       "  </tbody>\n",
       "</table>\n",
       "<p>5 rows × 29 columns</p>\n",
       "</div>"
      ],
      "text/plain": [
       "        index   Code CDE Date de commande Référence article  Fournisseur  \\\n",
       "1419     5179  400369684       2023-01-17          10447080          219   \n",
       "30095  108582  400429499       2023-09-27            318111          836   \n",
       "37059  133703  400442725       2023-11-17       05277990001          219   \n",
       "16635   61650  400402818       2023-05-30            520185          262   \n",
       "1218     4369  400369223       2023-01-15          211-2129          219   \n",
       "\n",
       "                                         Libellé article  \\\n",
       "1419   1KG D(+)- Glucose Monohydrate BAKER ANALYZED R...   \n",
       "30095                PAQ25 CHEM C LYR PREM BLEU 11073780   \n",
       "37059                              CONFIRM ANTI-PR (1E2)   \n",
       "16635            microTUBE-500 AFA Fiber Screw- Cap (25)   \n",
       "1218   Tube Safelock 2.0ml Rainbow Pack, UoM: 1 1.000...   \n",
       "\n",
       "                    Unité Organisationnelle Devise  PU commande  Qté commande  \\\n",
       "1419                Unité du Prof. La Manno    CHF        49.23           1.0   \n",
       "30095                 Unité du Prof. Lutolf    CHF         3.60           1.0   \n",
       "37059             Unité de la Prof. Brisken    CHF       550.00           1.0   \n",
       "16635                 Unité du Prof. Radtke    EUR       269.00           4.0   \n",
       "1218   Unité de la Prof. Gisou van der Goot    CHF        69.16           1.0   \n",
       "\n",
       "       ...  Familles Niveau 2                Statut        Type de DA  \\\n",
       "1419   ...                3.0  En cours de commande  sciquest_catalog   \n",
       "30095  ...               21.0  En cours de commande    extern_catalog   \n",
       "37059  ...               19.0  En cours de commande  sciquest_catalog   \n",
       "16635  ...                NaN  En cours de commande               buy   \n",
       "1218   ...               18.0  En cours de commande  sciquest_catalog   \n",
       "\n",
       "                   Entité de gestion                         orga_com_order  \\\n",
       "1419   002000School of Life Sciences  003000Ecole Polytechnique de Lausanne   \n",
       "30095  002000School of Life Sciences  003000Ecole Polytechnique de Lausanne   \n",
       "37059  002000School of Life Sciences  003000Ecole Polytechnique de Lausanne   \n",
       "16635  002000School of Life Sciences  003000Ecole Polytechnique de Lausanne   \n",
       "1218   002000School of Life Sciences  003000Ecole Polytechnique de Lausanne   \n",
       "\n",
       "                                          orga_ent_order  \\\n",
       "1419                          004000Brain Mind Institute   \n",
       "30095  004000Interschool Institute of Bioengineering ...   \n",
       "37059  004000Swiss Institute for Experimental Cancer ...   \n",
       "16635  004000Swiss Institute for Experimental Cancer ...   \n",
       "1218                       004000Global Health Institute   \n",
       "\n",
       "                      orga_site_order                      orga_order orga_id  \\\n",
       "1419       005000Prof. La Manno Group      005000Prof. La Manno Group    1796   \n",
       "30095        005000Prof. Lutolf Group        005000Prof. Lutolf Group    2394   \n",
       "37059       005000Prof. Brisken Group       005000Prof. Brisken Group    2370   \n",
       "16635        005000Prof. Radtke Group        005000Prof. Radtke Group    2402   \n",
       "1218   005000Prof. van der Goot Group  005000Prof. van der Goot Group    2420   \n",
       "\n",
       "       short_label  \n",
       "1419     UPLAMANNO  \n",
       "30095        UPLUT  \n",
       "37059        UPBRI  \n",
       "16635        UPRAD  \n",
       "1218           VDG  \n",
       "\n",
       "[5 rows x 29 columns]"
      ]
     },
     "execution_count": 29,
     "metadata": {},
     "output_type": "execute_result"
    }
   ],
   "source": [
    "df.head()"
   ]
  },
  {
   "cell_type": "code",
   "execution_count": 30,
   "metadata": {},
   "outputs": [],
   "source": [
    "df[\"text\"] = df[\"Libellé article\"] + \" \" + df[\"Famille\"]"
   ]
  },
  {
   "cell_type": "code",
   "execution_count": 31,
   "metadata": {},
   "outputs": [
    {
     "data": {
      "text/plain": [
       "1419     1KG D(+)- Glucose Monohydrate BAKER ANALYZED R...\n",
       "30095    PAQ25 CHEM C LYR PREM BLEU 11073780 Accessoire...\n",
       "37059    CONFIRM ANTI-PR (1E2) Produits de suture médic...\n",
       "16635    microTUBE-500 AFA Fiber Screw- Cap (25) Équipe...\n",
       "1218     Tube Safelock 2.0ml Rainbow Pack, UoM: 1 1.000...\n",
       "                               ...                        \n",
       "27835    05_fragCry1Venus_FOR;DNA-synthesis 38625 Fourn...\n",
       "23916    SC1626 Mutagenesis:pET29b-TotA R76D K77E Targe...\n",
       "33735                         Triton(TM) X-100 Surfacteurs\n",
       "10398    code775 Loc: C4-4 Filtre Stericup-GP 0.22micro...\n",
       "6496     Adhesive aluminium PCR Foil Seal (135mm x 80mm...\n",
       "Name: text, Length: 1000, dtype: object"
      ]
     },
     "execution_count": 31,
     "metadata": {},
     "output_type": "execute_result"
    }
   ],
   "source": [
    "df[\"text\"]"
   ]
  },
  {
   "cell_type": "code",
   "execution_count": 32,
   "metadata": {},
   "outputs": [
    {
     "name": "stdout",
     "output_type": "stream",
     "text": [
      "processed for 1000 works so far... (out of 1000)"
     ]
    }
   ],
   "source": [
    "batch_size = 64\n",
    "\n",
    "model = SentenceTransformer('all-mpnet-base-v2', device='cpu')\n",
    "\n",
    "embeddings = []\n",
    "for batch_text in chunked(df['text'].tolist(), batch_size):\n",
    "    embeddings.extend(model.encode(batch_text, show_progress_bar=False))\n",
    "    sys.stdout.write(f'\\rprocessed for {len(embeddings)} works so far... (out of {df.shape[0]})')\n",
    "    sys.stdout.flush()\n",
    "\n",
    "embeddings = pd.DataFrame(embeddings, index=df.index)\n",
    "embeddings.to_pickle('data/output/sample_SV_1000.pkl')"
   ]
  },
  {
   "cell_type": "code",
   "execution_count": 46,
   "metadata": {},
   "outputs": [
    {
     "data": {
      "text/html": [
       "<div>\n",
       "<style scoped>\n",
       "    .dataframe tbody tr th:only-of-type {\n",
       "        vertical-align: middle;\n",
       "    }\n",
       "\n",
       "    .dataframe tbody tr th {\n",
       "        vertical-align: top;\n",
       "    }\n",
       "\n",
       "    .dataframe thead th {\n",
       "        text-align: right;\n",
       "    }\n",
       "</style>\n",
       "<table border=\"1\" class=\"dataframe\">\n",
       "  <thead>\n",
       "    <tr style=\"text-align: right;\">\n",
       "      <th></th>\n",
       "      <th>0</th>\n",
       "      <th>1</th>\n",
       "      <th>2</th>\n",
       "      <th>3</th>\n",
       "      <th>4</th>\n",
       "      <th>5</th>\n",
       "      <th>6</th>\n",
       "      <th>7</th>\n",
       "      <th>8</th>\n",
       "      <th>9</th>\n",
       "      <th>...</th>\n",
       "      <th>758</th>\n",
       "      <th>759</th>\n",
       "      <th>760</th>\n",
       "      <th>761</th>\n",
       "      <th>762</th>\n",
       "      <th>763</th>\n",
       "      <th>764</th>\n",
       "      <th>765</th>\n",
       "      <th>766</th>\n",
       "      <th>767</th>\n",
       "    </tr>\n",
       "  </thead>\n",
       "  <tbody>\n",
       "    <tr>\n",
       "      <th>1419</th>\n",
       "      <td>0.004837</td>\n",
       "      <td>-0.043324</td>\n",
       "      <td>0.030722</td>\n",
       "      <td>0.005353</td>\n",
       "      <td>-0.011821</td>\n",
       "      <td>-0.003475</td>\n",
       "      <td>-0.045990</td>\n",
       "      <td>0.027302</td>\n",
       "      <td>0.100840</td>\n",
       "      <td>-0.017800</td>\n",
       "      <td>...</td>\n",
       "      <td>-0.016984</td>\n",
       "      <td>-0.011189</td>\n",
       "      <td>0.046705</td>\n",
       "      <td>0.015515</td>\n",
       "      <td>0.022401</td>\n",
       "      <td>-0.033403</td>\n",
       "      <td>-0.006658</td>\n",
       "      <td>0.032575</td>\n",
       "      <td>-0.030485</td>\n",
       "      <td>0.024166</td>\n",
       "    </tr>\n",
       "    <tr>\n",
       "      <th>30095</th>\n",
       "      <td>0.057422</td>\n",
       "      <td>-0.064960</td>\n",
       "      <td>0.009479</td>\n",
       "      <td>0.071891</td>\n",
       "      <td>-0.049539</td>\n",
       "      <td>0.010212</td>\n",
       "      <td>-0.006256</td>\n",
       "      <td>0.044116</td>\n",
       "      <td>0.035753</td>\n",
       "      <td>-0.007000</td>\n",
       "      <td>...</td>\n",
       "      <td>-0.029097</td>\n",
       "      <td>-0.020320</td>\n",
       "      <td>-0.053384</td>\n",
       "      <td>-0.017962</td>\n",
       "      <td>-0.040405</td>\n",
       "      <td>0.039769</td>\n",
       "      <td>0.004800</td>\n",
       "      <td>0.015020</td>\n",
       "      <td>-0.090999</td>\n",
       "      <td>-0.031756</td>\n",
       "    </tr>\n",
       "    <tr>\n",
       "      <th>37059</th>\n",
       "      <td>-0.013315</td>\n",
       "      <td>-0.077190</td>\n",
       "      <td>0.019967</td>\n",
       "      <td>-0.011411</td>\n",
       "      <td>-0.046317</td>\n",
       "      <td>-0.025712</td>\n",
       "      <td>0.030896</td>\n",
       "      <td>-0.009542</td>\n",
       "      <td>-0.010570</td>\n",
       "      <td>-0.032571</td>\n",
       "      <td>...</td>\n",
       "      <td>-0.082060</td>\n",
       "      <td>-0.039444</td>\n",
       "      <td>-0.050130</td>\n",
       "      <td>0.013852</td>\n",
       "      <td>-0.003346</td>\n",
       "      <td>0.072097</td>\n",
       "      <td>-0.046098</td>\n",
       "      <td>-0.001136</td>\n",
       "      <td>-0.027623</td>\n",
       "      <td>-0.007114</td>\n",
       "    </tr>\n",
       "    <tr>\n",
       "      <th>16635</th>\n",
       "      <td>-0.040176</td>\n",
       "      <td>-0.095186</td>\n",
       "      <td>-0.005494</td>\n",
       "      <td>0.037761</td>\n",
       "      <td>0.015166</td>\n",
       "      <td>-0.029424</td>\n",
       "      <td>0.071834</td>\n",
       "      <td>-0.039032</td>\n",
       "      <td>0.031631</td>\n",
       "      <td>-0.018981</td>\n",
       "      <td>...</td>\n",
       "      <td>-0.043439</td>\n",
       "      <td>0.000126</td>\n",
       "      <td>0.025105</td>\n",
       "      <td>-0.028467</td>\n",
       "      <td>0.022703</td>\n",
       "      <td>-0.041000</td>\n",
       "      <td>0.033013</td>\n",
       "      <td>0.032413</td>\n",
       "      <td>-0.060949</td>\n",
       "      <td>-0.021654</td>\n",
       "    </tr>\n",
       "    <tr>\n",
       "      <th>1218</th>\n",
       "      <td>0.036742</td>\n",
       "      <td>-0.100802</td>\n",
       "      <td>-0.018065</td>\n",
       "      <td>0.017228</td>\n",
       "      <td>-0.016738</td>\n",
       "      <td>0.008368</td>\n",
       "      <td>0.064605</td>\n",
       "      <td>-0.009954</td>\n",
       "      <td>-0.011448</td>\n",
       "      <td>0.012513</td>\n",
       "      <td>...</td>\n",
       "      <td>-0.034413</td>\n",
       "      <td>0.023326</td>\n",
       "      <td>0.020342</td>\n",
       "      <td>0.001134</td>\n",
       "      <td>0.016093</td>\n",
       "      <td>-0.044275</td>\n",
       "      <td>-0.003831</td>\n",
       "      <td>-0.001796</td>\n",
       "      <td>-0.046466</td>\n",
       "      <td>-0.007435</td>\n",
       "    </tr>\n",
       "    <tr>\n",
       "      <th>...</th>\n",
       "      <td>...</td>\n",
       "      <td>...</td>\n",
       "      <td>...</td>\n",
       "      <td>...</td>\n",
       "      <td>...</td>\n",
       "      <td>...</td>\n",
       "      <td>...</td>\n",
       "      <td>...</td>\n",
       "      <td>...</td>\n",
       "      <td>...</td>\n",
       "      <td>...</td>\n",
       "      <td>...</td>\n",
       "      <td>...</td>\n",
       "      <td>...</td>\n",
       "      <td>...</td>\n",
       "      <td>...</td>\n",
       "      <td>...</td>\n",
       "      <td>...</td>\n",
       "      <td>...</td>\n",
       "      <td>...</td>\n",
       "      <td>...</td>\n",
       "    </tr>\n",
       "    <tr>\n",
       "      <th>27835</th>\n",
       "      <td>0.033574</td>\n",
       "      <td>-0.014208</td>\n",
       "      <td>0.000902</td>\n",
       "      <td>-0.009746</td>\n",
       "      <td>-0.051076</td>\n",
       "      <td>0.032646</td>\n",
       "      <td>0.034221</td>\n",
       "      <td>0.003513</td>\n",
       "      <td>-0.018104</td>\n",
       "      <td>-0.070112</td>\n",
       "      <td>...</td>\n",
       "      <td>-0.042790</td>\n",
       "      <td>-0.031809</td>\n",
       "      <td>0.005864</td>\n",
       "      <td>-0.017028</td>\n",
       "      <td>-0.001266</td>\n",
       "      <td>0.002702</td>\n",
       "      <td>0.000669</td>\n",
       "      <td>0.032523</td>\n",
       "      <td>-0.021458</td>\n",
       "      <td>-0.025745</td>\n",
       "    </tr>\n",
       "    <tr>\n",
       "      <th>23916</th>\n",
       "      <td>-0.000887</td>\n",
       "      <td>-0.059469</td>\n",
       "      <td>0.035540</td>\n",
       "      <td>0.015135</td>\n",
       "      <td>0.012598</td>\n",
       "      <td>0.013568</td>\n",
       "      <td>-0.014302</td>\n",
       "      <td>0.026083</td>\n",
       "      <td>0.016095</td>\n",
       "      <td>-0.000315</td>\n",
       "      <td>...</td>\n",
       "      <td>-0.066303</td>\n",
       "      <td>0.040851</td>\n",
       "      <td>-0.070686</td>\n",
       "      <td>0.039556</td>\n",
       "      <td>-0.015277</td>\n",
       "      <td>0.006357</td>\n",
       "      <td>0.026885</td>\n",
       "      <td>-0.040896</td>\n",
       "      <td>-0.025487</td>\n",
       "      <td>0.022504</td>\n",
       "    </tr>\n",
       "    <tr>\n",
       "      <th>33735</th>\n",
       "      <td>0.040125</td>\n",
       "      <td>-0.112656</td>\n",
       "      <td>0.009105</td>\n",
       "      <td>0.000120</td>\n",
       "      <td>-0.016832</td>\n",
       "      <td>-0.023168</td>\n",
       "      <td>0.026873</td>\n",
       "      <td>0.014081</td>\n",
       "      <td>0.010421</td>\n",
       "      <td>-0.021760</td>\n",
       "      <td>...</td>\n",
       "      <td>-0.075677</td>\n",
       "      <td>-0.021877</td>\n",
       "      <td>0.056161</td>\n",
       "      <td>0.022168</td>\n",
       "      <td>0.028974</td>\n",
       "      <td>-0.022717</td>\n",
       "      <td>-0.043487</td>\n",
       "      <td>-0.017266</td>\n",
       "      <td>-0.016742</td>\n",
       "      <td>0.038670</td>\n",
       "    </tr>\n",
       "    <tr>\n",
       "      <th>10398</th>\n",
       "      <td>0.019068</td>\n",
       "      <td>-0.065062</td>\n",
       "      <td>-0.002974</td>\n",
       "      <td>0.029213</td>\n",
       "      <td>-0.046251</td>\n",
       "      <td>-0.005345</td>\n",
       "      <td>0.034036</td>\n",
       "      <td>0.029401</td>\n",
       "      <td>0.061111</td>\n",
       "      <td>0.013081</td>\n",
       "      <td>...</td>\n",
       "      <td>-0.044436</td>\n",
       "      <td>0.006931</td>\n",
       "      <td>0.022666</td>\n",
       "      <td>0.006372</td>\n",
       "      <td>-0.019497</td>\n",
       "      <td>-0.001017</td>\n",
       "      <td>0.048937</td>\n",
       "      <td>0.012601</td>\n",
       "      <td>-0.084777</td>\n",
       "      <td>-0.014920</td>\n",
       "    </tr>\n",
       "    <tr>\n",
       "      <th>6496</th>\n",
       "      <td>-0.017212</td>\n",
       "      <td>0.004874</td>\n",
       "      <td>0.007492</td>\n",
       "      <td>-0.023465</td>\n",
       "      <td>0.000924</td>\n",
       "      <td>-0.024507</td>\n",
       "      <td>0.028871</td>\n",
       "      <td>-0.002762</td>\n",
       "      <td>0.032069</td>\n",
       "      <td>-0.003978</td>\n",
       "      <td>...</td>\n",
       "      <td>-0.066538</td>\n",
       "      <td>-0.047992</td>\n",
       "      <td>0.048031</td>\n",
       "      <td>-0.033391</td>\n",
       "      <td>-0.019535</td>\n",
       "      <td>0.106065</td>\n",
       "      <td>0.026368</td>\n",
       "      <td>0.035131</td>\n",
       "      <td>-0.092655</td>\n",
       "      <td>-0.016644</td>\n",
       "    </tr>\n",
       "  </tbody>\n",
       "</table>\n",
       "<p>1000 rows × 768 columns</p>\n",
       "</div>"
      ],
      "text/plain": [
       "            0         1         2         3         4         5         6    \\\n",
       "1419   0.004837 -0.043324  0.030722  0.005353 -0.011821 -0.003475 -0.045990   \n",
       "30095  0.057422 -0.064960  0.009479  0.071891 -0.049539  0.010212 -0.006256   \n",
       "37059 -0.013315 -0.077190  0.019967 -0.011411 -0.046317 -0.025712  0.030896   \n",
       "16635 -0.040176 -0.095186 -0.005494  0.037761  0.015166 -0.029424  0.071834   \n",
       "1218   0.036742 -0.100802 -0.018065  0.017228 -0.016738  0.008368  0.064605   \n",
       "...         ...       ...       ...       ...       ...       ...       ...   \n",
       "27835  0.033574 -0.014208  0.000902 -0.009746 -0.051076  0.032646  0.034221   \n",
       "23916 -0.000887 -0.059469  0.035540  0.015135  0.012598  0.013568 -0.014302   \n",
       "33735  0.040125 -0.112656  0.009105  0.000120 -0.016832 -0.023168  0.026873   \n",
       "10398  0.019068 -0.065062 -0.002974  0.029213 -0.046251 -0.005345  0.034036   \n",
       "6496  -0.017212  0.004874  0.007492 -0.023465  0.000924 -0.024507  0.028871   \n",
       "\n",
       "            7         8         9    ...       758       759       760  \\\n",
       "1419   0.027302  0.100840 -0.017800  ... -0.016984 -0.011189  0.046705   \n",
       "30095  0.044116  0.035753 -0.007000  ... -0.029097 -0.020320 -0.053384   \n",
       "37059 -0.009542 -0.010570 -0.032571  ... -0.082060 -0.039444 -0.050130   \n",
       "16635 -0.039032  0.031631 -0.018981  ... -0.043439  0.000126  0.025105   \n",
       "1218  -0.009954 -0.011448  0.012513  ... -0.034413  0.023326  0.020342   \n",
       "...         ...       ...       ...  ...       ...       ...       ...   \n",
       "27835  0.003513 -0.018104 -0.070112  ... -0.042790 -0.031809  0.005864   \n",
       "23916  0.026083  0.016095 -0.000315  ... -0.066303  0.040851 -0.070686   \n",
       "33735  0.014081  0.010421 -0.021760  ... -0.075677 -0.021877  0.056161   \n",
       "10398  0.029401  0.061111  0.013081  ... -0.044436  0.006931  0.022666   \n",
       "6496  -0.002762  0.032069 -0.003978  ... -0.066538 -0.047992  0.048031   \n",
       "\n",
       "            761       762       763       764       765       766       767  \n",
       "1419   0.015515  0.022401 -0.033403 -0.006658  0.032575 -0.030485  0.024166  \n",
       "30095 -0.017962 -0.040405  0.039769  0.004800  0.015020 -0.090999 -0.031756  \n",
       "37059  0.013852 -0.003346  0.072097 -0.046098 -0.001136 -0.027623 -0.007114  \n",
       "16635 -0.028467  0.022703 -0.041000  0.033013  0.032413 -0.060949 -0.021654  \n",
       "1218   0.001134  0.016093 -0.044275 -0.003831 -0.001796 -0.046466 -0.007435  \n",
       "...         ...       ...       ...       ...       ...       ...       ...  \n",
       "27835 -0.017028 -0.001266  0.002702  0.000669  0.032523 -0.021458 -0.025745  \n",
       "23916  0.039556 -0.015277  0.006357  0.026885 -0.040896 -0.025487  0.022504  \n",
       "33735  0.022168  0.028974 -0.022717 -0.043487 -0.017266 -0.016742  0.038670  \n",
       "10398  0.006372 -0.019497 -0.001017  0.048937  0.012601 -0.084777 -0.014920  \n",
       "6496  -0.033391 -0.019535  0.106065  0.026368  0.035131 -0.092655 -0.016644  \n",
       "\n",
       "[1000 rows x 768 columns]"
      ]
     },
     "execution_count": 46,
     "metadata": {},
     "output_type": "execute_result"
    }
   ],
   "source": [
    "embeddings"
   ]
  },
  {
   "cell_type": "code",
   "execution_count": 33,
   "metadata": {},
   "outputs": [],
   "source": [
    "n_clusters = 12\n",
    "kmeans = MiniBatchKMeans(n_clusters=n_clusters, n_init='auto')\n",
    "batch_size = 10000\n",
    "for i in range(0, len(embeddings), batch_size):\n",
    "    batch = embeddings.iloc[i:i+batch_size]\n",
    "    kmeans.partial_fit(batch)\n",
    "\n",
    "df['cluster'] = kmeans.predict(embeddings)\n"
   ]
  },
  {
   "cell_type": "code",
   "execution_count": 34,
   "metadata": {},
   "outputs": [
    {
     "data": {
      "text/plain": [
       "{9: ['DMEM, high glucose, no glutamine Fournitures pour culture de tissus et criblage à haut débit',\n",
       "  'Water Produits biochimiques',\n",
       "  'DMEM/F-12, GlutaMAX Supplement-500 mL Loc: F1-2 4deg Produits biochimiques',\n",
       "  '16% FORMALDEHYDE (W/V), METHANOL-FREE 10 X 1 ML, UoM: 1 1 SET, CAS: 50-00-0, 1 1 SET Produits biochimiques',\n",
       "  'Glycerol Dérivés organiques et composés avec substitution',\n",
       "  'L-Glutamic acid monopotassium salt monohydrate Produits biochimiques',\n",
       "  'DMEM, high glucose, pyruvate-500 mL Loc: F2-1 4deg Produits biochimiques',\n",
       "  'DMEM high glucose GlutaMAX supplement- Fournitures pour culture de tissus et criblage à haut débit',\n",
       "  'BMS-986235 Produits biochimiques',\n",
       "  'Mettler-Toledo certified buffer pH 4.01, volume 6 x 250 mL Produits biochimiques'],\n",
       " 3: ['code121 Loc: J4-3 Savon main Bactolin Pure 500ml 981389 Fournitures et matériels de laboratoire',\n",
       "  'code738 Loc: M4-3 TipOne filter tips 1-200 ul Fournitures et matériels de laboratoire',\n",
       "  'Code369   Gant Vasco Nitrile Bleu M  Loc: K7 1+2   9209825 Fournitures et matériels de laboratoire',\n",
       "  'MINI TUBE, 12 STRIP, POLYPROPYLENE, 1.1 ML, CLEAR, NONSTERILE, BULK,4800caps Embouts de pipettes',\n",
       "  'code349T  Loc: R-2   Ethanol, absolute, for analysis , CAS 64-17-5, 2.5L  E/0650DF/17 Solvants',\n",
       "  'code908 Bidon poly nature 5 L avec bouchon noir Fournitures et matériels de laboratoire',\n",
       "  'Code12 Loc: 00  Mouchoir 2-plis super soft blanc 20X19,5MM   VWRI115-0600 Fournitures et matériels de laboratoire',\n",
       "  '(R)-(-)-2,2-Dimethyl-1,3-dioxolane-4-methanol,10GR Composés et mélanges',\n",
       "  'AscI, recombinant, 2500 units Produits biochimiques',\n",
       "  'code143 Loc: K1 Gant LATEX taille S sans poudre BRAUN Vasco Sensitive 6067526 Fournitures et matériels de laboratoire'],\n",
       " 6: ['Code5 Loc: B1+2 TUBE A CENTRIFUGER CULTURE PP 50ml 30x115mm SCREW CAP /25 FALCON x500 Fournitures et matériels de laboratoire',\n",
       "  'code178 Loc: N3 Pipette serologique 5 ml unitaire sterile SARSTEDT 86.1253.001 Fournitures et matériels de laboratoire',\n",
       "  'code471  Loc: A3-2  Plaque Multiwell 96 puits sterile indiv     FALCON BDAA353072 Fournitures et matériels de laboratoire',\n",
       "  'Penicillin-Streptomycin (10,000 U/mL)-100 mL Loc: B7-2 -20deg Fournitures pour culture de tissus et criblage à haut débit',\n",
       "  'code85 Loc: D5-4 Filtre/Stericup 150mL, 50mm diam, 0.22microm, Polythersulfone, avec pre-filtre Systeme de filtration CORNING 431153 Fournitures et matériels de laboratoire',\n",
       "  \"GRIPTIPS® 300 μl stériles à filtre, V96, 5 racks de 96 pointes Équipements de laboratoire, de mesure, d'observation et d'essai\",\n",
       "  'x200 microtube screw cap 5.0 mL (2 bags of 100 tubes) Tubes',\n",
       "  'Greiner Bio-One Tubes a centrifuger conique, PP, 30x115 mm, 50 ml, steril, Tubes',\n",
       "  'eBioscience IC Fixation Buffer Réactifs pour analyseurs diagnostiques et cliniques',\n",
       "  'code473 Loc: C2+3  Flask culture 150 cm2 bouchon filtre TPP TPPA90151 Fournitures et matériels de laboratoire'],\n",
       " 11: ['Perfusion Pencil 8 channel manifold - Zero Dead Volume with protective 1/8\" tubing Équipements de laboratoire, de mesure, d\\'observation et d\\'essai',\n",
       "  'LS Columns Kits de test, contrôles qualité, calibreurs et standards manuels',\n",
       "  'Neurobasal Medium-500 mL Loc: F1-2 4deg Produits biochimiques',\n",
       "  'Bottle-Top Filtre 1000 ml Équipements ou accessoires de filtration pour laboratoire',\n",
       "  '16% Paraformaldehyde (formaldehyde)aqueous solution (10 ampoules x 10mL) QuantomiX =25USD Conteneurs et armoires de laboratoire à usage général',\n",
       "  \"Réfrigérateur de laboratoire Liebherr type CoolSafe 18860 Équipements de laboratoire, de mesure, d'observation et d'essai\",\n",
       "  \"PH INDICATORS, COLOUR BONDED, 0.0 TO 14.0 RANGE, 6 X 80MM, 100 STRIPS 1/PK, UoM: 1 100 items, 1 100 items Instruments et fournitures pour l'évaluation chimique\",\n",
       "  \"PTFE / FEP;Dual-Shrink Équipements de laboratoire, de mesure, d'observation et d'essai\",\n",
       "  'Hu ULBP-2/5/6 BV605 165903 50ug Réactifs pour analyseurs diagnostiques et cliniques',\n",
       "  'Sigma-Aldrich(R) electroporation cuvettes Fournitures, articles en verre et plastiques pour laboratoire à usage général'],\n",
       " 1: ['Grey Pro Resin 1 L Consommables biologiques, chimiques et gazeux',\n",
       "  'FULL GENE SETUP SERV 0 - 3 KB Consommables biologiques, chimiques et gazeux',\n",
       "  \"Whatman GB005 Blotting Paper 15 x 15 cm 25/pk Systèmes et fournitures d'électrophorèse et de transfert pour laboratoire\",\n",
       "  '2mL Tubes w/ 1.4mm Ceramic Beads - 50 Pack,1EA,1EA Produits pour amplification en chaîne par polymérase et amplification en chaîne par polymérase-transcriptase inverse',\n",
       "  'Qubit RNA HS Assay Kit Éléments et kits d’extraction, de purification et de quantification de l’acide nucléique',\n",
       "  'BarcodeEconomy Sequencing; pTWIST Var; S Fournitures et matériels de laboratoire',\n",
       "  'CELL CULTURE DISHES OPTILUX, 100ML, (# FA-353003) X200 Matériel de laboratoire',\n",
       "  '96-well PCR plate, skirted, clear Fournitures pour culture de tissus et criblage à haut débit',\n",
       "  'RNeasy Plus Micro Kit (50) Éléments et kits d’extraction, de purification et de quantification de l’acide nucléique',\n",
       "  'TubeEColiNightSeqPrepaid Sequencing; R23 Fournitures et matériels de laboratoire'],\n",
       " 4: ['Clim_Sec63_Nter_F1;DNA-synthesis 3919490 Fournitures et matériels de laboratoire',\n",
       "  'siRNA_hGAPDH;siRNA-synthesis 3874771-213 Fournitures et matériels de laboratoire',\n",
       "  'Apar_Crisp2_F;DNA-synthesis 3832466-2083 Fournitures et matériels de laboratoire',\n",
       "  'oKJ74_nphp4_tm925_screen_PCR_F;DNA-synth Fournitures et matériels de laboratoire',\n",
       "  '20 transformations-One Shot OmniMAX 2 T1^R^ Chemically Competent E. coli Matériel, kits et milieux pour la transformation et la propagation des microorganismes',\n",
       "  'IKKb FW;DNA-synthesis 3827151-2076142 Fournitures et matériels de laboratoire',\n",
       "  'CAS9_FW_nNEON3.1;DNA-synthesis 3854288-2 Fournitures et matériels de laboratoire',\n",
       "  'NKX3_1_PP2_FW;DNA-synthesis 3742993-1956 Fournitures et matériels de laboratoire',\n",
       "  'extensF_ZNF444;DNA-synthesis 3768477-199 Fournitures et matériels de laboratoire',\n",
       "  'Plk1-2-for;DNA-synthesis 3904398-2181148 Fournitures et matériels de laboratoire'],\n",
       " 5: ['del-isl21-plain2 Produits de séquençage de l’ADN (acide désoxyribonucléique)',\n",
       "  'CTX-kan-ck-up Produits de séquençage de l’ADN (acide désoxyribonucléique)',\n",
       "  'Verif-HP-Seq_R Produits de séquençage de l’ADN (acide désoxyribonucléique)',\n",
       "  '74775_REV Produits de séquençage de l’ADN (acide désoxyribonucléique)',\n",
       "  'ddmC[R143A]-ck Produits de séquençage de l’ADN (acide désoxyribonucléique)',\n",
       "  'DL-tRNA-Ser-6 Produits de séquençage de l’ADN (acide désoxyribonucléique)',\n",
       "  'SA7Y-isl1-ins9 Produits de séquençage de l’ADN (acide désoxyribonucléique)',\n",
       "  'flgE-1 Produits de séquençage de l’ADN (acide désoxyribonucléique)',\n",
       "  'Zebrafish1_PLP Produits de séquençage de l’ADN (acide désoxyribonucléique)',\n",
       "  'Alt-R CRISPR-Cas9 tracrRNA, 100 nmol Produits de séquençage de l’ADN (acide désoxyribonucléique)'],\n",
       " 8: ['GFP antibody Produits biochimiques',\n",
       "  'BioLegend Brilliant Violet 421 anti-mouse CD11c Cat#: 117330 Produits biochimiques',\n",
       "  'BioLegend APC anti-mouse CD274 (B7-H1, PD-L1) Cat#: 124312 Produits biochimiques',\n",
       "  'LC3B Antibody, 100 ul Produits biochimiques',\n",
       "  'BD768316 - 5mg Consommables biologiques, chimiques et gazeux',\n",
       "  'Donkey anti-Goat IgG (H+L) Cross-Adsorbed Secondary Antibody, Alexa Fluor 488 Produits biochimiques',\n",
       "  '5 x 2 mL-Dynabeads Mouse T-Activator CD3/CD28 for T-Cell Expansion and Activation Kits de test, contrôles qualité, calibreurs et standards manuels',\n",
       "  'Recombinant Enhanced GFP protein (His tag) Produits biochimiques',\n",
       "  'Recombinant Murine IL-2 - 20 ug Produits biochimiques',\n",
       "  'QIAGEN Proteinase K (2 ml) Produits biochimiques'],\n",
       " 10: ['BTE 50 CHEM ELCO VOLUMINO A FENETRE CA Accessoires de bureau',\n",
       "  'RTTE 500F A4 80G LYRECO PAPIER BLANC Accessoires de bureau',\n",
       "  \"Packing, shipping and insurance cost Équipements de laboratoire, de mesure, d'observation et d'essai\",\n",
       "  \"Optical Post Holder, No Slip, 101.6 mm Height, 12.7 mm Posts, M6 Thread Équipements de laboratoire, de mesure, d'observation et d'essai\",\n",
       "  'CTO/MacBook Pro 14-inch Space Grey/M2 Pro 10Core CPU + 16Core GPU and 16Core NE/32GB/512GB SSD/Keyboard Swiss/67W Pow- Adapt/1 Composants, fournitures et équipements informatiques et de communication',\n",
       "  'Basic Service SOCOREX Calibration (2 x 4 measurements - ISO 8655) Contrôle qualité',\n",
       "  '30 mm Cage Alignment Plate with Ø5 mm Hole Fournitures et matériels de laboratoire',\n",
       "  'Adaptateur T13 (fiche)-T23 (prise), longueur 500mm câble 3x1,5mm2 Instruments indicateurs et enregistreurs',\n",
       "  'PAQ100 KOLMA59464 DOSS H.TRANSP A4 ASS Accessoires de bureau',\n",
       "  'EMB50 GOBELETS 18CL NOIR Accessoires de bureau'],\n",
       " 2: ['500ul COVERWELL INCUBATION, 22X40MM Matériel de laboratoire',\n",
       "  'Bambanker (5 x 20 ml) - 5 x 20 ml Fournitures pour culture de tissus et criblage à haut débit',\n",
       "  '12 Well glass bottom plate with high performance #1.5 cover glass Consommables biologiques, chimiques et gazeux',\n",
       "  \"gaches Matériel d'exploitation, fourniture et outillage\",\n",
       "  'Plastic pallet Fournitures, accessoires et matériel pour plantes et animaux vivants',\n",
       "  'HYGONORM Combinaison visiteurs sans capuche, blanc, XXL 30g/m2, Kat.I, 50pces Sécurité et protection des personnes',\n",
       "  'Microplate Advanced TC 96 wells flat bottom black colour Greiner Bio-One Fournitures pour culture de tissus et criblage à haut débit',\n",
       "  \"Fragile (grand format)\\t5x21 x100 Matériel d'exploitation, fourniture et outillage\",\n",
       "  'CC Multidish, 6-well, Nunclon Delta, F-bottom Fournitures pour culture de tissus et criblage à haut débit',\n",
       "  'Advanced DMEM/F-12 Fournitures pour culture de tissus et criblage à haut débit'],\n",
       " 0: ['Huawei AM115 (Filaire) Matériel électronique, accessoires et composants',\n",
       "  'Bouton poussoir Fonction momentanée 1NO Montage sur panneau Noir / Blanc Matériel électronique, accessoires et composants',\n",
       "  'Dapi-Fluoromount-G, 20 ml Fournitures et lames de microscope de laboratoire',\n",
       "  'Depstech Caméra endoscopique Matériel électronique, accessoires et composants',\n",
       "  'Logitech M220 Silencieux (Sans fil) Matériel électronique, accessoires et composants',\n",
       "  'Neuropixels 2.0 standard headstage Consommables biologiques, chimiques et gazeux',\n",
       "  'BüroLine Immeuble de bureaux (A3, Quadrillé, 100\\xa0x) Matériel électronique, accessoires et composants',\n",
       "  'Adaptateur 124mm F (CEE 7/4) 1x Prise DE Type F (CEE 7/3) 16A Matériel électronique, accessoires et composants',\n",
       "  'Chargeur simple pour Zebra TC21 Composants, fournitures et équipements informatiques et de communication',\n",
       "  \"pco.edge 4.2 BI M-USB-BLU-P Équipements de laboratoire, de mesure, d'observation et d'essai\"],\n",
       " 7: ['Lenovo 4X20V24683 (65\\xa0W) Matériel électronique, accessoires et composants',\n",
       "  'WaveShare Micro Servo 9G / SG90 Matériel électronique, accessoires et composants',\n",
       "  'Satechi USB-C Slim Multi-port (USB C) Matériel électronique, accessoires et composants',\n",
       "  'Dell S2722QC (3840 x 2160 pixels, 27\") Matériel électronique, accessoires et composants',\n",
       "  'Utz Stapelbehälter RAKO (40 x 30 x 12 cm, 10\\xa0l) Matériel électronique, accessoires et composants',\n",
       "  'Mini Cable Connector Socket 12 Contacts, 2A, 140VDC, IP67 Matériel électronique, accessoires et composants',\n",
       "  'MacBook Air 13 inch, Starlight, HAVE TO SELECT THE PROCESSOR, 8GB memory 256GB SSD Ordinateurs',\n",
       "  'Energizer Lithium ultime (10\\xa0pcs, AA, 3000\\xa0mAh) Matériel électronique, accessoires et composants',\n",
       "  'WaveShare Micro Servo 9G / SG90 Matériel électronique, accessoires et composants',\n",
       "  \"Cytek Aurora-CS 5L System Équipements de laboratoire, de mesure, d'observation et d'essai\"]}"
      ]
     },
     "execution_count": 34,
     "metadata": {},
     "output_type": "execute_result"
    }
   ],
   "source": [
    "n_representatives = 10\n",
    "representatives = {}\n",
    "\n",
    "for cluster in df['cluster'].unique():\n",
    "    cluster_embeddings = embeddings[df['cluster'] == cluster]\n",
    "\n",
    "    # If there are fewer samples than n_representatives, use all samples\n",
    "    if len(cluster_embeddings) < n_representatives:\n",
    "        global_indices = cluster_embeddings.index\n",
    "    else:\n",
    "        # Use Kmeans to select n_representatives\n",
    "        subcluster = MiniBatchKMeans(n_clusters=n_representatives, n_init='auto')\n",
    "        subcluster.fit(cluster_embeddings)\n",
    "\n",
    "        # Get distance of each point to each cluster\n",
    "        distances = subcluster.transform(cluster_embeddings)\n",
    "\n",
    "        # Retrieve indices of samples closest to centroids\n",
    "        closest_indices = np.argmin(distances, axis=0)\n",
    "        global_indices = cluster_embeddings.iloc[closest_indices].index\n",
    "\n",
    "    # Align with global indices and collect the representative texts\n",
    "    representatives[int(cluster)] = df.loc[global_indices, 'text'].str.slice(0, 400).tolist()\n",
    "\n",
    "representatives\n"
   ]
  },
  {
   "cell_type": "code",
   "execution_count": 35,
   "metadata": {},
   "outputs": [],
   "source": []
  },
  {
   "cell_type": "code",
   "execution_count": 36,
   "metadata": {},
   "outputs": [
    {
     "data": {
      "text/plain": [
       "'I have 12 clusters of different purchases of a technical university. For each clusters, I give you a description and a categorization that are part of the cluster.\\nFor each cluster, find a short title (3-5 words), and a description (2-3 sentences) that best describe the content of the clusters. Here are the clusters: \\n\\n\\nCLUSTER: 9\\n - DMEM, high glucose, no glutamine Fournitures pour culture de tissus et criblage à haut débit\\n - Water Produits biochimiques\\n - DMEM/F-12, GlutaMAX Supplement-500 mL Loc: F1-2 4deg Produits biochimiques\\n - 16% FORMALDEHYDE (W/V), METHANOL-FREE 10 X 1 ML, UoM: 1 1 SET, CAS: 50-00-0, 1 1 SET Produits biochimiques\\n - Glycerol Dérivés organiques et composés avec substitution\\n - L-Glutamic acid monopotassium salt monohydrate Produits biochimiques\\n - DMEM, high glucose, pyruvate-500 mL Loc: F2-1 4deg Produits biochimiques\\n - DMEM high glucose GlutaMAX supplement- Fournitures pour culture de tissus et criblage à haut débit\\n - BMS-986235 Produits biochimiques\\n - Mettler-Toledo certified buffer pH 4.01, volume 6 x 250 mL Produits biochimiques\\n\\n\\nCLUSTER: 3\\n - code121 Loc: J4-3 Savon main Bactolin Pure 500ml 981389 Fournitures et matériels de laboratoire\\n - code738 Loc: M4-3 TipOne filter tips 1-200 ul Fournitures et matériels de laboratoire\\n - Code369   Gant Vasco Nitrile Bleu M  Loc: K7 1+2   9209825 Fournitures et matériels de laboratoire\\n - MINI TUBE, 12 STRIP, POLYPROPYLENE, 1.1 ML, CLEAR, NONSTERILE, BULK,4800caps Embouts de pipettes\\n - code349T  Loc: R-2   Ethanol, absolute, for analysis , CAS 64-17-5, 2.5L  E/0650DF/17 Solvants\\n - code908 Bidon poly nature 5 L avec bouchon noir Fournitures et matériels de laboratoire\\n - Code12 Loc: 00  Mouchoir 2-plis super soft blanc 20X19,5MM   VWRI115-0600 Fournitures et matériels de laboratoire\\n - (R)-(-)-2,2-Dimethyl-1,3-dioxolane-4-methanol,10GR Composés et mélanges\\n - AscI, recombinant, 2500 units Produits biochimiques\\n - code143 Loc: K1 Gant LATEX taille S sans poudre BRAUN Vasco Sensitive 6067526 Fournitures et matériels de laboratoire\\n\\n\\nCLUSTER: 6\\n - Code5 Loc: B1+2 TUBE A CENTRIFUGER CULTURE PP 50ml 30x115mm SCREW CAP /25 FALCON x500 Fournitures et matériels de laboratoire\\n - code178 Loc: N3 Pipette serologique 5 ml unitaire sterile SARSTEDT 86.1253.001 Fournitures et matériels de laboratoire\\n - code471  Loc: A3-2  Plaque Multiwell 96 puits sterile indiv     FALCON BDAA353072 Fournitures et matériels de laboratoire\\n - Penicillin-Streptomycin (10,000 U/mL)-100 mL Loc: B7-2 -20deg Fournitures pour culture de tissus et criblage à haut débit\\n - code85 Loc: D5-4 Filtre/Stericup 150mL, 50mm diam, 0.22microm, Polythersulfone, avec pre-filtre Systeme de filtration CORNING 431153 Fournitures et matériels de laboratoire\\n - GRIPTIPS® 300 μl stériles à filtre, V96, 5 racks de 96 pointes Équipements de laboratoire, de mesure, d\\'observation et d\\'essai\\n - x200 microtube screw cap 5.0 mL (2 bags of 100 tubes) Tubes\\n - Greiner Bio-One Tubes a centrifuger conique, PP, 30x115 mm, 50 ml, steril, Tubes\\n - eBioscience IC Fixation Buffer Réactifs pour analyseurs diagnostiques et cliniques\\n - code473 Loc: C2+3  Flask culture 150 cm2 bouchon filtre TPP TPPA90151 Fournitures et matériels de laboratoire\\n\\n\\nCLUSTER: 11\\n - Perfusion Pencil 8 channel manifold - Zero Dead Volume with protective 1/8\" tubing Équipements de laboratoire, de mesure, d\\'observation et d\\'essai\\n - LS Columns Kits de test, contrôles qualité, calibreurs et standards manuels\\n - Neurobasal Medium-500 mL Loc: F1-2 4deg Produits biochimiques\\n - Bottle-Top Filtre 1000 ml Équipements ou accessoires de filtration pour laboratoire\\n - 16% Paraformaldehyde (formaldehyde)aqueous solution (10 ampoules x 10mL) QuantomiX =25USD Conteneurs et armoires de laboratoire à usage général\\n - Réfrigérateur de laboratoire Liebherr type CoolSafe 18860 Équipements de laboratoire, de mesure, d\\'observation et d\\'essai\\n - PH INDICATORS, COLOUR BONDED, 0.0 TO 14.0 RANGE, 6 X 80MM, 100 STRIPS 1/PK, UoM: 1 100 items, 1 100 items Instruments et fournitures pour l\\'évaluation chimique\\n - PTFE / FEP;Dual-Shrink Équipements de laboratoire, de mesure, d\\'observation et d\\'essai\\n - Hu ULBP-2/5/6 BV605 165903 50ug Réactifs pour analyseurs diagnostiques et cliniques\\n - Sigma-Aldrich(R) electroporation cuvettes Fournitures, articles en verre et plastiques pour laboratoire à usage général\\n\\n\\nCLUSTER: 1\\n - Grey Pro Resin 1 L Consommables biologiques, chimiques et gazeux\\n - FULL GENE SETUP SERV 0 - 3 KB Consommables biologiques, chimiques et gazeux\\n - Whatman GB005 Blotting Paper 15 x 15 cm 25/pk Systèmes et fournitures d\\'électrophorèse et de transfert pour laboratoire\\n - 2mL Tubes w/ 1.4mm Ceramic Beads - 50 Pack,1EA,1EA Produits pour amplification en chaîne par polymérase et amplification en chaîne par polymérase-transcriptase inverse\\n - Qubit RNA HS Assay Kit Éléments et kits d’extraction, de purification et de quantification de l’acide nucléique\\n - BarcodeEconomy Sequencing; pTWIST Var; S Fournitures et matériels de laboratoire\\n - CELL CULTURE DISHES OPTILUX, 100ML, (# FA-353003) X200 Matériel de laboratoire\\n - 96-well PCR plate, skirted, clear Fournitures pour culture de tissus et criblage à haut débit\\n - RNeasy Plus Micro Kit (50) Éléments et kits d’extraction, de purification et de quantification de l’acide nucléique\\n - TubeEColiNightSeqPrepaid Sequencing; R23 Fournitures et matériels de laboratoire\\n\\n\\nCLUSTER: 4\\n - Clim_Sec63_Nter_F1;DNA-synthesis 3919490 Fournitures et matériels de laboratoire\\n - siRNA_hGAPDH;siRNA-synthesis 3874771-213 Fournitures et matériels de laboratoire\\n - Apar_Crisp2_F;DNA-synthesis 3832466-2083 Fournitures et matériels de laboratoire\\n - oKJ74_nphp4_tm925_screen_PCR_F;DNA-synth Fournitures et matériels de laboratoire\\n - 20 transformations-One Shot OmniMAX 2 T1^R^ Chemically Competent E. coli Matériel, kits et milieux pour la transformation et la propagation des microorganismes\\n - IKKb FW;DNA-synthesis 3827151-2076142 Fournitures et matériels de laboratoire\\n - CAS9_FW_nNEON3.1;DNA-synthesis 3854288-2 Fournitures et matériels de laboratoire\\n - NKX3_1_PP2_FW;DNA-synthesis 3742993-1956 Fournitures et matériels de laboratoire\\n - extensF_ZNF444;DNA-synthesis 3768477-199 Fournitures et matériels de laboratoire\\n - Plk1-2-for;DNA-synthesis 3904398-2181148 Fournitures et matériels de laboratoire\\n\\n\\nCLUSTER: 5\\n - del-isl21-plain2 Produits de séquençage de l’ADN (acide désoxyribonucléique)\\n - CTX-kan-ck-up Produits de séquençage de l’ADN (acide désoxyribonucléique)\\n - Verif-HP-Seq_R Produits de séquençage de l’ADN (acide désoxyribonucléique)\\n - 74775_REV Produits de séquençage de l’ADN (acide désoxyribonucléique)\\n - ddmC[R143A]-ck Produits de séquençage de l’ADN (acide désoxyribonucléique)\\n - DL-tRNA-Ser-6 Produits de séquençage de l’ADN (acide désoxyribonucléique)\\n - SA7Y-isl1-ins9 Produits de séquençage de l’ADN (acide désoxyribonucléique)\\n - flgE-1 Produits de séquençage de l’ADN (acide désoxyribonucléique)\\n - Zebrafish1_PLP Produits de séquençage de l’ADN (acide désoxyribonucléique)\\n - Alt-R CRISPR-Cas9 tracrRNA, 100 nmol Produits de séquençage de l’ADN (acide désoxyribonucléique)\\n\\n\\nCLUSTER: 8\\n - GFP antibody Produits biochimiques\\n - BioLegend Brilliant Violet 421 anti-mouse CD11c Cat#: 117330 Produits biochimiques\\n - BioLegend APC anti-mouse CD274 (B7-H1, PD-L1) Cat#: 124312 Produits biochimiques\\n - LC3B Antibody, 100 ul Produits biochimiques\\n - BD768316 - 5mg Consommables biologiques, chimiques et gazeux\\n - Donkey anti-Goat IgG (H+L) Cross-Adsorbed Secondary Antibody, Alexa Fluor 488 Produits biochimiques\\n - 5 x 2 mL-Dynabeads Mouse T-Activator CD3/CD28 for T-Cell Expansion and Activation Kits de test, contrôles qualité, calibreurs et standards manuels\\n - Recombinant Enhanced GFP protein (His tag) Produits biochimiques\\n - Recombinant Murine IL-2 - 20 ug Produits biochimiques\\n - QIAGEN Proteinase K (2 ml) Produits biochimiques\\n\\n\\nCLUSTER: 10\\n - BTE 50 CHEM ELCO VOLUMINO A FENETRE CA Accessoires de bureau\\n - RTTE 500F A4 80G LYRECO PAPIER BLANC Accessoires de bureau\\n - Packing, shipping and insurance cost Équipements de laboratoire, de mesure, d\\'observation et d\\'essai\\n - Optical Post Holder, No Slip, 101.6 mm Height, 12.7 mm Posts, M6 Thread Équipements de laboratoire, de mesure, d\\'observation et d\\'essai\\n - CTO/MacBook Pro 14-inch Space Grey/M2 Pro 10Core CPU + 16Core GPU and 16Core NE/32GB/512GB SSD/Keyboard Swiss/67W Pow- Adapt/1 Composants, fournitures et équipements informatiques et de communication\\n - Basic Service SOCOREX Calibration (2 x 4 measurements - ISO 8655) Contrôle qualité\\n - 30 mm Cage Alignment Plate with Ø5 mm Hole Fournitures et matériels de laboratoire\\n - Adaptateur T13 (fiche)-T23 (prise), longueur 500mm câble 3x1,5mm2 Instruments indicateurs et enregistreurs\\n - PAQ100 KOLMA59464 DOSS H.TRANSP A4 ASS Accessoires de bureau\\n - EMB50 GOBELETS 18CL NOIR Accessoires de bureau\\n\\n\\nCLUSTER: 2\\n - 500ul COVERWELL INCUBATION, 22X40MM Matériel de laboratoire\\n - Bambanker (5 x 20 ml) - 5 x 20 ml Fournitures pour culture de tissus et criblage à haut débit\\n - 12 Well glass bottom plate with high performance #1.5 cover glass Consommables biologiques, chimiques et gazeux\\n - gaches Matériel d\\'exploitation, fourniture et outillage\\n - Plastic pallet Fournitures, accessoires et matériel pour plantes et animaux vivants\\n - HYGONORM Combinaison visiteurs sans capuche, blanc, XXL 30g/m2, Kat.I, 50pces Sécurité et protection des personnes\\n - Microplate Advanced TC 96 wells flat bottom black colour Greiner Bio-One Fournitures pour culture de tissus et criblage à haut débit\\n - Fragile (grand format)\\t5x21 x100 Matériel d\\'exploitation, fourniture et outillage\\n - CC Multidish, 6-well, Nunclon Delta, F-bottom Fournitures pour culture de tissus et criblage à haut débit\\n - Advanced DMEM/F-12 Fournitures pour culture de tissus et criblage à haut débit\\n\\n\\nCLUSTER: 0\\n - Huawei AM115 (Filaire) Matériel électronique, accessoires et composants\\n - Bouton poussoir Fonction momentanée 1NO Montage sur panneau Noir / Blanc Matériel électronique, accessoires et composants\\n - Dapi-Fluoromount-G, 20 ml Fournitures et lames de microscope de laboratoire\\n - Depstech Caméra endoscopique Matériel électronique, accessoires et composants\\n - Logitech M220 Silencieux (Sans fil) Matériel électronique, accessoires et composants\\n - Neuropixels 2.0 standard headstage Consommables biologiques, chimiques et gazeux\\n - BüroLine Immeuble de bureaux (A3, Quadrillé, 100\\xa0x) Matériel électronique, accessoires et composants\\n - Adaptateur 124mm F (CEE 7/4) 1x Prise DE Type F (CEE 7/3) 16A Matériel électronique, accessoires et composants\\n - Chargeur simple pour Zebra TC21 Composants, fournitures et équipements informatiques et de communication\\n - pco.edge 4.2 BI M-USB-BLU-P Équipements de laboratoire, de mesure, d\\'observation et d\\'essai\\n\\n\\nCLUSTER: 7\\n - Lenovo 4X20V24683 (65\\xa0W) Matériel électronique, accessoires et composants\\n - WaveShare Micro Servo 9G / SG90 Matériel électronique, accessoires et composants\\n - Satechi USB-C Slim Multi-port (USB C) Matériel électronique, accessoires et composants\\n - Dell S2722QC (3840 x 2160 pixels, 27\") Matériel électronique, accessoires et composants\\n - Utz Stapelbehälter RAKO (40 x 30 x 12 cm, 10\\xa0l) Matériel électronique, accessoires et composants\\n - Mini Cable Connector Socket 12 Contacts, 2A, 140VDC, IP67 Matériel électronique, accessoires et composants\\n - MacBook Air 13 inch, Starlight, HAVE TO SELECT THE PROCESSOR, 8GB memory 256GB SSD Ordinateurs\\n - Energizer Lithium ultime (10\\xa0pcs, AA, 3000\\xa0mAh) Matériel électronique, accessoires et composants\\n - WaveShare Micro Servo 9G / SG90 Matériel électronique, accessoires et composants\\n - Cytek Aurora-CS 5L System Équipements de laboratoire, de mesure, d\\'observation et d\\'essai\\n\\n Provide the data in JSON with the following format: [{\\'id\\':1, \\'title\\':\\'Lorem Ipsum\\', \\'description\\':\\'Lorem Ipsum...\\'}, ...]. Do not wrap the json codes in JSON markers'"
      ]
     },
     "execution_count": 36,
     "metadata": {},
     "output_type": "execute_result"
    }
   ],
   "source": [
    "prompt"
   ]
  },
  {
   "cell_type": "code",
   "execution_count": 39,
   "metadata": {},
   "outputs": [
    {
     "name": "stdout",
     "output_type": "stream",
     "text": [
      "[{'id':9, 'title':'Biochemical Products & Supplies', 'description':'This cluster includes various biochemical products and supplies necessary for tissue culture and screening. It features media, supplements, and buffers required for laboratory experiments.'}, {'id':3, 'title':'Laboratory Equipment & Supplies', 'description':'This cluster consists of essential laboratory supplies and equipment including gloves, pipette tips, and disinfectants. It is tailored for laboratory use ensuring safety and efficiency in various experimental procedures.'}, {'id':6, 'title':'Tissue Culture Essentials', 'description':'Focusing on tissue culture, this cluster comprises items such as centrifuge tubes, multiwell plates, and antibiotics. These products are vital for conducting biological assays and culture procedures.'}, {'id':11, 'title':'Advanced Laboratory Instruments', 'description':'This cluster encapsulates advanced laboratory instruments and consumables, including refrigeration units and filtration systems. These tools support rigorous scientific research and quality control processes.'}, {'id':1, 'title':'Nucleic Acid Processing Supplies', 'description':'This cluster is dedicated to supplies for nucleic acid processing, including kits for extraction, purification, and amplification. These items are indispensable for molecular biology applications.'}, {'id':4, 'title':'DNA Synthesis Reagents', 'description':'This cluster includes reagents and materials specifically designed for DNA synthesis and manipulation. It features products for gene cloning and transformation processes.'}, {'id':5, 'title':'DNA Sequencing Products', 'description':'This cluster is focused on products related to DNA sequencing, featuring various sequencing kits and reagents. These items are essential for genetic analysis and research.'}, {'id':8, 'title':'Antibodies & Reagents', 'description':'This cluster consists of antibodies and biochemical reagents that are essential for various assays and applications in cell biology. These products have a wide range of uses in research and clinical labs.'}, {'id':10, 'title':'Office & Laboratory Accessories', 'description':'This cluster features various office supplies and accessories for laboratory settings. It includes items for organization, calibration, and basic functionality needed in a lab environment.'}, {'id':2, 'title':'Culture and Laboratory Materials', 'description':'This cluster entails various materials and consumables necessary for tissue culture work. It includes plates, incubators, and other supplies essential for biological research.'}, {'id':0, 'title':'Electronic and Imaging Equipment', 'description':'This cluster includes various electronic devices and imaging equipment necessary for modern laboratory practices. It features items ranging from cameras to computer accessories.'}, {'id':7, 'title':'Computing and Electronics Supplies', 'description':'This cluster covers computing and electronic accessories, including laptops and peripherals. These items are crucial for data analysis and laboratory management.'}]\n"
     ]
    },
    {
     "data": {
      "text/html": [
       "<div>\n",
       "<style scoped>\n",
       "    .dataframe tbody tr th:only-of-type {\n",
       "        vertical-align: middle;\n",
       "    }\n",
       "\n",
       "    .dataframe tbody tr th {\n",
       "        vertical-align: top;\n",
       "    }\n",
       "\n",
       "    .dataframe thead th {\n",
       "        text-align: right;\n",
       "    }\n",
       "</style>\n",
       "<table border=\"1\" class=\"dataframe\">\n",
       "  <thead>\n",
       "    <tr style=\"text-align: right;\">\n",
       "      <th></th>\n",
       "      <th>cluster_id</th>\n",
       "      <th>cluster_title</th>\n",
       "      <th>cluster_description</th>\n",
       "    </tr>\n",
       "  </thead>\n",
       "  <tbody>\n",
       "    <tr>\n",
       "      <th>0</th>\n",
       "      <td>9</td>\n",
       "      <td>Biochemical Products &amp; Supplies</td>\n",
       "      <td>This cluster includes various biochemical prod...</td>\n",
       "    </tr>\n",
       "    <tr>\n",
       "      <th>1</th>\n",
       "      <td>3</td>\n",
       "      <td>Laboratory Equipment &amp; Supplies</td>\n",
       "      <td>This cluster consists of essential laboratory ...</td>\n",
       "    </tr>\n",
       "    <tr>\n",
       "      <th>2</th>\n",
       "      <td>6</td>\n",
       "      <td>Tissue Culture Essentials</td>\n",
       "      <td>Focusing on tissue culture, this cluster compr...</td>\n",
       "    </tr>\n",
       "    <tr>\n",
       "      <th>3</th>\n",
       "      <td>11</td>\n",
       "      <td>Advanced Laboratory Instruments</td>\n",
       "      <td>This cluster encapsulates advanced laboratory ...</td>\n",
       "    </tr>\n",
       "    <tr>\n",
       "      <th>4</th>\n",
       "      <td>1</td>\n",
       "      <td>Nucleic Acid Processing Supplies</td>\n",
       "      <td>This cluster is dedicated to supplies for nucl...</td>\n",
       "    </tr>\n",
       "    <tr>\n",
       "      <th>5</th>\n",
       "      <td>4</td>\n",
       "      <td>DNA Synthesis Reagents</td>\n",
       "      <td>This cluster includes reagents and materials s...</td>\n",
       "    </tr>\n",
       "    <tr>\n",
       "      <th>6</th>\n",
       "      <td>5</td>\n",
       "      <td>DNA Sequencing Products</td>\n",
       "      <td>This cluster is focused on products related to...</td>\n",
       "    </tr>\n",
       "    <tr>\n",
       "      <th>7</th>\n",
       "      <td>8</td>\n",
       "      <td>Antibodies &amp; Reagents</td>\n",
       "      <td>This cluster consists of antibodies and bioche...</td>\n",
       "    </tr>\n",
       "    <tr>\n",
       "      <th>8</th>\n",
       "      <td>10</td>\n",
       "      <td>Office &amp; Laboratory Accessories</td>\n",
       "      <td>This cluster features various office supplies ...</td>\n",
       "    </tr>\n",
       "    <tr>\n",
       "      <th>9</th>\n",
       "      <td>2</td>\n",
       "      <td>Culture and Laboratory Materials</td>\n",
       "      <td>This cluster entails various materials and con...</td>\n",
       "    </tr>\n",
       "    <tr>\n",
       "      <th>10</th>\n",
       "      <td>0</td>\n",
       "      <td>Electronic and Imaging Equipment</td>\n",
       "      <td>This cluster includes various electronic devic...</td>\n",
       "    </tr>\n",
       "    <tr>\n",
       "      <th>11</th>\n",
       "      <td>7</td>\n",
       "      <td>Computing and Electronics Supplies</td>\n",
       "      <td>This cluster covers computing and electronic a...</td>\n",
       "    </tr>\n",
       "  </tbody>\n",
       "</table>\n",
       "</div>"
      ],
      "text/plain": [
       "    cluster_id                       cluster_title  \\\n",
       "0            9     Biochemical Products & Supplies   \n",
       "1            3     Laboratory Equipment & Supplies   \n",
       "2            6           Tissue Culture Essentials   \n",
       "3           11     Advanced Laboratory Instruments   \n",
       "4            1    Nucleic Acid Processing Supplies   \n",
       "5            4              DNA Synthesis Reagents   \n",
       "6            5             DNA Sequencing Products   \n",
       "7            8               Antibodies & Reagents   \n",
       "8           10     Office & Laboratory Accessories   \n",
       "9            2    Culture and Laboratory Materials   \n",
       "10           0    Electronic and Imaging Equipment   \n",
       "11           7  Computing and Electronics Supplies   \n",
       "\n",
       "                                  cluster_description  \n",
       "0   This cluster includes various biochemical prod...  \n",
       "1   This cluster consists of essential laboratory ...  \n",
       "2   Focusing on tissue culture, this cluster compr...  \n",
       "3   This cluster encapsulates advanced laboratory ...  \n",
       "4   This cluster is dedicated to supplies for nucl...  \n",
       "5   This cluster includes reagents and materials s...  \n",
       "6   This cluster is focused on products related to...  \n",
       "7   This cluster consists of antibodies and bioche...  \n",
       "8   This cluster features various office supplies ...  \n",
       "9   This cluster entails various materials and con...  \n",
       "10  This cluster includes various electronic devic...  \n",
       "11  This cluster covers computing and electronic a...  "
      ]
     },
     "execution_count": 39,
     "metadata": {},
     "output_type": "execute_result"
    }
   ],
   "source": []
  },
  {
   "cell_type": "code",
   "execution_count": 40,
   "metadata": {},
   "outputs": [],
   "source": [
    "# Join the description of the clusters obtained with ChatGPT to the work downloaded from OpenAlex\n",
    "df = df.set_index('cluster').join(cluster_description.set_index('cluster_id')).reset_index()"
   ]
  },
  {
   "cell_type": "code",
   "execution_count": 41,
   "metadata": {},
   "outputs": [],
   "source": [
    "\n",
    "global_distribution = df['cluster_title'].value_counts(normalize=True)"
   ]
  },
  {
   "cell_type": "code",
   "execution_count": 45,
   "metadata": {},
   "outputs": [
    {
     "data": {
      "text/plain": [
       "0       Biochemical Products & Supplies\n",
       "1       Laboratory Equipment & Supplies\n",
       "2             Tissue Culture Essentials\n",
       "3       Advanced Laboratory Instruments\n",
       "4       Laboratory Equipment & Supplies\n",
       "                     ...               \n",
       "995              DNA Synthesis Reagents\n",
       "996    Nucleic Acid Processing Supplies\n",
       "997     Advanced Laboratory Instruments\n",
       "998           Tissue Culture Essentials\n",
       "999     Laboratory Equipment & Supplies\n",
       "Name: cluster_title, Length: 1000, dtype: object"
      ]
     },
     "execution_count": 45,
     "metadata": {},
     "output_type": "execute_result"
    }
   ],
   "source": [
    "df['cluster_title']"
   ]
  },
  {
   "cell_type": "code",
   "execution_count": 42,
   "metadata": {},
   "outputs": [
    {
     "data": {
      "application/vnd.plotly.v1+json": {
       "config": {
        "plotlyServerURL": "https://plot.ly"
       },
       "data": [
        {
         "branchvalues": "total",
         "customdata": [
          [
           "gray"
          ],
          [
           "gray"
          ],
          [
           "gray"
          ],
          [
           "gray"
          ],
          [
           "gray"
          ],
          [
           "gray"
          ],
          [
           "gray"
          ],
          [
           "gray"
          ],
          [
           "gray"
          ],
          [
           "gray"
          ],
          [
           "gray"
          ],
          [
           "gray"
          ]
         ],
         "domain": {
          "x": [
           0,
           1
          ],
          "y": [
           0,
           1
          ]
         },
         "hovertemplate": "labels=%{label}<br>global_frac=%{value}<br>parent=%{parent}<br>id=%{id}<br>color=%{customdata[0]}<extra></extra>",
         "ids": [
          "Advanced Laboratory Instruments<br> (9.1%)",
          "Antibodies & Reagents<br> (8.6%)",
          "Biochemical Products &<br>Supplies<br> (6.4%)",
          "Computing and Electronics<br>Supplies<br> (3.6%)",
          "Culture and Laboratory<br>Materials<br> (4.0%)",
          "DNA Sequencing Products<br> (4.4%)",
          "DNA Synthesis Reagents<br> (7.7%)",
          "Electronic and Imaging<br>Equipment<br> (3.9%)",
          "Laboratory Equipment &<br>Supplies<br> (16.5%)",
          "Nucleic Acid Processing<br>Supplies<br> (13.8%)",
          "Office & Laboratory<br>Accessories<br> (11.9%)",
          "Tissue Culture Essentials<br> (10.1%)"
         ],
         "labels": [
          "Advanced Laboratory Instruments<br> (9.1%)",
          "Antibodies & Reagents<br> (8.6%)",
          "Biochemical Products &<br>Supplies<br> (6.4%)",
          "Computing and Electronics<br>Supplies<br> (3.6%)",
          "Culture and Laboratory<br>Materials<br> (4.0%)",
          "DNA Sequencing Products<br> (4.4%)",
          "DNA Synthesis Reagents<br> (7.7%)",
          "Electronic and Imaging<br>Equipment<br> (3.9%)",
          "Laboratory Equipment &<br>Supplies<br> (16.5%)",
          "Nucleic Acid Processing<br>Supplies<br> (13.8%)",
          "Office & Laboratory<br>Accessories<br> (11.9%)",
          "Tissue Culture Essentials<br> (10.1%)"
         ],
         "marker": {
          "colors": [
           "#ccc",
           "#ccc",
           "#ccc",
           "#ccc",
           "#ccc",
           "#ccc",
           "#ccc",
           "#ccc",
           "#ccc",
           "#ccc",
           "#ccc",
           "#ccc"
          ]
         },
         "name": "",
         "parents": [
          "",
          "",
          "",
          "",
          "",
          "",
          "",
          "",
          "",
          "",
          "",
          ""
         ],
         "type": "treemap",
         "values": [
          0.091,
          0.086,
          0.064,
          0.036,
          0.04,
          0.044,
          0.077,
          0.039,
          0.165,
          0.138,
          0.119,
          0.101
         ]
        }
       ],
       "layout": {
        "height": 600,
        "legend": {
         "tracegroupgap": 0
        },
        "margin": {
         "b": 25,
         "l": 25,
         "r": 25,
         "t": 50
        },
        "template": {
         "data": {
          "bar": [
           {
            "error_x": {
             "color": "#2a3f5f"
            },
            "error_y": {
             "color": "#2a3f5f"
            },
            "marker": {
             "line": {
              "color": "#E5ECF6",
              "width": 0.5
             },
             "pattern": {
              "fillmode": "overlay",
              "size": 10,
              "solidity": 0.2
             }
            },
            "type": "bar"
           }
          ],
          "barpolar": [
           {
            "marker": {
             "line": {
              "color": "#E5ECF6",
              "width": 0.5
             },
             "pattern": {
              "fillmode": "overlay",
              "size": 10,
              "solidity": 0.2
             }
            },
            "type": "barpolar"
           }
          ],
          "carpet": [
           {
            "aaxis": {
             "endlinecolor": "#2a3f5f",
             "gridcolor": "white",
             "linecolor": "white",
             "minorgridcolor": "white",
             "startlinecolor": "#2a3f5f"
            },
            "baxis": {
             "endlinecolor": "#2a3f5f",
             "gridcolor": "white",
             "linecolor": "white",
             "minorgridcolor": "white",
             "startlinecolor": "#2a3f5f"
            },
            "type": "carpet"
           }
          ],
          "choropleth": [
           {
            "colorbar": {
             "outlinewidth": 0,
             "ticks": ""
            },
            "type": "choropleth"
           }
          ],
          "contour": [
           {
            "colorbar": {
             "outlinewidth": 0,
             "ticks": ""
            },
            "colorscale": [
             [
              0,
              "#0d0887"
             ],
             [
              0.1111111111111111,
              "#46039f"
             ],
             [
              0.2222222222222222,
              "#7201a8"
             ],
             [
              0.3333333333333333,
              "#9c179e"
             ],
             [
              0.4444444444444444,
              "#bd3786"
             ],
             [
              0.5555555555555556,
              "#d8576b"
             ],
             [
              0.6666666666666666,
              "#ed7953"
             ],
             [
              0.7777777777777778,
              "#fb9f3a"
             ],
             [
              0.8888888888888888,
              "#fdca26"
             ],
             [
              1,
              "#f0f921"
             ]
            ],
            "type": "contour"
           }
          ],
          "contourcarpet": [
           {
            "colorbar": {
             "outlinewidth": 0,
             "ticks": ""
            },
            "type": "contourcarpet"
           }
          ],
          "heatmap": [
           {
            "colorbar": {
             "outlinewidth": 0,
             "ticks": ""
            },
            "colorscale": [
             [
              0,
              "#0d0887"
             ],
             [
              0.1111111111111111,
              "#46039f"
             ],
             [
              0.2222222222222222,
              "#7201a8"
             ],
             [
              0.3333333333333333,
              "#9c179e"
             ],
             [
              0.4444444444444444,
              "#bd3786"
             ],
             [
              0.5555555555555556,
              "#d8576b"
             ],
             [
              0.6666666666666666,
              "#ed7953"
             ],
             [
              0.7777777777777778,
              "#fb9f3a"
             ],
             [
              0.8888888888888888,
              "#fdca26"
             ],
             [
              1,
              "#f0f921"
             ]
            ],
            "type": "heatmap"
           }
          ],
          "heatmapgl": [
           {
            "colorbar": {
             "outlinewidth": 0,
             "ticks": ""
            },
            "colorscale": [
             [
              0,
              "#0d0887"
             ],
             [
              0.1111111111111111,
              "#46039f"
             ],
             [
              0.2222222222222222,
              "#7201a8"
             ],
             [
              0.3333333333333333,
              "#9c179e"
             ],
             [
              0.4444444444444444,
              "#bd3786"
             ],
             [
              0.5555555555555556,
              "#d8576b"
             ],
             [
              0.6666666666666666,
              "#ed7953"
             ],
             [
              0.7777777777777778,
              "#fb9f3a"
             ],
             [
              0.8888888888888888,
              "#fdca26"
             ],
             [
              1,
              "#f0f921"
             ]
            ],
            "type": "heatmapgl"
           }
          ],
          "histogram": [
           {
            "marker": {
             "pattern": {
              "fillmode": "overlay",
              "size": 10,
              "solidity": 0.2
             }
            },
            "type": "histogram"
           }
          ],
          "histogram2d": [
           {
            "colorbar": {
             "outlinewidth": 0,
             "ticks": ""
            },
            "colorscale": [
             [
              0,
              "#0d0887"
             ],
             [
              0.1111111111111111,
              "#46039f"
             ],
             [
              0.2222222222222222,
              "#7201a8"
             ],
             [
              0.3333333333333333,
              "#9c179e"
             ],
             [
              0.4444444444444444,
              "#bd3786"
             ],
             [
              0.5555555555555556,
              "#d8576b"
             ],
             [
              0.6666666666666666,
              "#ed7953"
             ],
             [
              0.7777777777777778,
              "#fb9f3a"
             ],
             [
              0.8888888888888888,
              "#fdca26"
             ],
             [
              1,
              "#f0f921"
             ]
            ],
            "type": "histogram2d"
           }
          ],
          "histogram2dcontour": [
           {
            "colorbar": {
             "outlinewidth": 0,
             "ticks": ""
            },
            "colorscale": [
             [
              0,
              "#0d0887"
             ],
             [
              0.1111111111111111,
              "#46039f"
             ],
             [
              0.2222222222222222,
              "#7201a8"
             ],
             [
              0.3333333333333333,
              "#9c179e"
             ],
             [
              0.4444444444444444,
              "#bd3786"
             ],
             [
              0.5555555555555556,
              "#d8576b"
             ],
             [
              0.6666666666666666,
              "#ed7953"
             ],
             [
              0.7777777777777778,
              "#fb9f3a"
             ],
             [
              0.8888888888888888,
              "#fdca26"
             ],
             [
              1,
              "#f0f921"
             ]
            ],
            "type": "histogram2dcontour"
           }
          ],
          "mesh3d": [
           {
            "colorbar": {
             "outlinewidth": 0,
             "ticks": ""
            },
            "type": "mesh3d"
           }
          ],
          "parcoords": [
           {
            "line": {
             "colorbar": {
              "outlinewidth": 0,
              "ticks": ""
             }
            },
            "type": "parcoords"
           }
          ],
          "pie": [
           {
            "automargin": true,
            "type": "pie"
           }
          ],
          "scatter": [
           {
            "fillpattern": {
             "fillmode": "overlay",
             "size": 10,
             "solidity": 0.2
            },
            "type": "scatter"
           }
          ],
          "scatter3d": [
           {
            "line": {
             "colorbar": {
              "outlinewidth": 0,
              "ticks": ""
             }
            },
            "marker": {
             "colorbar": {
              "outlinewidth": 0,
              "ticks": ""
             }
            },
            "type": "scatter3d"
           }
          ],
          "scattercarpet": [
           {
            "marker": {
             "colorbar": {
              "outlinewidth": 0,
              "ticks": ""
             }
            },
            "type": "scattercarpet"
           }
          ],
          "scattergeo": [
           {
            "marker": {
             "colorbar": {
              "outlinewidth": 0,
              "ticks": ""
             }
            },
            "type": "scattergeo"
           }
          ],
          "scattergl": [
           {
            "marker": {
             "colorbar": {
              "outlinewidth": 0,
              "ticks": ""
             }
            },
            "type": "scattergl"
           }
          ],
          "scattermapbox": [
           {
            "marker": {
             "colorbar": {
              "outlinewidth": 0,
              "ticks": ""
             }
            },
            "type": "scattermapbox"
           }
          ],
          "scatterpolar": [
           {
            "marker": {
             "colorbar": {
              "outlinewidth": 0,
              "ticks": ""
             }
            },
            "type": "scatterpolar"
           }
          ],
          "scatterpolargl": [
           {
            "marker": {
             "colorbar": {
              "outlinewidth": 0,
              "ticks": ""
             }
            },
            "type": "scatterpolargl"
           }
          ],
          "scatterternary": [
           {
            "marker": {
             "colorbar": {
              "outlinewidth": 0,
              "ticks": ""
             }
            },
            "type": "scatterternary"
           }
          ],
          "surface": [
           {
            "colorbar": {
             "outlinewidth": 0,
             "ticks": ""
            },
            "colorscale": [
             [
              0,
              "#0d0887"
             ],
             [
              0.1111111111111111,
              "#46039f"
             ],
             [
              0.2222222222222222,
              "#7201a8"
             ],
             [
              0.3333333333333333,
              "#9c179e"
             ],
             [
              0.4444444444444444,
              "#bd3786"
             ],
             [
              0.5555555555555556,
              "#d8576b"
             ],
             [
              0.6666666666666666,
              "#ed7953"
             ],
             [
              0.7777777777777778,
              "#fb9f3a"
             ],
             [
              0.8888888888888888,
              "#fdca26"
             ],
             [
              1,
              "#f0f921"
             ]
            ],
            "type": "surface"
           }
          ],
          "table": [
           {
            "cells": {
             "fill": {
              "color": "#EBF0F8"
             },
             "line": {
              "color": "white"
             }
            },
            "header": {
             "fill": {
              "color": "#C8D4E3"
             },
             "line": {
              "color": "white"
             }
            },
            "type": "table"
           }
          ]
         },
         "layout": {
          "annotationdefaults": {
           "arrowcolor": "#2a3f5f",
           "arrowhead": 0,
           "arrowwidth": 1
          },
          "autotypenumbers": "strict",
          "coloraxis": {
           "colorbar": {
            "outlinewidth": 0,
            "ticks": ""
           }
          },
          "colorscale": {
           "diverging": [
            [
             0,
             "#8e0152"
            ],
            [
             0.1,
             "#c51b7d"
            ],
            [
             0.2,
             "#de77ae"
            ],
            [
             0.3,
             "#f1b6da"
            ],
            [
             0.4,
             "#fde0ef"
            ],
            [
             0.5,
             "#f7f7f7"
            ],
            [
             0.6,
             "#e6f5d0"
            ],
            [
             0.7,
             "#b8e186"
            ],
            [
             0.8,
             "#7fbc41"
            ],
            [
             0.9,
             "#4d9221"
            ],
            [
             1,
             "#276419"
            ]
           ],
           "sequential": [
            [
             0,
             "#0d0887"
            ],
            [
             0.1111111111111111,
             "#46039f"
            ],
            [
             0.2222222222222222,
             "#7201a8"
            ],
            [
             0.3333333333333333,
             "#9c179e"
            ],
            [
             0.4444444444444444,
             "#bd3786"
            ],
            [
             0.5555555555555556,
             "#d8576b"
            ],
            [
             0.6666666666666666,
             "#ed7953"
            ],
            [
             0.7777777777777778,
             "#fb9f3a"
            ],
            [
             0.8888888888888888,
             "#fdca26"
            ],
            [
             1,
             "#f0f921"
            ]
           ],
           "sequentialminus": [
            [
             0,
             "#0d0887"
            ],
            [
             0.1111111111111111,
             "#46039f"
            ],
            [
             0.2222222222222222,
             "#7201a8"
            ],
            [
             0.3333333333333333,
             "#9c179e"
            ],
            [
             0.4444444444444444,
             "#bd3786"
            ],
            [
             0.5555555555555556,
             "#d8576b"
            ],
            [
             0.6666666666666666,
             "#ed7953"
            ],
            [
             0.7777777777777778,
             "#fb9f3a"
            ],
            [
             0.8888888888888888,
             "#fdca26"
            ],
            [
             1,
             "#f0f921"
            ]
           ]
          },
          "colorway": [
           "#636efa",
           "#EF553B",
           "#00cc96",
           "#ab63fa",
           "#FFA15A",
           "#19d3f3",
           "#FF6692",
           "#B6E880",
           "#FF97FF",
           "#FECB52"
          ],
          "font": {
           "color": "#2a3f5f"
          },
          "geo": {
           "bgcolor": "white",
           "lakecolor": "white",
           "landcolor": "#E5ECF6",
           "showlakes": true,
           "showland": true,
           "subunitcolor": "white"
          },
          "hoverlabel": {
           "align": "left"
          },
          "hovermode": "closest",
          "mapbox": {
           "style": "light"
          },
          "paper_bgcolor": "white",
          "plot_bgcolor": "#E5ECF6",
          "polar": {
           "angularaxis": {
            "gridcolor": "white",
            "linecolor": "white",
            "ticks": ""
           },
           "bgcolor": "#E5ECF6",
           "radialaxis": {
            "gridcolor": "white",
            "linecolor": "white",
            "ticks": ""
           }
          },
          "scene": {
           "xaxis": {
            "backgroundcolor": "#E5ECF6",
            "gridcolor": "white",
            "gridwidth": 2,
            "linecolor": "white",
            "showbackground": true,
            "ticks": "",
            "zerolinecolor": "white"
           },
           "yaxis": {
            "backgroundcolor": "#E5ECF6",
            "gridcolor": "white",
            "gridwidth": 2,
            "linecolor": "white",
            "showbackground": true,
            "ticks": "",
            "zerolinecolor": "white"
           },
           "zaxis": {
            "backgroundcolor": "#E5ECF6",
            "gridcolor": "white",
            "gridwidth": 2,
            "linecolor": "white",
            "showbackground": true,
            "ticks": "",
            "zerolinecolor": "white"
           }
          },
          "shapedefaults": {
           "line": {
            "color": "#2a3f5f"
           }
          },
          "ternary": {
           "aaxis": {
            "gridcolor": "white",
            "linecolor": "white",
            "ticks": ""
           },
           "baxis": {
            "gridcolor": "white",
            "linecolor": "white",
            "ticks": ""
           },
           "bgcolor": "#E5ECF6",
           "caxis": {
            "gridcolor": "white",
            "linecolor": "white",
            "ticks": ""
           }
          },
          "title": {
           "x": 0.05
          },
          "xaxis": {
           "automargin": true,
           "gridcolor": "white",
           "linecolor": "white",
           "ticks": "",
           "title": {
            "standoff": 15
           },
           "zerolinecolor": "white",
           "zerolinewidth": 2
          },
          "yaxis": {
           "automargin": true,
           "gridcolor": "white",
           "linecolor": "white",
           "ticks": "",
           "title": {
            "standoff": 15
           },
           "zerolinecolor": "white",
           "zerolinewidth": 2
          }
         }
        },
        "title": {
         "text": "Clusters in Natural Language Processing"
        },
        "width": 1200
       }
      }
     },
     "metadata": {},
     "output_type": "display_data"
    }
   ],
   "source": [
    "# Gray treemap showing the size of the subtopics from 'Natural Language Processing' discovered using Kmeans on the embeddings\n",
    "def insert_line_breaks(text, n):\n",
    "    words = text.split()\n",
    "    lines = [' '.join(words[i:i+n]) for i in range(0, len(words), n)]\n",
    "    return '<br>'.join(lines)\n",
    "\n",
    "data = global_distribution.to_frame('global_frac')\n",
    "data['color'] = 'gray'\n",
    "data['title'] = data.index\n",
    "data['label'] = data['title'].apply(lambda x: insert_line_breaks(x, 3))\n",
    "data['label'] += '<br> ('+(data['global_frac']*100).round(1).astype(str)+'%)'\n",
    "\n",
    "# Creating the treemap\n",
    "fig = px.treemap(data, path=['label'], values=data['global_frac'],\n",
    "                 title='Clusters in Natural Language Processing',\n",
    "                 color='color', color_discrete_map={'gray': '#ccc'})\n",
    "\n",
    "fig.update_layout(margin=dict(t=50, l=25, r=25, b=25), width=1200, height=600)\n",
    "\n",
    "# Display the treemap\n",
    "fig.show()"
   ]
  },
  {
   "cell_type": "code",
   "execution_count": null,
   "metadata": {},
   "outputs": [],
   "source": []
  }
 ],
 "metadata": {
  "kernelspec": {
   "display_name": "openai",
   "language": "python",
   "name": "python3"
  },
  "language_info": {
   "codemirror_mode": {
    "name": "ipython",
    "version": 3
   },
   "file_extension": ".py",
   "mimetype": "text/x-python",
   "name": "python",
   "nbconvert_exporter": "python",
   "pygments_lexer": "ipython3",
   "version": "3.12.1"
  }
 },
 "nbformat": 4,
 "nbformat_minor": 2
}
