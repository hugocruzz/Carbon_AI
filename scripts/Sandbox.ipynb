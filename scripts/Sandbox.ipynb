{
 "cells": [
  {
   "cell_type": "code",
   "execution_count": 1,
   "metadata": {},
   "outputs": [],
   "source": [
    "import pandas as pd \n",
    "# %%\n",
    "import openai\n",
    "import os\n",
    "import pandas as pd\n",
    "import numpy as np\n",
    "from sklearn.metrics.pairwise import cosine_similarity"
   ]
  },
  {
   "cell_type": "code",
   "execution_count": 2,
   "metadata": {},
   "outputs": [],
   "source": [
    "df_catalyse = pd.read_excel(\"../GPT35_head_100.xlsx\")"
   ]
  },
  {
   "cell_type": "code",
   "execution_count": 7,
   "metadata": {},
   "outputs": [],
   "source": [
    "df_nacres= pd.read_pickle(r\"../data\\NACRES_embedded.pkl\")"
   ]
  },
  {
   "cell_type": "code",
   "execution_count": 12,
   "metadata": {},
   "outputs": [
    {
     "data": {
      "text/plain": [
       "Index(['nacres.code', 'nacres.description.fr', 'nacres.description.en',\n",
       "       'ceda.code', 'ceda.description', 'ceda.ef.kg.co2e.per.euro',\n",
       "       'ceda.uncertainty.attr.kg.co2e.per.euro',\n",
       "       'ceda.uncertainty.80pct.kg.co2e.per.euro', 'ademe.code',\n",
       "       'ademe.description', 'ademe.ef.kg.co2e.per.euro',\n",
       "       'ademe.uncertainty.attr.kg.co2e.per.euro',\n",
       "       'ademe.uncertainty.80pct.kg.co2e.per.euro', 'useeio.code',\n",
       "       'useeio.description', 'useeio.ef.kg.co2e.per.euro',\n",
       "       'useeio.uncertainty.attr.kg.co2e.per.euro',\n",
       "       'useeio.uncertainty.80pct.kg.co2e.per.euro',\n",
       "       'per1p5macro.ef.kg.co2e.per.euro',\n",
       "       'per1p5macro.uncertainty.attr.kg.co2e.per.euro',\n",
       "       'per1p5macro.uncertainty.80pct.kg.co2e.per.euro', 'meso.code',\n",
       "       'meso.description', 'meso.ef.kg.co2e.per.euro',\n",
       "       'meso.uncertainty.kg.co2e.per.euro', 'micro.code', 'micro.description',\n",
       "       'micro.ef.kg.co2e.per.euro', 'micro.uncertainty.kg.co2e.per.euro',\n",
       "       'method', 'per1p5.ef.kg.co2e.per.euro',\n",
       "       'per1p5.uncertainty.attr.kg.co2e.per.euro',\n",
       "       'per1p5.uncertainty.80pct.kg.co2e.per.euro', 'uncertainty.groupby',\n",
       "       'module', 'category', 'scope.source.v4', 'scope.source.v5',\n",
       "       'embedding'],\n",
       "      dtype='object')"
      ]
     },
     "execution_count": 12,
     "metadata": {},
     "output_type": "execute_result"
    }
   ],
   "source": [
    "df_nacres.columns"
   ]
  },
  {
   "cell_type": "code",
   "execution_count": 6,
   "metadata": {},
   "outputs": [
    {
     "data": {
      "text/plain": [
       "0      OTHER COMPUTER PERIPHERALS (MONITORS, KEYBOARD...\n",
       "1                                               KEROSENE\n",
       "2            PRIMARY ANTIBODIES PAIRED WITH CELL MARKERS\n",
       "3            BACTERIOLOGY : SPECIFIC PLASTIC CONSUMABLES\n",
       "4       BIOMOL: GEL AND MEMBRANE IMAGERS AND ACCESSORIES\n",
       "                             ...                        \n",
       "96     BIOLOGY: AUTOMATIC OLIGONUCLEOTIDE SYNTHESIS M...\n",
       "97              CYTOKINES, GROWTH FACTORS AND INHIBITORS\n",
       "98               GLASS AND PLASTIC SLIDES AND COVERSLIPS\n",
       "99               GLASS AND PLASTIC SLIDES AND COVERSLIPS\n",
       "100    TIPS (CONES) FOR SINGLE AND MULTICHANNEL MICRO...\n",
       "Name: Chosen_NACRES_name, Length: 101, dtype: object"
      ]
     },
     "execution_count": 6,
     "metadata": {},
     "output_type": "execute_result"
    }
   ],
   "source": [
    "df_catalyse[\"Chosen_NACRES_name\"]"
   ]
  },
  {
   "cell_type": "code",
   "execution_count": 10,
   "metadata": {},
   "outputs": [],
   "source": [
    "#Merged df_catalyse with df_nacres based on \"Chosen_NACRES_name\" left and nacres.description.en on right\n",
    "df_catalyse_nacres = pd.merge(df_catalyse, df_nacres, left_on=\"Chosen_NACRES_name\", right_on=\"nacres.description.en\", how=\"left\")"
   ]
  },
  {
   "cell_type": "code",
   "execution_count": 16,
   "metadata": {},
   "outputs": [],
   "source": [
    "df_catalyse_nacres[\"Total_CO2 kg\"] =  df_catalyse_nacres[\"ademe.ef.kg.co2e.per.euro\"]*df_catalyse_nacres[\"Prix total\"]"
   ]
  },
  {
   "cell_type": "code",
   "execution_count": 17,
   "metadata": {},
   "outputs": [],
   "source": [
    "df_catalyse_nacres.to_excel(\"GPT35_head_100_CO2.xlsx\")"
   ]
  },
  {
   "cell_type": "code",
   "execution_count": 5,
   "metadata": {},
   "outputs": [
    {
     "name": "stdout",
     "output_type": "stream",
     "text": [
      "Les Portes du Soleil : 600km\n",
      "Les Trois Vallees : 600km\n",
      "Paradiski : 425km\n",
      "Via Lattea : 400km\n",
      "Sella Ronda : 400km\n",
      "Espace Killy : 300km\n",
      "Silvretta Arena : 238km\n",
      "Arlberg : 305km\n",
      "Serre Chevalier : 250km\n",
      "Zermatt-Cervinia : 360km\n"
     ]
    }
   ],
   "source": [
    "from openai import OpenAI\n",
    "import json\n",
    "import os\n",
    "with open(r\"C:\\Users\\cruz\" + r'\\API_openAI.txt', 'r') as f:\n",
    "    read_api_key = f.readline()\n",
    "os.environ[\"OPENAI_API_KEY\"] = read_api_key\n",
    "f = os.environ[\"OPENAI_API_KEY\"]\n",
    "\n",
    "client = OpenAI(\n",
    "    api_key =f\n",
    ")\n",
    "\n",
    "example_json = {\n",
    "  \"ski_resorts\": [\n",
    "    {\n",
    "      \"name\": \"Les Portes du Soleil\",\n",
    "      \"slope_kilometers\": 600\n",
    "    }\n",
    "  ]\n",
    "}\n",
    "\n",
    "prompt = \"Provide valid JSON output. Provide the top 10 largest ski resorst in Europe. Rankin them on slope kilometers (descending) Provide one column 'name' and a column 'slope_kilometers' representing the total slope kilometers\"\n",
    "\n",
    "chat_completion = client.chat.completions.create(\n",
    "    model=\"gpt-3.5-turbo-1106\",\n",
    "    response_format={\"type\":\"json_object\"},\n",
    "    messages=[\n",
    "        {\"role\":\"system\",\"content\":\"\"\"Provide output in valid JSON. Your are given a dictionnary in json format.\n",
    "                For each elements, you need to choose between 1 of the options in the 'Options' field.\n",
    "                The data schema should be like this :\"\"\" + json.dumps(example_json)},\n",
    "        {\"role\":\"user\",\"content\":prompt}\n",
    "    ]\n",
    ")\n",
    "\n",
    "finish_reason = chat_completion.choices[0].finish_reason\n",
    "\n",
    "if(finish_reason == \"stop\"):\n",
    "    data = chat_completion.choices[0].message.content\n",
    "\n",
    "    ski_resorts = json.loads(data)\n",
    "\n",
    "    for ski_resort in ski_resorts['ski_resorts']:\n",
    "        print(ski_resort['name']+\" : \"+str(ski_resort['slope_kilometers'])+\"km\")\n",
    "else :\n",
    "    print(\"Error! provide more tokens please\")"
   ]
  },
  {
   "cell_type": "code",
   "execution_count": 7,
   "metadata": {},
   "outputs": [],
   "source": [
    "messages=[\n",
    "    {\"role\":\"system\",\"content\":\"\"\"Provide output in valid JSON. Your are given a dictionnary in json format.\n",
    "            For each elements, you need to choose between 1 of the options in the 'Options' field.\n",
    "            The data schema should be like this :\"\"\" + json.dumps(example_json)},\n",
    "    {\"role\":\"user\",\"content\":prompt}\n",
    "]"
   ]
  },
  {
   "cell_type": "code",
   "execution_count": 9,
   "metadata": {},
   "outputs": [
    {
     "data": {
      "text/plain": [
       "{'role': 'system',\n",
       " 'content': 'Provide output in valid JSON. Your are given a dictionnary in json format.\\n            For each elements, you need to choose between 1 of the options in the \\'Options\\' field.\\n            The data schema should be like this :{\"ski_resorts\": [{\"name\": \"Les Portes du Soleil\", \"slope_kilometers\": 600}]}'}"
      ]
     },
     "execution_count": 9,
     "metadata": {},
     "output_type": "execute_result"
    }
   ],
   "source": [
    "messages[0]"
   ]
  },
  {
   "cell_type": "code",
   "execution_count": 11,
   "metadata": {},
   "outputs": [],
   "source": [
    "import pandas as pd"
   ]
  },
  {
   "cell_type": "code",
   "execution_count": 12,
   "metadata": {},
   "outputs": [],
   "source": [
    "df_gpt = pd.read_excel(r\"../data\\achats_GVG_NACRES_GPT.xlsx\")"
   ]
  },
  {
   "cell_type": "code",
   "execution_count": 13,
   "metadata": {},
   "outputs": [],
   "source": [
    "df_source= pd.read_pickle(r\"../data\\Results\\achats_GVG_lab_2022.pkl\")"
   ]
  },
  {
   "cell_type": "code",
   "execution_count": 14,
   "metadata": {},
   "outputs": [],
   "source": [
    "#Merge both dataframes on index\n",
    "df_gpt_source = pd.merge(df_gpt, df_source, left_index=True, right_index=True)"
   ]
  },
  {
   "cell_type": "code",
   "execution_count": 17,
   "metadata": {},
   "outputs": [],
   "source": [
    "df_NACRES = pd.read_pickle(r\"../data\\NACRES_embedded.pkl\")"
   ]
  },
  {
   "cell_type": "code",
   "execution_count": 21,
   "metadata": {},
   "outputs": [],
   "source": [
    "#merge df_NACRES with df_gpt_source on \"Chosen_NACRES_name\" and \"nacres.description.en\"\n",
    "df_gpt_source_NACRES = pd.merge(df_gpt_source, df_NACRES, left_on=\"Choosen option\", right_on=\"nacres.description.en\", how=\"left\")"
   ]
  },
  {
   "cell_type": "code",
   "execution_count": 23,
   "metadata": {},
   "outputs": [],
   "source": [
    "df_gpt_source_NACRES.to_excel(r\"../data\\results/achats_GVG_NACRES_GPT.xlsx\")"
   ]
  },
  {
   "cell_type": "code",
   "execution_count": 24,
   "metadata": {},
   "outputs": [
    {
     "data": {
      "text/plain": [
       "Index(['Article name', 'Category', 'Provider', 'Options', 'Choosen option',\n",
       "       'Référence fournisseur', 'Désignation article', 'Package Size',\n",
       "       'Package Unit', 'N° Commande', 'Unnamed: 5', 'Date de création',\n",
       "       'N° Fournisseur', 'Fournisseur', 'Prix unitaire', 'Prix total', 'Unité',\n",
       "       'Quantité Commandé', 'Unité<br>commande', 'Libellé FR Centre de coût',\n",
       "       'Code Centre de coût', 'Code', 'Libellé', 'Famille', 'ID de famille',\n",
       "       'lvl_code', 'Famille1', 'Libellé FR Domaine', 'Libellé FR Famille',\n",
       "       'Libellé FR Sous-sous-famille', 'Famille_libellé anglais', 'combined',\n",
       "       'embedding_x', 'nacres.code', 'nacres.description.fr',\n",
       "       'nacres.description.en', 'ceda.code', 'ceda.description',\n",
       "       'ceda.ef.kg.co2e.per.euro', 'ceda.uncertainty.attr.kg.co2e.per.euro',\n",
       "       'ceda.uncertainty.80pct.kg.co2e.per.euro', 'ademe.code',\n",
       "       'ademe.description', 'ademe.ef.kg.co2e.per.euro',\n",
       "       'ademe.uncertainty.attr.kg.co2e.per.euro',\n",
       "       'ademe.uncertainty.80pct.kg.co2e.per.euro', 'useeio.code',\n",
       "       'useeio.description', 'useeio.ef.kg.co2e.per.euro',\n",
       "       'useeio.uncertainty.attr.kg.co2e.per.euro',\n",
       "       'useeio.uncertainty.80pct.kg.co2e.per.euro',\n",
       "       'per1p5macro.ef.kg.co2e.per.euro',\n",
       "       'per1p5macro.uncertainty.attr.kg.co2e.per.euro',\n",
       "       'per1p5macro.uncertainty.80pct.kg.co2e.per.euro', 'meso.code',\n",
       "       'meso.description', 'meso.ef.kg.co2e.per.euro',\n",
       "       'meso.uncertainty.kg.co2e.per.euro', 'micro.code', 'micro.description',\n",
       "       'micro.ef.kg.co2e.per.euro', 'micro.uncertainty.kg.co2e.per.euro',\n",
       "       'method', 'per1p5.ef.kg.co2e.per.euro',\n",
       "       'per1p5.uncertainty.attr.kg.co2e.per.euro',\n",
       "       'per1p5.uncertainty.80pct.kg.co2e.per.euro', 'uncertainty.groupby',\n",
       "       'module', 'category', 'scope.source.v4', 'scope.source.v5',\n",
       "       'embedding_y'],\n",
       "      dtype='object')"
      ]
     },
     "execution_count": 24,
     "metadata": {},
     "output_type": "execute_result"
    }
   ],
   "source": [
    "df_gpt_source_NACRES.columns"
   ]
  },
  {
   "cell_type": "code",
   "execution_count": null,
   "metadata": {},
   "outputs": [],
   "source": []
  }
 ],
 "metadata": {
  "kernelspec": {
   "display_name": "Carbon_AI",
   "language": "python",
   "name": "python3"
  },
  "language_info": {
   "codemirror_mode": {
    "name": "ipython",
    "version": 3
   },
   "file_extension": ".py",
   "mimetype": "text/x-python",
   "name": "python",
   "nbconvert_exporter": "python",
   "pygments_lexer": "ipython3",
   "version": "3.12.1"
  }
 },
 "nbformat": 4,
 "nbformat_minor": 2
}
