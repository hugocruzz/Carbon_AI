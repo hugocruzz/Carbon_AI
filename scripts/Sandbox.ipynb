{
 "cells": [
  {
   "cell_type": "code",
   "execution_count": 1,
   "metadata": {},
   "outputs": [],
   "source": [
    "import pandas as pd \n",
    "# %%\n",
    "import openai\n",
    "import os\n",
    "import pandas as pd\n",
    "import numpy as np\n",
    "from sklearn.metrics.pairwise import cosine_similarity"
   ]
  },
  {
   "cell_type": "code",
   "execution_count": 2,
   "metadata": {},
   "outputs": [],
   "source": [
    "df_catalyse = pd.read_excel(\"../GPT35_head_100.xlsx\")"
   ]
  },
  {
   "cell_type": "code",
   "execution_count": 7,
   "metadata": {},
   "outputs": [],
   "source": [
    "df_nacres= pd.read_pickle(r\"../data\\NACRES_embedded.pkl\")"
   ]
  },
  {
   "cell_type": "code",
   "execution_count": 12,
   "metadata": {},
   "outputs": [
    {
     "data": {
      "text/plain": [
       "Index(['nacres.code', 'nacres.description.fr', 'nacres.description.en',\n",
       "       'ceda.code', 'ceda.description', 'ceda.ef.kg.co2e.per.euro',\n",
       "       'ceda.uncertainty.attr.kg.co2e.per.euro',\n",
       "       'ceda.uncertainty.80pct.kg.co2e.per.euro', 'ademe.code',\n",
       "       'ademe.description', 'ademe.ef.kg.co2e.per.euro',\n",
       "       'ademe.uncertainty.attr.kg.co2e.per.euro',\n",
       "       'ademe.uncertainty.80pct.kg.co2e.per.euro', 'useeio.code',\n",
       "       'useeio.description', 'useeio.ef.kg.co2e.per.euro',\n",
       "       'useeio.uncertainty.attr.kg.co2e.per.euro',\n",
       "       'useeio.uncertainty.80pct.kg.co2e.per.euro',\n",
       "       'per1p5macro.ef.kg.co2e.per.euro',\n",
       "       'per1p5macro.uncertainty.attr.kg.co2e.per.euro',\n",
       "       'per1p5macro.uncertainty.80pct.kg.co2e.per.euro', 'meso.code',\n",
       "       'meso.description', 'meso.ef.kg.co2e.per.euro',\n",
       "       'meso.uncertainty.kg.co2e.per.euro', 'micro.code', 'micro.description',\n",
       "       'micro.ef.kg.co2e.per.euro', 'micro.uncertainty.kg.co2e.per.euro',\n",
       "       'method', 'per1p5.ef.kg.co2e.per.euro',\n",
       "       'per1p5.uncertainty.attr.kg.co2e.per.euro',\n",
       "       'per1p5.uncertainty.80pct.kg.co2e.per.euro', 'uncertainty.groupby',\n",
       "       'module', 'category', 'scope.source.v4', 'scope.source.v5',\n",
       "       'embedding'],\n",
       "      dtype='object')"
      ]
     },
     "execution_count": 12,
     "metadata": {},
     "output_type": "execute_result"
    }
   ],
   "source": [
    "df_nacres.columns"
   ]
  },
  {
   "cell_type": "code",
   "execution_count": 6,
   "metadata": {},
   "outputs": [
    {
     "data": {
      "text/plain": [
       "0      OTHER COMPUTER PERIPHERALS (MONITORS, KEYBOARD...\n",
       "1                                               KEROSENE\n",
       "2            PRIMARY ANTIBODIES PAIRED WITH CELL MARKERS\n",
       "3            BACTERIOLOGY : SPECIFIC PLASTIC CONSUMABLES\n",
       "4       BIOMOL: GEL AND MEMBRANE IMAGERS AND ACCESSORIES\n",
       "                             ...                        \n",
       "96     BIOLOGY: AUTOMATIC OLIGONUCLEOTIDE SYNTHESIS M...\n",
       "97              CYTOKINES, GROWTH FACTORS AND INHIBITORS\n",
       "98               GLASS AND PLASTIC SLIDES AND COVERSLIPS\n",
       "99               GLASS AND PLASTIC SLIDES AND COVERSLIPS\n",
       "100    TIPS (CONES) FOR SINGLE AND MULTICHANNEL MICRO...\n",
       "Name: Chosen_NACRES_name, Length: 101, dtype: object"
      ]
     },
     "execution_count": 6,
     "metadata": {},
     "output_type": "execute_result"
    }
   ],
   "source": [
    "df_catalyse[\"Chosen_NACRES_name\"]"
   ]
  },
  {
   "cell_type": "code",
   "execution_count": 10,
   "metadata": {},
   "outputs": [],
   "source": [
    "#Merged df_catalyse with df_nacres based on \"Chosen_NACRES_name\" left and nacres.description.en on right\n",
    "df_catalyse_nacres = pd.merge(df_catalyse, df_nacres, left_on=\"Chosen_NACRES_name\", right_on=\"nacres.description.en\", how=\"left\")"
   ]
  },
  {
   "cell_type": "code",
   "execution_count": 16,
   "metadata": {},
   "outputs": [],
   "source": [
    "df_catalyse_nacres[\"Total_CO2 kg\"] =  df_catalyse_nacres[\"ademe.ef.kg.co2e.per.euro\"]*df_catalyse_nacres[\"Prix total\"]"
   ]
  },
  {
   "cell_type": "code",
   "execution_count": 17,
   "metadata": {},
   "outputs": [],
   "source": [
    "df_catalyse_nacres.to_excel(\"GPT35_head_100_CO2.xlsx\")"
   ]
  },
  {
   "cell_type": "code",
   "execution_count": null,
   "metadata": {},
   "outputs": [],
   "source": []
  }
 ],
 "metadata": {
  "kernelspec": {
   "display_name": "Carbon_AI",
   "language": "python",
   "name": "python3"
  },
  "language_info": {
   "codemirror_mode": {
    "name": "ipython",
    "version": 3
   },
   "file_extension": ".py",
   "mimetype": "text/x-python",
   "name": "python",
   "nbconvert_exporter": "python",
   "pygments_lexer": "ipython3",
   "version": "3.12.1"
  }
 },
 "nbformat": 4,
 "nbformat_minor": 2
}
