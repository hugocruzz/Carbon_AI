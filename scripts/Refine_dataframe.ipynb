{
 "cells": [
  {
   "cell_type": "code",
   "execution_count": 1,
   "metadata": {},
   "outputs": [],
   "source": [
    "import pandas as pd \n",
    "# %%\n",
    "import openai\n",
    "import os\n",
    "import pandas as pd\n",
    "import numpy as np\n",
    "from sklearn.metrics.pairwise import cosine_similarity\n",
    "\n",
    "from openai.embeddings_utils import get_embedding"
   ]
  },
  {
   "cell_type": "code",
   "execution_count": 2,
   "metadata": {},
   "outputs": [],
   "source": [
    "\n",
    "# %%\n",
    "with open(r\"C:\\Users\\cruz\" + r'\\API_openAI.txt', 'r') as f:\n",
    "    read_api_key = f.readline()\n",
    "    openai.api_key = read_api_key\n",
    "os.environ[\"OPENAI_API_KEY\"] = read_api_key\n",
    "\n",
    "# Embedding model parameters\n",
    "embedding_model = \"text-embedding-ada-002\"\n",
    "embedding_encoding = \"cl100k_base\"  # Encoding for text-embedding-ada-002\n",
    "max_tokens = 8000  # Max tokens for ada-002\n"
   ]
  },
  {
   "cell_type": "code",
   "execution_count": 4,
   "metadata": {},
   "outputs": [],
   "source": [
    "output_path = r\"../data\\NACRES_with_embeddings_and_factors.pkl\"\n",
    "df = pd.read_pickle(output_path)"
   ]
  },
  {
   "cell_type": "code",
   "execution_count": 6,
   "metadata": {},
   "outputs": [
    {
     "data": {
      "text/plain": [
       "Index(['Segment', 'Famille', 'Classe', 'Intitulés Nacres', 'Codes Nacres',\n",
       "       'combined', 'embedding', 'CodeNACRES', 'LibelleNACRES', 'FEL1P5',\n",
       "       'StdL1P5', 'Module', 'Poste', 'Categorie', 'Methode',\n",
       "       'unite fonctionnelle'],\n",
       "      dtype='object')"
      ]
     },
     "execution_count": 6,
     "metadata": {},
     "output_type": "execute_result"
    }
   ],
   "source": [
    "df.columns"
   ]
  },
  {
   "cell_type": "code",
   "execution_count": 8,
   "metadata": {},
   "outputs": [],
   "source": [
    "df_source = pd.read_pickle(r\"../data\\unspsc_ada_embeddings.pkl\")"
   ]
  },
  {
   "cell_type": "code",
   "execution_count": 9,
   "metadata": {},
   "outputs": [
    {
     "data": {
      "text/html": [
       "<div>\n",
       "<style scoped>\n",
       "    .dataframe tbody tr th:only-of-type {\n",
       "        vertical-align: middle;\n",
       "    }\n",
       "\n",
       "    .dataframe tbody tr th {\n",
       "        vertical-align: top;\n",
       "    }\n",
       "\n",
       "    .dataframe thead th {\n",
       "        text-align: right;\n",
       "    }\n",
       "</style>\n",
       "<table border=\"1\" class=\"dataframe\">\n",
       "  <thead>\n",
       "    <tr style=\"text-align: right;\">\n",
       "      <th></th>\n",
       "      <th>Code</th>\n",
       "      <th>French Name</th>\n",
       "      <th>English Name</th>\n",
       "      <th>embedding</th>\n",
       "    </tr>\n",
       "  </thead>\n",
       "  <tbody>\n",
       "    <tr>\n",
       "      <th>0</th>\n",
       "      <td>10000000</td>\n",
       "      <td>Fournitures, accessoires et matériel pour plan...</td>\n",
       "      <td>Live Plant and Animal Material and Accessories...</td>\n",
       "      <td>[0.0029963685665279627, 0.0061994981952011585,...</td>\n",
       "    </tr>\n",
       "    <tr>\n",
       "      <th>1</th>\n",
       "      <td>10100000</td>\n",
       "      <td>Animaux vivants</td>\n",
       "      <td>Live animals</td>\n",
       "      <td>[-0.011037958785891533, 0.00030670035630464554...</td>\n",
       "    </tr>\n",
       "    <tr>\n",
       "      <th>2</th>\n",
       "      <td>10101500</td>\n",
       "      <td>Bétail</td>\n",
       "      <td>Livestock</td>\n",
       "      <td>[-0.003457130864262581, -0.002764111617580056,...</td>\n",
       "    </tr>\n",
       "    <tr>\n",
       "      <th>3</th>\n",
       "      <td>10101501</td>\n",
       "      <td>Chats</td>\n",
       "      <td>Cats</td>\n",
       "      <td>[0.0018098527798429132, -0.0021018153056502342...</td>\n",
       "    </tr>\n",
       "    <tr>\n",
       "      <th>4</th>\n",
       "      <td>10101502</td>\n",
       "      <td>Chiens</td>\n",
       "      <td>Dogs</td>\n",
       "      <td>[-0.003339087124913931, 0.007907364517450333, ...</td>\n",
       "    </tr>\n",
       "    <tr>\n",
       "      <th>...</th>\n",
       "      <td>...</td>\n",
       "      <td>...</td>\n",
       "      <td>...</td>\n",
       "      <td>...</td>\n",
       "    </tr>\n",
       "    <tr>\n",
       "      <th>22268</th>\n",
       "      <td>94132000</td>\n",
       "      <td>Associations d'assistance et de défense des dr...</td>\n",
       "      <td>Human rights advocacy and defense associations</td>\n",
       "      <td>[-0.008199954405426979, -0.030404910445213318,...</td>\n",
       "    </tr>\n",
       "    <tr>\n",
       "      <th>22269</th>\n",
       "      <td>94132001</td>\n",
       "      <td>Associations de défense des droits de l'enfant</td>\n",
       "      <td>Children rights defense services</td>\n",
       "      <td>[0.012868252582848072, -7.404698408208787e-05,...</td>\n",
       "    </tr>\n",
       "    <tr>\n",
       "      <th>22270</th>\n",
       "      <td>94132002</td>\n",
       "      <td>Associations de défense des détenus</td>\n",
       "      <td>Prisoners defense services</td>\n",
       "      <td>[-0.011273087933659554, -0.016431057825684547,...</td>\n",
       "    </tr>\n",
       "    <tr>\n",
       "      <th>22271</th>\n",
       "      <td>94132003</td>\n",
       "      <td>Associations de défense contre la torture phys...</td>\n",
       "      <td>Physical or mental torture defense associations</td>\n",
       "      <td>[-0.021779438480734825, -0.008688678033649921,...</td>\n",
       "    </tr>\n",
       "    <tr>\n",
       "      <th>22272</th>\n",
       "      <td>94132004</td>\n",
       "      <td>Associations de défense de la liberté d'expres...</td>\n",
       "      <td>Freedom of speech defense associations</td>\n",
       "      <td>[-0.007554563228040934, -0.024403972551226616,...</td>\n",
       "    </tr>\n",
       "  </tbody>\n",
       "</table>\n",
       "<p>22273 rows × 4 columns</p>\n",
       "</div>"
      ],
      "text/plain": [
       "           Code                                        French Name  \\\n",
       "0      10000000  Fournitures, accessoires et matériel pour plan...   \n",
       "1      10100000                                    Animaux vivants   \n",
       "2      10101500                                             Bétail   \n",
       "3      10101501                                              Chats   \n",
       "4      10101502                                             Chiens   \n",
       "...         ...                                                ...   \n",
       "22268  94132000  Associations d'assistance et de défense des dr...   \n",
       "22269  94132001     Associations de défense des droits de l'enfant   \n",
       "22270  94132002                Associations de défense des détenus   \n",
       "22271  94132003  Associations de défense contre la torture phys...   \n",
       "22272  94132004  Associations de défense de la liberté d'expres...   \n",
       "\n",
       "                                            English Name  \\\n",
       "0      Live Plant and Animal Material and Accessories...   \n",
       "1                                           Live animals   \n",
       "2                                              Livestock   \n",
       "3                                                   Cats   \n",
       "4                                                   Dogs   \n",
       "...                                                  ...   \n",
       "22268     Human rights advocacy and defense associations   \n",
       "22269                   Children rights defense services   \n",
       "22270                         Prisoners defense services   \n",
       "22271    Physical or mental torture defense associations   \n",
       "22272             Freedom of speech defense associations   \n",
       "\n",
       "                                               embedding  \n",
       "0      [0.0029963685665279627, 0.0061994981952011585,...  \n",
       "1      [-0.011037958785891533, 0.00030670035630464554...  \n",
       "2      [-0.003457130864262581, -0.002764111617580056,...  \n",
       "3      [0.0018098527798429132, -0.0021018153056502342...  \n",
       "4      [-0.003339087124913931, 0.007907364517450333, ...  \n",
       "...                                                  ...  \n",
       "22268  [-0.008199954405426979, -0.030404910445213318,...  \n",
       "22269  [0.012868252582848072, -7.404698408208787e-05,...  \n",
       "22270  [-0.011273087933659554, -0.016431057825684547,...  \n",
       "22271  [-0.021779438480734825, -0.008688678033649921,...  \n",
       "22272  [-0.007554563228040934, -0.024403972551226616,...  \n",
       "\n",
       "[22273 rows x 4 columns]"
      ]
     },
     "execution_count": 9,
     "metadata": {},
     "output_type": "execute_result"
    }
   ],
   "source": [
    "df_source"
   ]
  },
  {
   "cell_type": "code",
   "execution_count": 10,
   "metadata": {},
   "outputs": [
    {
     "ename": "AttributeError",
     "evalue": "Can only use .str accessor with string values!",
     "output_type": "error",
     "traceback": [
      "\u001b[1;31m---------------------------------------------------------------------------\u001b[0m",
      "\u001b[1;31mAttributeError\u001b[0m                            Traceback (most recent call last)",
      "Cell \u001b[1;32mIn[10], line 2\u001b[0m\n\u001b[0;32m      1\u001b[0m \u001b[38;5;66;03m#Select all rows ending with \"XX000000\", XX can be any number\u001b[39;00m\n\u001b[1;32m----> 2\u001b[0m df_source \u001b[38;5;241m=\u001b[39m df_source[\u001b[43mdf_source\u001b[49m\u001b[43m[\u001b[49m\u001b[38;5;124;43m'\u001b[39;49m\u001b[38;5;124;43mCode\u001b[39;49m\u001b[38;5;124;43m'\u001b[39;49m\u001b[43m]\u001b[49m\u001b[38;5;241;43m.\u001b[39;49m\u001b[43mstr\u001b[49m\u001b[38;5;241m.\u001b[39mcontains(\u001b[38;5;124mr\u001b[39m\u001b[38;5;124m'\u001b[39m\u001b[38;5;124m\\\u001b[39m\u001b[38;5;124md\u001b[39m\u001b[38;5;132;01m{2}\u001b[39;00m\u001b[38;5;124m000000$\u001b[39m\u001b[38;5;124m'\u001b[39m)]\n",
      "File \u001b[1;32mc:\\Users\\cruz\\AppData\\Local\\anaconda3\\envs\\Carbon_AI\\Lib\\site-packages\\pandas\\core\\generic.py:6293\u001b[0m, in \u001b[0;36mNDFrame.__getattr__\u001b[1;34m(self, name)\u001b[0m\n\u001b[0;32m   6286\u001b[0m \u001b[38;5;28;01mif\u001b[39;00m (\n\u001b[0;32m   6287\u001b[0m     name \u001b[38;5;129;01mnot\u001b[39;00m \u001b[38;5;129;01min\u001b[39;00m \u001b[38;5;28mself\u001b[39m\u001b[38;5;241m.\u001b[39m_internal_names_set\n\u001b[0;32m   6288\u001b[0m     \u001b[38;5;129;01mand\u001b[39;00m name \u001b[38;5;129;01mnot\u001b[39;00m \u001b[38;5;129;01min\u001b[39;00m \u001b[38;5;28mself\u001b[39m\u001b[38;5;241m.\u001b[39m_metadata\n\u001b[0;32m   6289\u001b[0m     \u001b[38;5;129;01mand\u001b[39;00m name \u001b[38;5;129;01mnot\u001b[39;00m \u001b[38;5;129;01min\u001b[39;00m \u001b[38;5;28mself\u001b[39m\u001b[38;5;241m.\u001b[39m_accessors\n\u001b[0;32m   6290\u001b[0m     \u001b[38;5;129;01mand\u001b[39;00m \u001b[38;5;28mself\u001b[39m\u001b[38;5;241m.\u001b[39m_info_axis\u001b[38;5;241m.\u001b[39m_can_hold_identifiers_and_holds_name(name)\n\u001b[0;32m   6291\u001b[0m ):\n\u001b[0;32m   6292\u001b[0m     \u001b[38;5;28;01mreturn\u001b[39;00m \u001b[38;5;28mself\u001b[39m[name]\n\u001b[1;32m-> 6293\u001b[0m \u001b[38;5;28;01mreturn\u001b[39;00m \u001b[38;5;28;43mobject\u001b[39;49m\u001b[38;5;241;43m.\u001b[39;49m\u001b[38;5;21;43m__getattribute__\u001b[39;49m\u001b[43m(\u001b[49m\u001b[38;5;28;43mself\u001b[39;49m\u001b[43m,\u001b[49m\u001b[43m \u001b[49m\u001b[43mname\u001b[49m\u001b[43m)\u001b[49m\n",
      "File \u001b[1;32mc:\\Users\\cruz\\AppData\\Local\\anaconda3\\envs\\Carbon_AI\\Lib\\site-packages\\pandas\\core\\accessor.py:224\u001b[0m, in \u001b[0;36mCachedAccessor.__get__\u001b[1;34m(self, obj, cls)\u001b[0m\n\u001b[0;32m    221\u001b[0m \u001b[38;5;28;01mif\u001b[39;00m obj \u001b[38;5;129;01mis\u001b[39;00m \u001b[38;5;28;01mNone\u001b[39;00m:\n\u001b[0;32m    222\u001b[0m     \u001b[38;5;66;03m# we're accessing the attribute of the class, i.e., Dataset.geo\u001b[39;00m\n\u001b[0;32m    223\u001b[0m     \u001b[38;5;28;01mreturn\u001b[39;00m \u001b[38;5;28mself\u001b[39m\u001b[38;5;241m.\u001b[39m_accessor\n\u001b[1;32m--> 224\u001b[0m accessor_obj \u001b[38;5;241m=\u001b[39m \u001b[38;5;28;43mself\u001b[39;49m\u001b[38;5;241;43m.\u001b[39;49m\u001b[43m_accessor\u001b[49m\u001b[43m(\u001b[49m\u001b[43mobj\u001b[49m\u001b[43m)\u001b[49m\n\u001b[0;32m    225\u001b[0m \u001b[38;5;66;03m# Replace the property with the accessor object. Inspired by:\u001b[39;00m\n\u001b[0;32m    226\u001b[0m \u001b[38;5;66;03m# https://www.pydanny.com/cached-property.html\u001b[39;00m\n\u001b[0;32m    227\u001b[0m \u001b[38;5;66;03m# We need to use object.__setattr__ because we overwrite __setattr__ on\u001b[39;00m\n\u001b[0;32m    228\u001b[0m \u001b[38;5;66;03m# NDFrame\u001b[39;00m\n\u001b[0;32m    229\u001b[0m \u001b[38;5;28mobject\u001b[39m\u001b[38;5;241m.\u001b[39m\u001b[38;5;21m__setattr__\u001b[39m(obj, \u001b[38;5;28mself\u001b[39m\u001b[38;5;241m.\u001b[39m_name, accessor_obj)\n",
      "File \u001b[1;32mc:\\Users\\cruz\\AppData\\Local\\anaconda3\\envs\\Carbon_AI\\Lib\\site-packages\\pandas\\core\\strings\\accessor.py:191\u001b[0m, in \u001b[0;36mStringMethods.__init__\u001b[1;34m(self, data)\u001b[0m\n\u001b[0;32m    188\u001b[0m \u001b[38;5;28;01mdef\u001b[39;00m \u001b[38;5;21m__init__\u001b[39m(\u001b[38;5;28mself\u001b[39m, data) \u001b[38;5;241m-\u001b[39m\u001b[38;5;241m>\u001b[39m \u001b[38;5;28;01mNone\u001b[39;00m:\n\u001b[0;32m    189\u001b[0m     \u001b[38;5;28;01mfrom\u001b[39;00m \u001b[38;5;21;01mpandas\u001b[39;00m\u001b[38;5;21;01m.\u001b[39;00m\u001b[38;5;21;01mcore\u001b[39;00m\u001b[38;5;21;01m.\u001b[39;00m\u001b[38;5;21;01marrays\u001b[39;00m\u001b[38;5;21;01m.\u001b[39;00m\u001b[38;5;21;01mstring_\u001b[39;00m \u001b[38;5;28;01mimport\u001b[39;00m StringDtype\n\u001b[1;32m--> 191\u001b[0m     \u001b[38;5;28mself\u001b[39m\u001b[38;5;241m.\u001b[39m_inferred_dtype \u001b[38;5;241m=\u001b[39m \u001b[38;5;28;43mself\u001b[39;49m\u001b[38;5;241;43m.\u001b[39;49m\u001b[43m_validate\u001b[49m\u001b[43m(\u001b[49m\u001b[43mdata\u001b[49m\u001b[43m)\u001b[49m\n\u001b[0;32m    192\u001b[0m     \u001b[38;5;28mself\u001b[39m\u001b[38;5;241m.\u001b[39m_is_categorical \u001b[38;5;241m=\u001b[39m \u001b[38;5;28misinstance\u001b[39m(data\u001b[38;5;241m.\u001b[39mdtype, CategoricalDtype)\n\u001b[0;32m    193\u001b[0m     \u001b[38;5;28mself\u001b[39m\u001b[38;5;241m.\u001b[39m_is_string \u001b[38;5;241m=\u001b[39m \u001b[38;5;28misinstance\u001b[39m(data\u001b[38;5;241m.\u001b[39mdtype, StringDtype)\n",
      "File \u001b[1;32mc:\\Users\\cruz\\AppData\\Local\\anaconda3\\envs\\Carbon_AI\\Lib\\site-packages\\pandas\\core\\strings\\accessor.py:245\u001b[0m, in \u001b[0;36mStringMethods._validate\u001b[1;34m(data)\u001b[0m\n\u001b[0;32m    242\u001b[0m inferred_dtype \u001b[38;5;241m=\u001b[39m lib\u001b[38;5;241m.\u001b[39minfer_dtype(values, skipna\u001b[38;5;241m=\u001b[39m\u001b[38;5;28;01mTrue\u001b[39;00m)\n\u001b[0;32m    244\u001b[0m \u001b[38;5;28;01mif\u001b[39;00m inferred_dtype \u001b[38;5;129;01mnot\u001b[39;00m \u001b[38;5;129;01min\u001b[39;00m allowed_types:\n\u001b[1;32m--> 245\u001b[0m     \u001b[38;5;28;01mraise\u001b[39;00m \u001b[38;5;167;01mAttributeError\u001b[39;00m(\u001b[38;5;124m\"\u001b[39m\u001b[38;5;124mCan only use .str accessor with string values!\u001b[39m\u001b[38;5;124m\"\u001b[39m)\n\u001b[0;32m    246\u001b[0m \u001b[38;5;28;01mreturn\u001b[39;00m inferred_dtype\n",
      "\u001b[1;31mAttributeError\u001b[0m: Can only use .str accessor with string values!"
     ]
    }
   ],
   "source": [
    "#Select all rows ending with \"XX000000\", XX can be any number\n",
    "df_source = df_source[df_source['Code'].str.contains(r'\\d{2}000000$')]\n"
   ]
  },
  {
   "cell_type": "code",
   "execution_count": null,
   "metadata": {},
   "outputs": [],
   "source": []
  }
 ],
 "metadata": {
  "kernelspec": {
   "display_name": "Carbon_AI",
   "language": "python",
   "name": "python3"
  },
  "language_info": {
   "codemirror_mode": {
    "name": "ipython",
    "version": 3
   },
   "file_extension": ".py",
   "mimetype": "text/x-python",
   "name": "python",
   "nbconvert_exporter": "python",
   "pygments_lexer": "ipython3",
   "version": "3.12.1"
  }
 },
 "nbformat": 4,
 "nbformat_minor": 2
}
