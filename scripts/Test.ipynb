{
 "cells": [
  {
   "cell_type": "code",
   "execution_count": 9,
   "metadata": {},
   "outputs": [],
   "source": [
    "import pandas as pd\n"
   ]
  },
  {
   "cell_type": "code",
   "execution_count": 12,
   "metadata": {},
   "outputs": [],
   "source": [
    "with open(r\"C:\\Users\\cruz\" + r'\\API_openAI.txt', 'r') as f:\n",
    "    read_api_key = f.readline()"
   ]
  },
  {
   "cell_type": "code",
   "execution_count": 15,
   "metadata": {},
   "outputs": [
    {
     "name": "stdout",
     "output_type": "stream",
     "text": [
      "API Response: {'CO2e emitted': 430.0, 'CO2e_unit': 'kg CO2e', 'emission_factor': 0.43, 'emission_factor_unit': 'kg CO2e per euros spent', 'input': 'Ordinateur de bureau', 'output_category': 'MICRO-ORDINATEURS ET STATIONS DE TRAVAIL FIXES', 'output_class': 'INFORMATIQUE : ORDINATEURS FIXES', 'similarity_score': 0.84}\n"
     ]
    }
   ],
   "source": [
    "import requests\n",
    "\n",
    "# The URL where your Flask API is running\n",
    "api_url = \" http://127.0.0.1:5000/search\"\n",
    "\n",
    "# The data you want to send to the API (example values)\n",
    "data = {\n",
    "    \"input_string\": \"Ordinateur de bureau\",  # Example product description\n",
    "    \"input_price\": 1000,  # Example input price\n",
    "    \"API_key\": read_api_key\n",
    "}\n",
    "\n",
    "# Make a POST request to the API\n",
    "response = requests.post(api_url, json=data)\n",
    "\n",
    "# Check if the request was successful\n",
    "if response.status_code == 200:\n",
    "    # Get the JSON response data\n",
    "    result = response.json()\n",
    "    print(\"API Response:\", result)\n",
    "else:\n",
    "    print(\"Failed to call API:\", response.status_code, response.text)\n"
   ]
  },
  {
   "cell_type": "code",
   "execution_count": 18,
   "metadata": {},
   "outputs": [
    {
     "name": "stdout",
     "output_type": "stream",
     "text": [
      "Failed to call API: 500 <!doctype html>\n",
      "<html lang=en>\n",
      "<title>500 Internal Server Error</title>\n",
      "<h1>Internal Server Error</h1>\n",
      "<p>The server encountered an internal error and was unable to complete your request. Either the server is overloaded or there is an error in the application.</p>\n",
      "\n"
     ]
    }
   ],
   "source": [
    "import requests\n",
    "\n",
    "# The URL where your Flask API is running\n",
    "api_url = \" http://127.0.0.1:5000/search\"\n",
    "\n",
    "# The data you want to send to the API (example values)\n",
    "data = {\n",
    "    \"input_string\": \"Ordinateur de bureau\",  # Example product description\n",
    "    \"API_key\": read_api_key\n",
    "}\n",
    "\n",
    "# Make a POST request to the API\n",
    "response = requests.post(api_url, json=data)\n",
    "\n",
    "# Check if the request was successful\n",
    "if response.status_code == 200:\n",
    "    # Get the JSON response data\n",
    "    result = response.json()\n",
    "    print(\"API Response:\", result)\n",
    "else:\n",
    "    print(\"Failed to call API:\", response.status_code, response.text)\n"
   ]
  },
  {
   "cell_type": "code",
   "execution_count": null,
   "metadata": {},
   "outputs": [],
   "source": []
  }
 ],
 "metadata": {
  "kernelspec": {
   "display_name": "openai",
   "language": "python",
   "name": "python3"
  },
  "language_info": {
   "codemirror_mode": {
    "name": "ipython",
    "version": 3
   },
   "file_extension": ".py",
   "mimetype": "text/x-python",
   "name": "python",
   "nbconvert_exporter": "python",
   "pygments_lexer": "ipython3",
   "version": "3.12.1"
  }
 },
 "nbformat": 4,
 "nbformat_minor": 2
}
