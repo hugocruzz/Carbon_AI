{
 "cells": [
  {
   "cell_type": "code",
   "execution_count": 1,
   "metadata": {},
   "outputs": [
    {
     "name": "stderr",
     "output_type": "stream",
     "text": [
      "C:\\Users\\cruz\\AppData\\Local\\Temp\\ipykernel_23876\\328105812.py:1: DeprecationWarning: \n",
      "Pyarrow will become a required dependency of pandas in the next major release of pandas (pandas 3.0),\n",
      "(to allow more performant data types, such as the Arrow string type, and better interoperability with other libraries)\n",
      "but was not found to be installed on your system.\n",
      "If this would cause problems for you,\n",
      "please provide us feedback at https://github.com/pandas-dev/pandas/issues/54466\n",
      "        \n",
      "  import pandas as pd\n"
     ]
    }
   ],
   "source": [
    "import pandas as pd\n",
    "#set root directory to parent from this current directory\n",
    "import os\n",
    "os.chdir(os.path.dirname(os.getcwd()))\n",
    "import requests\n"
   ]
  },
  {
   "cell_type": "code",
   "execution_count": 3,
   "metadata": {},
   "outputs": [],
   "source": [
    "with open(r\"C:\\Users\\cruz\" + r'\\API_openAI.txt', 'r') as f:\n",
    "    read_api_key = f.readline()"
   ]
  },
  {
   "cell_type": "markdown",
   "metadata": {},
   "source": [
    "# Test local API "
   ]
  },
  {
   "cell_type": "code",
   "execution_count": 4,
   "metadata": {},
   "outputs": [],
   "source": [
    "data = {\n",
    "    \"product_description\": \"avion business\",  # Example product description\n",
    "    \"api_key\": read_api_key,\n",
    "    \"amount\": 1000,  # Example price\n",
    "    \"database_name\": \"mobitool\"  # Example database name\n",
    "}"
   ]
  },
  {
   "cell_type": "markdown",
   "metadata": {},
   "source": [
    "# Test local API"
   ]
  },
  {
   "cell_type": "code",
   "execution_count": 33,
   "metadata": {},
   "outputs": [
    {
     "name": "stdout",
     "output_type": "stream",
     "text": [
      "API Response: [{'CO2_emitted': 391385.80748096755, 'emission_factor': 391.38580748096757, 'emission_factor_unit': 'g CO2e/unite fonctionnelle', 'functional_unit': 'pkm', 'matched_category': 'Avion', 'matched_code': 'Transport de passagers Aérien Avion  Intercontinental, business', 'similarity_score': 0.84}, {'CO2_emitted': 189451.91908193487, 'emission_factor': 189.45191908193488, 'emission_factor_unit': 'g CO2e/unite fonctionnelle', 'functional_unit': 'pkm', 'matched_category': 'Avion', 'matched_code': 'Transport de passagers Aérien Avion  Intercontinental, economy', 'similarity_score': 0.84}, {'CO2_emitted': 237190.5832595212, 'emission_factor': 237.1905832595212, 'emission_factor_unit': 'g CO2e/unite fonctionnelle', 'functional_unit': 'pkm', 'matched_category': 'Avion', 'matched_code': 'Transport de passagers Aérien Avion  Intercontinental, moyenne', 'similarity_score': 0.84}]\n"
     ]
    }
   ],
   "source": [
    "# The URL where your Flask API is running\n",
    "api_url = \" http://127.0.0.1:5000/search\"\n",
    "\n",
    "# The data you want to send to the API (example values)\n",
    "data = {\n",
    "    \"product_description\": \"avion\",  # Example product description\n",
    "    \"api_key\": read_api_key,\n",
    "    \"amount\": 1000,  # Example price\n",
    "    \"database_name\": \"mobitool\",  # Example database name\n",
    "    \"top_n\": 3  # Example top_n value\n",
    "}\n",
    "\n",
    "# Make a POST request to the API\n",
    "response = requests.post(api_url, json=data)\n",
    "\n",
    "# Check if the request was successful\n",
    "if response.status_code == 200:\n",
    "    # Get the JSON response data\n",
    "    result = response.json()\n",
    "    print(\"API Response:\", result)\n",
    "else:\n",
    "    print(\"Failed to call API:\", response.status_code, response.text)\n"
   ]
  },
  {
   "cell_type": "code",
   "execution_count": 34,
   "metadata": {},
   "outputs": [
    {
     "data": {
      "text/plain": [
       "[{'CO2_emitted': 391385.80748096755,\n",
       "  'emission_factor': 391.38580748096757,\n",
       "  'emission_factor_unit': 'g CO2e/unite fonctionnelle',\n",
       "  'functional_unit': 'pkm',\n",
       "  'matched_category': 'Avion',\n",
       "  'matched_code': 'Transport de passagers Aérien Avion  Intercontinental, business',\n",
       "  'similarity_score': 0.84},\n",
       " {'CO2_emitted': 189451.91908193487,\n",
       "  'emission_factor': 189.45191908193488,\n",
       "  'emission_factor_unit': 'g CO2e/unite fonctionnelle',\n",
       "  'functional_unit': 'pkm',\n",
       "  'matched_category': 'Avion',\n",
       "  'matched_code': 'Transport de passagers Aérien Avion  Intercontinental, economy',\n",
       "  'similarity_score': 0.84},\n",
       " {'CO2_emitted': 237190.5832595212,\n",
       "  'emission_factor': 237.1905832595212,\n",
       "  'emission_factor_unit': 'g CO2e/unite fonctionnelle',\n",
       "  'functional_unit': 'pkm',\n",
       "  'matched_category': 'Avion',\n",
       "  'matched_code': 'Transport de passagers Aérien Avion  Intercontinental, moyenne',\n",
       "  'similarity_score': 0.84}]"
      ]
     },
     "execution_count": 34,
     "metadata": {},
     "output_type": "execute_result"
    }
   ],
   "source": [
    "result"
   ]
  },
  {
   "cell_type": "code",
   "execution_count": null,
   "metadata": {},
   "outputs": [],
   "source": []
  }
 ],
 "metadata": {
  "kernelspec": {
   "display_name": "openai",
   "language": "python",
   "name": "python3"
  },
  "language_info": {
   "codemirror_mode": {
    "name": "ipython",
    "version": 3
   },
   "file_extension": ".py",
   "mimetype": "text/x-python",
   "name": "python",
   "nbconvert_exporter": "python",
   "pygments_lexer": "ipython3",
   "version": "3.12.1"
  }
 },
 "nbformat": 4,
 "nbformat_minor": 2
}
